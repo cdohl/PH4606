{
 "cells": [
  {
   "cell_type": "markdown",
   "metadata": {
    "donotlatex": true,
    "hide_input": true
   },
   "source": [
    "$$\\newcommand{\\fudm}[2]{\\frac{\\mathrm{D} #1}{\\mathrm{D} #2}}\n",
    "\\newcommand{\\pad}[2]{\\frac{\\partial #1}{\\partial #2}}\n",
    "\\newcommand{\\ppad}[2]{\\frac{\\partial^2 #1}{\\partial #2^2}}\n",
    "\\newcommand{\\ppadd}[3]{\\frac{\\partial^2 #1}{\\partial #2 \\partial #3}}\n",
    "\\newcommand{\\nnabla}{\\nabla^2}\n",
    "\\newcommand{\\eps}{\\epsilon}\n",
    "\\newcommand{\\vdetail}[1]{\\vb{#1}=\\begin{pmatrix}#1_1\\\\#1_2\\\\#1_3\\end{pmatrix}}\n",
    "\\newcommand{\\vb}[1]{\\mathbf{#1}}\n",
    "\\newcommand{\\va}[1]{\\vec{#1}}\n",
    "\\newcommand{\\tb}[1]{\\underline{\\underline{\\mathbf{#1}}}}\n",
    "\\newcommand{\\fud}[2]{\\frac{\\mathrm{d} #1}{\\mathrm{d} #2}}$$"
   ]
  },
  {
   "cell_type": "markdown",
   "metadata": {},
   "source": [
    "# Medical Imaging"
   ]
  },
  {
   "cell_type": "code",
   "execution_count": 14,
   "metadata": {
    "collapsed": false
   },
   "outputs": [
    {
     "data": {
      "text/html": [
       "\n",
       "        <iframe\n",
       "            width=\"800\"\n",
       "            height=\"600\"\n",
       "            src=\"https://www.youtube.com/embed/hH7FspvTI9I\"\n",
       "            frameborder=\"0\"\n",
       "            allowfullscreen\n",
       "        ></iframe>\n",
       "        "
      ],
      "text/plain": [
       "<IPython.lib.display.YouTubeVideo at 0xb14a668>"
      ]
     },
     "execution_count": 14,
     "metadata": {},
     "output_type": "execute_result"
    }
   ],
   "source": [
    "YouTubeVideo(\"hH7FspvTI9I\",width=800, height=600)"
   ]
  },
  {
   "cell_type": "markdown",
   "metadata": {},
   "source": [
    "Modern ultrasonic scanners resemble personal computers with hard drives, internet connection and integrated peripheral devices. They are connected to ultrasonic probes.\n",
    "\n",
    "<img src=\"images/picUSscanner.jpg\" width=400> <p>\n",
    "<a id='fig1'><center> Figure 8.1: Picture of a diagnostic ultrasound device.</center></a>\n",
    "\n",
    "\n",
    "<img src=\"images/sketchUSscanner.png\" width=600> <p>\n",
    "<a id='fig2'><center> Figure 8.2: Ultrasound scanner with a) Monitor, b) Manual controls, c) several probes, d) backup on DVD, e) printer.</center></a>\n",
    "\n",
    "<img src=\"images/blocksUSscanner.png\" width=600> <p>\n",
    "<a id='fig3'><center> Figure 8.3: Functional blocks of an US scanner</center></a>\n"
   ]
  },
  {
   "cell_type": "code",
   "execution_count": 13,
   "metadata": {
    "collapsed": false
   },
   "outputs": [
    {
     "data": {
      "text/html": [
       "\n",
       "        <iframe\n",
       "            width=\"800\"\n",
       "            height=\"600\"\n",
       "            src=\"https://www.youtube.com/embed/JqVGgq5bE-Y\"\n",
       "            frameborder=\"0\"\n",
       "            allowfullscreen\n",
       "        ></iframe>\n",
       "        "
      ],
      "text/plain": [
       "<IPython.lib.display.YouTubeVideo at 0xb14a7f0>"
      ]
     },
     "execution_count": 13,
     "metadata": {},
     "output_type": "execute_result"
    }
   ],
   "source": [
    "from IPython.display import YouTubeVideo\n",
    "YouTubeVideo(\"JqVGgq5bE-Y\",width=800, height=600)"
   ]
  },
  {
   "cell_type": "markdown",
   "metadata": {},
   "source": [
    "## A-mode scanning\n",
    "\n",
    "A single beam display methode, the A-mode where A stands for amplitude, is the simplest form of a scanner. The scanner receives the reflection from a single burst of ultrasound and displays it along a line on a display.\n",
    "\n",
    "<img src=\"images/amode.png\" width=400> <p>\n",
    "<a id='fig2'><center> Figure 8.4: A-mode scanning of for an example an a) eye. b) radio frequency (RF) data, c) Hilbert transformed data b) Manual controls, c) several probes, d) backup on DVD, e) printer.</center></a>\n",
    "\n",
    "Consider that the speed of sound in the medium is not changing we can relate the time axis with the depth axis $z$, e.g. \n",
    "\n",
    "\\begin{equation}\n",
    "d=\\frac{c t}{2 PRF}\n",
    "\\end{equation}\n",
    "\n",
    "\n",
    "$d$ is the maximum depth, $PRF$ the pulse repetition frequency, and the factor 2 comes from forth and back propagation of the beam. The most commonly used mean diagnostic ultrasound speed is $c=1540\\,$m/s. Thus to increase the depth the $PRF$ has to be decreased.\n",
    "\n",
    "Figure 8.4 depicts the steps in generating the A mode picture:\n",
    "\n",
    "* (a) orientation of the US scan head\n",
    "* (b) radio frequency data from the scan head\n",
    "* (c) envelope of the RF calculated with the Hilbert transform (see code below)\n",
    "* (d) time gain compensation (TGC) to account for geometrical and absorption losses.\n",
    "* (e) A-mode diagram\n",
    "* (f) 1-dimensional B-mode\n",
    "\n",
    "The Hilbert transform allows to calculate the remove a fast oscillating frequency (the RF data) from a signal and keep the slowly varying envelope. Some information on the Hilbert transform is [given here](http://complextoreal.com/wp-content/uploads/2013/01/tcomplex.pdf) and an example code below.\n",
    "\n",
    "Your turn:\n",
    "* Study the program.\n",
    "* Identify which signal is representing the RF data and which the depth signal\n",
    "* Would higher carrier frequencies improve the A mode signal? Explain."
   ]
  },
  {
   "cell_type": "code",
   "execution_count": 18,
   "metadata": {
    "collapsed": false
   },
   "outputs": [
    {
     "data": {
      "image/png": "[encoded data removed]",
      "text/plain": [
       "<matplotlib.figure.Figure at 0x13345828>"
      ]
     },
     "metadata": {},
     "output_type": "display_data"
    }
   ],
   "source": [
    "%matplotlib inline\n",
    "import math as m\n",
    "import numpy as np\n",
    "import matplotlib.pyplot as plt\n",
    "import scipy.signal as sig #this contains the Hilbert transform\n",
    "from ipywidgets import widgets\n",
    "\n",
    "def pltenvelope(f1,f2):\n",
    "    t=np.linspace(0.,5.,500)\n",
    "    y=np.sin(f1*t*np.pi)*np.sin(f2*t*np.pi)\n",
    "    plt.plot(t,y)\n",
    "    hilbert=np.imag(sig.hilbert(y))\n",
    "    plt.plot(t,np.sqrt(y**2+hilbert**2));\n",
    "    plt.show()\n",
    "\n",
    "widgets.interact(pltenvelope,\\\n",
    "                 f1=widgets.FloatSlider(min=1.,max=20.,step=.25,value=10.,description='carrier frequency'),\\\n",
    "                 f2=widgets.FloatSlider(min=.1,max=1,step=.05,value=.3,description='modulation frequency'));\n"
   ]
  },
  {
   "cell_type": "markdown",
   "metadata": {},
   "source": [
    "## B-mode scanning\n",
    "\n",
    "If in the image the pixels are displayed with the brightness corresponding to the strength of the reflected signal we obtain the B-mode display where B stands for brightness. Here, the brightness is also adjusted with the TGC. Typically B mode images are 2d images where the azimuthal axis of the scan head is along the horizontal axis and the depth axis on the vertical.\n",
    "\n",
    "<img src=\"images/gallbladderBmode.jpg\" width=600> <p>\n",
    "<a id='fig5'><center> Figure 8.5: B-mode image.</center></a>\n",
    "\n",
    "Your turn:\n",
    "* Try to identify object(s) which may cause some trouble in the B-mode scan in Fig. 8.5\n",
    "* Estimate a typical frame rates for B-mode scanning\n"
   ]
  },
  {
   "cell_type": "markdown",
   "metadata": {},
   "source": [
    "## M-mode scanning\n",
    "\n",
    "\n",
    "In M-mode (M stands for motion) the echos from a single beam direction is displayed as a function of time on the horizontal. This has the advantage that at very high time resolution is achieved, up to 1kHz which allows to visualize the motion of a heart valves. \n",
    "\n",
    "<img src=\"images/sketchMmode.png\" width=500> <p>\n",
    "<a id='fig6'><center> Figure 8.6: Sketch of M-mode working principle.</center></a>\n",
    "\n",
    "<img src=\"images/example mmode.jpg\" width=600> <p>\n",
    "<a id='fig7'><center> Figure 8.7: Example of the M-mode working principle.</center></a>\n",
    "\n"
   ]
  },
  {
   "cell_type": "markdown",
   "metadata": {},
   "source": [
    "## Beamsteering\n",
    "\n",
    "Figure 8.8 shows how we can obtain controlled steering of the beam by using six crystal elements during transmission with a short time delay between separate transmission pulses. A typical number of elements is 64.\n",
    "\n",
    "<img src=\"images/beamsteering.png\" width=500> <p>\n",
    "<a id='fig8'><center> Figure 8.8: Electronic beamsteering with 6 elements.</center></a>\n",
    "\n",
    "Figure 8.8a depicts a constant phase leading to a plane wave travelling normal to the scan head, while Fig. 8.8b introduces a fixed delay between neighboring transducers.\n",
    "\n",
    "Your turn\n",
    "* Design a scan head that has a single lobe within $\\pm 30^\\circ$ with 64 transducers operating at $4\\,$MHz. What range of time delays to you need? What is the maximum framing rate in B-mode if you want to resolve 32 aximuthal lines and a depth of $100\\,$mm.\n",
    "\n",
    "\n",
    "## Examples of scan heads\n",
    "\n",
    "<img src=\"images/USscanheads.png\" width=500> <p>\n",
    "<a id='fig9'><center> Figure 8.9: Scanheads a) linear array for 11MHz, b) curvelinear array at 4MHz, and 5MHz 1.5D matrix phase array.</center></a>\n"
   ]
  },
  {
   "cell_type": "markdown",
   "metadata": {},
   "source": [
    "## Doppler Methods\n",
    "\n",
    "If the sound source is emitting at a frequency $f$ is moving with a velocity $v_s$ towrads the audience at rest, the wavelength is reduced to \n",
    "\n",
    "\\begin{equation}\n",
    "\\lambda'=\\frac{c-v_s}{f}\n",
    "\\end{equation}\n",
    "\n",
    "Hence the frequency measured is \n",
    "\n",
    "\\begin{equation}\n",
    "f'=\\frac{f}{1-\\frac{v_s}{c}}\n",
    "\\end{equation}\n",
    "\n",
    "If the source moves away from the receiver $v_s$ is negative.\n",
    "\n",
    "If the receiver is moving at a velocity $v_r$ towards the sound source, the frequency experienced is\n",
    "\n",
    "\\begin{equation}\n",
    "f'=\\frac{c+v_r}{\\lambda}=\\left(1+\\frac{v_r}{c}\\right) f\n",
    "\\end{equation}\n",
    "\n",
    "The frequency detected from the US scan head for a scattering object moving relative to the scan head contains both contributions. The frequency shift $f_D=f'-f$ is called the Doppler shift. This can be btained from above equations as\n",
    "\n",
    "\\begin{equation}\n",
    "f_D=\\frac{2\\frac{v}{c}\\cos\\Theta}{1-\\frac{v}{c}\\cos \\Theta}\\,f\n",
    "\\end{equation}\n",
    "\n",
    "where v is the magnitude of the velocity of the blood, c is the speed sound, and $\\Theta$ the angle between the US beam and the blood flow direction. Since $c\\ll v$ \n",
    "\n",
    "\\begin{equation}\n",
    "f_D=2 \\, f \\,\\frac{v}{c} \\cos\\Theta\n",
    "\\end{equation}\n",
    "\n",
    "The doppler shift is positive if $f_D$ is towards the US probe and negative if it is away.\n",
    "\n",
    "Below you can explore the dependency of the Doppler frequency from the angle $\\Theta$ and the scanner frequency:"
   ]
  },
  {
   "cell_type": "code",
   "execution_count": 7,
   "metadata": {
    "collapsed": false,
    "scrolled": true
   },
   "outputs": [
    {
     "data": {
      "image/png": "[encoded data removed]",
      "text/plain": [
       "<matplotlib.figure.Figure at 0xb9a86a0>"
      ]
     },
     "metadata": {},
     "output_type": "display_data"
    }
   ],
   "source": [
    "%matplotlib inline\n",
    "import math as m\n",
    "import numpy as np\n",
    "import matplotlib.pyplot as plt\n",
    "from ipywidgets import widgets\n",
    "\n",
    "def pltdoppler(theta,f):\n",
    "    f=f*1e6\n",
    "    c=1540.\n",
    "    v=np.linspace(0.,5.,500)\n",
    "    vcos=v*np.cos(theta*np.pi/180.)\n",
    "    vcosoc=vcos/c\n",
    "    fd=2*vcosoc/(1-vcosoc)*f\n",
    "    plt.plot(v,fd)\n",
    "    plt.xlabel('v (m/s)')\n",
    "    plt.ylabel('f Doppler (Hz)')\n",
    "    plt.show()\n",
    "\n",
    "widgets.interact(pltdoppler,\\\n",
    "                 theta=widgets.FloatSlider(min=0.,max=90,step=5,value=30.,description='Theta'),\\\n",
    "                 f=widgets.FloatSlider(min=.5,max=15,step=.5,value=4,description='frequency in MHz'));\n"
   ]
  },
  {
   "cell_type": "markdown",
   "metadata": {
    "collapsed": true
   },
   "source": [
    "\n",
    "\n",
    "### Single-beam Doppler methods\n",
    "Here a the Doppler shift is registered from one Doppler beam. The Doppler signal is typically in the audible range and can be listen to via a loudspeaker.\n",
    "\n",
    "<img src=\"images/sketchDoppler.png\" width=500> <p>\n",
    "<a id='fig10'><center> Figure 8.10: a) Continuous wave Doppler (CWD), b) pulsed wave Doppler (PWD), c) high pulse repetition frequency Doppler (HPRF).</center></a>\n",
    "\n",
    "### Continuous wave Doppler\n",
    "\n",
    "<img src=\"images/CWDoppler.jpg\" width=500> <p>\n",
    "<a id='fig11'><center> Figure 8.11: Continuous wave Doppler (CWD), note the measurement of high velocities of up to 4 m/s.</center></a>\n",
    "\n",
    "In continuous wave Doppler (CDW) mode the transmit elements send a continuous ultrasound signal and a separate receiver element detects the reflected and Doppler shifted signal. The CWD mode is sensitive to the grayed area in Fig. 8.10 a).\n",
    "\n",
    "### Pulsed wave Doppler\n",
    "\n",
    "<img src=\"images/pulsedDoppler.jpg\" width=500> <p>\n",
    "<a id='fig12'><center> Figure 8.12: Pulsed wave Doppler (PWD).</center></a>\n",
    "\n",
    "In pulsed wave Doppler (PWD) mode the transmitting and receiving elements are the same as used for example in B-mode imaging. A short pulse of about 6-12 cycles is transmitted with a pulse repetition frequency of 5-15kHz. The receiver is opened (gated) for a short time window to limit the sample volume, see Fig. 8.10. Because the frequency resolution is tight to the sampling frequency and the Doppler frequency is sampled with the PRF the maximum frequency which can be measured is\n",
    "\n",
    "\\begin{equation}\n",
    "f_{D,max}=\\frac{PRF}{2} \\quad ,\n",
    "\\end{equation}\n",
    "\n",
    "where the denominator is due to [Nyquist theorem](https://en.wikipedia.org/wiki/Nyquist–Shannon_sampling_theorem). \n",
    "\n",
    "The maximum PRF is related to the depth $R_{max}$ range the maximum velocity one can measure with PWD mode is\n",
    "\n",
    "\\begin{equation}\n",
    "v_{max}=\\frac{c^2}{8 f_0 R_{max}} \\quad ,\n",
    "\\end{equation}\n",
    "\n",
    "Your turn\n",
    "* Derive above expression.\n",
    "\n",
    "### High pulse repetition frequency Doppler (HPRF)\n",
    "\n",
    "Here the next pulse is transmitted before the echoes from the first sample volume have been registered. Here the radiologist needs to be careful with the placement of the depth volume. Figure 8.10 c) depicts HPRF Doppler where only inside the artery the velocity is sampled. \n",
    "\n",
    "### Color Doppler \n",
    "\n",
    "With many sample volumes along the beam many Doppler scan line processor channels are needed in parallel. Sweeping the beam with multiple sample volumes gives velocity information in a 2D area. The mean velocity is the converted to a color code and overlayed on the grayscale B-mode image. This method is called color Doppler (CD). Typically the resolution for color Doppler is lower than for B-mode as a larger beam width (sample volume) is required for getting sufficient echoe strength from moving blood. Color Doppler may be affected already at normal arterial velocities from the Nyquist limit. \n",
    "\n",
    "<img src=\"images/colorDoppler.jpg\" width=500> <p>\n",
    "<a id='fig13'><center> Figure 8.13: Color Doppler of the liver.</center></a>\n"
   ]
  },
  {
   "cell_type": "code",
   "execution_count": null,
   "metadata": {
    "collapsed": true
   },
   "outputs": [],
   "source": []
  }
 ],
 "metadata": {
  "kernelspec": {
   "display_name": "Python 2",
   "language": "python",
   "name": "python2"
  },
  "language_info": {
   "codemirror_mode": {
    "name": "ipython",
    "version": 2
   },
   "file_extension": ".py",
   "mimetype": "text/x-python",
   "name": "python",
   "nbconvert_exporter": "python",
   "pygments_lexer": "ipython2",
   "version": "2.7.10"
  },
  "latex_metadata": {
   "affiliation": "SPMS/PAP, NTU, Singapore",
   "author": "Claus-Dieter Ohl",
   "title": "PH4606 - Lecture 6"
  }
 },
 "nbformat": 4,
 "nbformat_minor": 0
}
