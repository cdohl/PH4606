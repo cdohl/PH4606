{
 "cells": [
  {
   "cell_type": "markdown",
   "metadata": {},
   "source": [
    "# Project 1: Reverberation of rooms\n",
    "\n",
    "Work individually or in groups of maximum 2. If you formed a group you must write indvidiudal reports. Only the data can be shared, data analysis and all text must be independently written up.\n",
    "The reports may be written in electronic format using Word, Latex, or even Jupyter. Hand in time is 20th of February before the lecture.\n",
    "\n",
    " \n",
    "## Objective\n",
    "Study the reverabration of 3 rooms with an impulsive sound source and measure the reflection and decay of the signal.\n",
    "\n",
    "1. Measure the distance from the audiosignal to the nearest wall. Think about what is the speed of sound (dependent on gas and temperture). Compare with the room. Can you identify reflections from different walls?\n",
    "2. Lookup the definition of *reverberation time*. Measure the reverbration time from your signals. Discuss the different reverberations times for the different rooms.\n",
    "3. Write a report of minimum 5 pages where you present your findings to the above questions, your methodology, add in pictures of the rooms. You need to provide references of the materials used.\n",
    "\n",
    "\n",
    "## Notes\n",
    "\n",
    "### Sound sources\n",
    "The shorter the duration of the impulsive sound source, the easier to distinquish the reflection. Exploding air balloon or paper bag or a loud clap with hands. \n",
    "\n",
    "### Software to record the sound\n",
    "\n",
    "You may use [Audacity](http://www.audacityteam.org/) for recording of the sound fields, cropping and exporting. Sure there are more ways to record audio\n",
    "\n",
    "### Software to plot/analyse the sound waves\n",
    "You may use matlab or python. Below is a sample script to read in a mono 16bit wav file from a clap recorded with audicity (mono) and exported.\n"
   ]
  },
  {
   "cell_type": "code",
   "execution_count": 6,
   "metadata": {
    "collapsed": false
   },
   "outputs": [
    {
     "data": {
      "image/png": "[encoded data removed]",
      "text/plain": [
       "<matplotlib.figure.Figure at 0x104191550>"
      ]
     },
     "metadata": {},
     "output_type": "display_data"
    }
   ],
   "source": [
    "#boilerplate to have the right functions available\n",
    "%matplotlib inline\n",
    "import matplotlib.pyplot as plt #plotting\n",
    "import numpy as np #array functions\n",
    "import wave #for loading audio files\n",
    "\n",
    "spf = wave.open('../data/clap.wav','r')\n",
    "\n",
    "#Extract Raw Audio from Wav File\n",
    "signal = spf.readframes(-1)\n",
    "signal = np.fromstring(signal, 'Int16')\n",
    "\n",
    "#generat a time axis\n",
    "time = np.linspace(0., float(signal.size)/spf.getframerate(), signal.size)\n",
    "\n",
    "#plot the signal\n",
    "plt.plot(time, signal)\n",
    "plt.xlabel(\"time (s)\")\n",
    "plt.ylabel(\"signal (a.u.)\");"
   ]
  },
  {
   "cell_type": "code",
   "execution_count": 3,
   "metadata": {
    "collapsed": false
   },
   "outputs": [
    {
     "data": {
      "text/plain": [
       "array([ 0.,  0.,  0., ...,  0.,  0.,  0.])"
      ]
     },
     "execution_count": 3,
     "metadata": {},
     "output_type": "execute_result"
    }
   ],
   "source": [
    "time"
   ]
  },
  {
   "cell_type": "code",
   "execution_count": 4,
   "metadata": {
    "collapsed": false
   },
   "outputs": [
    {
     "data": {
      "text/plain": [
       "14336"
      ]
     },
     "execution_count": 4,
     "metadata": {},
     "output_type": "execute_result"
    }
   ],
   "source": [
    "signal.size"
   ]
  },
  {
   "cell_type": "code",
   "execution_count": null,
   "metadata": {
    "collapsed": true
   },
   "outputs": [],
   "source": []
  }
 ],
 "metadata": {
  "kernelspec": {
   "display_name": "Python 2",
   "language": "python",
   "name": "python2"
  },
  "language_info": {
   "codemirror_mode": {
    "name": "ipython",
    "version": 2
   },
   "file_extension": ".py",
   "mimetype": "text/x-python",
   "name": "python",
   "nbconvert_exporter": "python",
   "pygments_lexer": "ipython2",
   "version": "2.7.12"
  }
 },
 "nbformat": 4,
 "nbformat_minor": 0
}
