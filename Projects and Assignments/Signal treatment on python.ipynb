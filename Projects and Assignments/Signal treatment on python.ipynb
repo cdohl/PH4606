{
 "cells": [
  {
   "cell_type": "markdown",
   "metadata": {},
   "source": [
    "## Signal treatment on Python"
   ]
  },
  {
   "cell_type": "markdown",
   "metadata": {},
   "source": [
    "### Let's create an artificial signal composed of a cosinusoidal signal ($F1 = 10$) and a sinusoidal signal ($F2 =60$)."
   ]
  },
  {
   "cell_type": "code",
   "execution_count": null,
   "metadata": {
    "collapsed": false
   },
   "outputs": [],
   "source": [
    "#boilerplate to have the right functions available\n",
    "%matplotlib inline\n",
    "import matplotlib.pyplot as plt #plotting\n",
    "import numpy as np #array functions\n",
    "import scipy.fftpack \n",
    "import pylab\n",
    "from matplotlib import mlab\n",
    "pylab.rcParams['figure.figsize'] = (10, 6)\n",
    "pylab.rcParams['font.size'] = 15\n",
    "\n",
    "L = 1. #length signal\n",
    "F = 5.e2 # Sample frequency \n",
    "N = L*F # number of samples\n",
    "\n",
    "f1 = 10.\n",
    "f2 = 60.\n",
    "\n",
    "\n",
    "t = np.linspace(0, L, L*F)\n",
    "\n",
    "Sigcos = np.cos(2.*np.pi*f1*t)\n",
    "Sigsin = np.sin(2.*np.pi*f2*t)\n",
    "\n",
    "Sig = Sigsin + Sigcos;\n",
    "\n",
    "plt.figure(figsize=(10,5))\n",
    "plt.plot(t,Sig);\n",
    "plt.title(\"Artificial signal\")\n",
    "plt.xlabel(\"time (s)\")\n",
    "plt.ylabel(\"signal (a.u.)\");\n",
    "plt.xlim(0,1.)\n",
    "plt.ylim(-2.1,2.1);\n"
   ]
  },
  {
   "cell_type": "markdown",
   "metadata": {},
   "source": [
    "## We calculate the Fourier transform of our signal.\n",
    "\n",
    "I.E we convert the signal from the time domain to its representation in the frequency domain. We use a Fast Fourier Transform algorithm.\n",
    "\n",
    "https://docs.scipy.org/doc/numpy/reference/routines.fft.html#module-numpy.fft\n",
    "\n",
    "#### Nyquist–Shannon sampling theorem:\n",
    "\n",
    "To fully resolve a signal containing no frequencies higher than $F_{max}$ hertz, we need to sample it with a frequency $F_s \\ge 2* F_{max}$\n",
    "\n"
   ]
  },
  {
   "cell_type": "code",
   "execution_count": null,
   "metadata": {
    "collapsed": false
   },
   "outputs": [],
   "source": [
    "Sigf = np.fft.fft(Sig) # Fast Fourier Transform of the signal\n",
    "#xf = np.linspace(0.0, F, N) # for showing\n",
    "xf = np.linspace(0.0, F/2., N/2.) # frequency array as x axis (0 to F/2 with N/2 points due to symmetry \n",
    "\n",
    "plt.figure(figsize=(10,5))\n",
    "#plt.plot(xf, (Sigf[:N])); # for showing importance of normalizing \n",
    "#plt.plot(xf, 2.0/N * np.abs(Sigf[:N])); # for showing Nyquist\n",
    "plt.plot(xf, 2.0/N * np.abs(Sigf[:N//2]));\n",
    "#plt.xlim(0,100);\n",
    "#plt.ylim(0,1.1);\n",
    "plt.title(\"Fourier Transform\")\n",
    "plt.xlabel(\"frequency (Hz)\")\n",
    "plt.ylabel(\"Amplitude (a.u.)\");"
   ]
  },
  {
   "cell_type": "markdown",
   "metadata": {},
   "source": [
    "#### We find two peaks for $F1$ and $F2$."
   ]
  },
  {
   "cell_type": "markdown",
   "metadata": {},
   "source": [
    "### We can make our signal look more complicated by adding some whitenoise and calculate the FFT."
   ]
  },
  {
   "cell_type": "code",
   "execution_count": null,
   "metadata": {
    "collapsed": false
   },
   "outputs": [],
   "source": [
    "mean = 0 # White noise mean\n",
    "std = 1 # White noise standard deviation\n",
    "N_WN = N # number of points \n",
    "WN = np.random.normal(mean, std, size=N_WN)\n",
    "\n",
    "Sig_WN = Sig + WN\n",
    "\n",
    "plt.figure(figsize=(10,5))\n",
    "plt.plot(t,Sig_WN);\n",
    "plt.title(\"Artificial signal with White noise\")\n",
    "plt.xlabel(\"time (s)\")\n",
    "plt.ylabel(\"signal (a.u.)\");\n",
    "plt.xlim(0,1.);\n",
    "plt.ylim(-5.,5.);\n",
    "\n",
    "Sigf_WN = np.fft.fft(Sig_WN) # Fast Fourier Transform of the signal\n",
    "xf = np.linspace(0.0, F/2., N/2.) # frequency array as x axis\n",
    "\n",
    "plt.figure(figsize=(10,5))\n",
    "plt.plot(xf, 2.0/N * np.abs(Sigf_WN[:N//2]));\n",
    "#plt.xlim(0,100);\n",
    "plt.ylim(0,1.1);\n",
    "plt.title(\"Fourier Transform of Signal with White noise\")\n",
    "plt.xlabel(\"frequency (Hz)\")\n",
    "plt.ylabel(\"Amplitude (a.u.)\");"
   ]
  },
  {
   "cell_type": "markdown",
   "metadata": {},
   "source": [
    "### Some interesting functions "
   ]
  },
  {
   "cell_type": "code",
   "execution_count": null,
   "metadata": {
    "collapsed": false
   },
   "outputs": [],
   "source": [
    "print np.min(Sig_WN) # minimum value\n",
    "print np.max(Sig_WN) # maximum value\n",
    "print np.mean(Sig_WN) # mean value"
   ]
  },
  {
   "cell_type": "markdown",
   "metadata": {},
   "source": [
    "## Spectrogram \n",
    "\n",
    "http://matplotlib.org/api/mlab_api.html#matplotlib.mlab.specgram\n",
    "\n",
    "Pxx, freqs, bins, im = plt.specgram(x, NFFT=None, Fs=None, window=None, noverlap=None)\n",
    "\n",
    "Pxx = columns are the periodograms of successive segments\n",
    "\n",
    "freqs = The frequencies corresponding to the rows in spectrum\n",
    "\n",
    "bins = The times corresponding to midpoints of segments\n",
    "\n",
    "NFFT = size of windows / number of data points used in each block for the FFT, A power 2 is most efficient\n",
    "\n",
    "Fs = sample frequency \n",
    "\n",
    "window = Type of window use \n",
    "\n",
    "noverlap = The number of points of overlap between blocks, common value is NFFT/2\n",
    "\n",
    "\n",
    "You have to try yourself to find which parameters suit the best your experiment. but remember; the larger the window size, the better frequency resolution, but the time localization is poor. Similarly, the smaller the window size, the better localization but the frequency resolution is poor. \n",
    " \n",
    "\n",
    "### \"specgram\" actually plots 10 * log10(Pxx)"
   ]
  },
  {
   "cell_type": "code",
   "execution_count": null,
   "metadata": {
    "collapsed": false
   },
   "outputs": [],
   "source": [
    "NFFT1 = 64\n",
    "\n",
    "plt.figure(figsize=(10,5))\n",
    "Pxx1, freqs1, bins1, im1 = plt.specgram(Sig_WN, Fs = F)\n",
    "plt.title(\"Spectrogram of Signal with White noise, Default values\")\n",
    "plt.ylabel('Frequency [Hz]')\n",
    "plt.xlabel('Time [sec]');\n",
    "plt.xlim(0,1);\n",
    "\n",
    "plt.figure(figsize=(10,5))\n",
    "plt.pcolormesh(bins1, freqs1, 10 * np.log10(Pxx1));\n",
    "plt.title(\"pcolormesh\")\n",
    "plt.ylabel('Frequency [Hz]')\n",
    "plt.xlabel('Time [sec]');\n",
    "plt.xlim(0,1);\n",
    "\n",
    "plt.figure(figsize=(10,5))\n",
    "Pxx2, freqs2, bins2, im2 = plt.specgram(Sig_WN, NFFT = NFFT1, Fs = F, noverlap=NFFT1/2.)\n",
    "plt.title(\"Spectrogram of Signal with White noise, NFFT = 64, no overlap\")\n",
    "plt.ylabel('Frequency [Hz]')\n",
    "plt.xlabel('Time [sec]');\n",
    "plt.xlim(0,1);\n",
    "\n",
    "plt.figure(figsize=(10,5))\n",
    "plt.pcolormesh(bins2, freqs2, 10 * np.log10(Pxx2));\n",
    "plt.title(\"pcolormesh\")\n",
    "plt.ylabel('Frequency [Hz]')\n",
    "plt.xlabel('Time [sec]');\n",
    "plt.xlim(0,1);"
   ]
  },
  {
   "cell_type": "markdown",
   "metadata": {},
   "source": [
    "### It shows a greater interest when frequencies are time-dependent \n",
    "\n",
    "Example found on: \n",
    "https://docs.scipy.org/doc/scipy-0.16.0/reference/generated/scipy.signal.spectrogram.html"
   ]
  },
  {
   "cell_type": "code",
   "execution_count": null,
   "metadata": {
    "collapsed": false
   },
   "outputs": [],
   "source": [
    "fs = 10e3\n",
    "N = 1e5\n",
    "amp = 2 * np.sqrt(2)\n",
    "noise_power = 0.001 * fs / 2\n",
    "time = np.arange(N) / fs\n",
    "freq = np.linspace(1e3, 2e3, N)\n",
    "x = amp * np.sin(2*np.pi*freq*time)\n",
    "x += np.random.normal(scale=np.sqrt(noise_power), size=time.shape)\n",
    "\n",
    "plt.figure(figsize=(10,5))\n",
    "Pxx0, freqs0, bins0, im0 = plt.specgram(x,  Fs = fs)\n",
    "plt.title(\"Time-dependent frequencies\")\n",
    "plt.ylabel('Frequency [Hz]')\n",
    "plt.xlabel('Time [sec]');"
   ]
  },
  {
   "cell_type": "markdown",
   "metadata": {},
   "source": [
    "## Power Spectral Density \n",
    "\n",
    "http://matplotlib.org/api/pyplot_api.html#matplotlib.pyplot.psd\n",
    "\n",
    "#### It describes how the power of a signal is distributed over the frequencies\n",
    "\n",
    "Pxx, freqs = plt.psd(Sig_WN, NFFT=NFFT1, Fs=F, noverlap=NFFT1/2.)\n",
    "\n",
    "Pxx = The values for the power spectrum $P_{xx}$ before scaling (real valued)\n",
    "\n",
    "freqs = The frequencies corresponding to the elements in Pxx\n",
    "\n",
    "NFFT = number of data points used in each block for the FFT, A power 2 is most efficient\n",
    "\n",
    "Fs = sample frequency \n",
    "\n",
    "window = Type of window use \n",
    "\n",
    "noverlap = The number of points of overlap between blocks, common value is NFFT/2\n",
    "\n",
    "\n",
    "You have to try yourself to find which parameters suit the best your experiment. but remember; the larger the window size, the better frequency resolution, but the time localization is poor. Similarly, the smaller the window size, the better localization but the frequency resolution is poor. \n",
    " \n",
    "\n",
    "### \"Power Spectral Density\" actually plots 10 * log10(Pxx)"
   ]
  },
  {
   "cell_type": "code",
   "execution_count": null,
   "metadata": {
    "collapsed": false
   },
   "outputs": [],
   "source": [
    "NFFT1 = 128\n",
    "NFFT2 = 512\n",
    "\n",
    "plt.figure(figsize=(10,5))\n",
    "Pxx3, freqs3 = plt.psd(Sig_WN, NFFT=NFFT1, Fs=F, noverlap=NFFT1/2.)\n",
    "plt.title(\"Power Spectrum Density of Signal with White noise, NFFT = 128\")\n",
    "#plt.xlim(0,500)\n",
    "plt.ylim(-50,0)\n",
    "\n",
    "plt.figure(figsize=(10,5))\n",
    "Pxx4, freqs4 = plt.psd(Sig_WN, NFFT=NFFT2, Fs=F, noverlap=NFFT2/2.)\n",
    "plt.title(\"Power Spectrum Density of Signal with White noise, NFFT = 512\");\n",
    "#plt.xlim(0,500);\n",
    "plt.ylim(-50,0);"
   ]
  },
  {
   "cell_type": "markdown",
   "metadata": {},
   "source": [
    "## Auto-correlation\n",
    "\n",
    "\n",
    "Let create 2 sinusoidal signals of same frequency and add them some noise.\n",
    "\n",
    "In a first time, we calculate the autocorrelation of signal 1, i.e the correlation between the signal and itself. The correlation measures the similarity between two signals as a function of the displacement of one relative to the other."
   ]
  },
  {
   "cell_type": "code",
   "execution_count": null,
   "metadata": {
    "collapsed": false
   },
   "outputs": [],
   "source": [
    "f = 10.\n",
    "L = 1. #length signal\n",
    "F = 5.e2 # Sample frequency \n",
    "N = L*F # number of samples\n",
    "mean = 0 # White noise mean\n",
    "std = 1 # White noise standard deviation\n",
    "N_WN = N # number of points \n",
    "\n",
    "WN1 = np.random.normal(mean, std, size=N_WN)\n",
    "WN2 = np.random.normal(mean, std, size=N_WN)\n",
    "\n",
    "t = np.linspace(0, L, L*F)\n",
    "\n",
    "sin1 = np.sin(2.*np.pi*f*t)\n",
    "sin2 = 2*np.sin(2.*np.pi*f*(t+0.33))\n",
    "\n",
    "Sin_N1 = sin1 + WN1\n",
    "Sin_N2 = sin2 + WN2\n",
    "\n",
    "norm = np.sum(Sin_N1**2)\n",
    "acor = np.correlate(Sin_N1, Sin_N1, \"same\")/norm\n",
    "\n",
    "plt.figure(figsize=(10,5))\n",
    "plt.plot(t,Sin_N1)\n",
    "plt.title(\"Signal 1\")\n",
    "plt.ylabel('Amplitude')\n",
    "plt.xlabel('Time [sec]');\n",
    "\n",
    "\n",
    "plt.figure(figsize=(10,5))\n",
    "t2 = np.linspace(-L, L, L*F) # we generaly only look at the right side of the signal \n",
    "plt.plot (t2,acor)\n",
    "plt.title(\"Auto-correlation\")\n",
    "plt.xlabel('Time [sec]');\n",
    "\n",
    "\n"
   ]
  },
  {
   "cell_type": "markdown",
   "metadata": {},
   "source": [
    "## Cross-correlation\n",
    "\n",
    "\n",
    "We now look at the correlation between signal 1 and signal 2, this is the cross-correlation"
   ]
  },
  {
   "cell_type": "code",
   "execution_count": null,
   "metadata": {
    "collapsed": false
   },
   "outputs": [],
   "source": [
    "norm = np.sum(Sin_N1**2)\n",
    "ccor = np.correlate(Sin_N1, Sin_N2, \"same\")/norm\n",
    "\n",
    "plt.figure(figsize=(10,5))\n",
    "plt.plot(t,Sin_N1,t,Sin_N2)\n",
    "plt.title(\"Signal 1 and signal 2\")\n",
    "plt.ylabel('Amplitude')\n",
    "plt.xlabel('Time [sec]');\n",
    "\n",
    "\n",
    "plt.figure(figsize=(10,5))\n",
    "t2 = np.linspace(-L, L, L*F) # we generaly only look at the right side of the signal \n",
    "plt.plot (t2,ccor)\n",
    "plt.title(\"Cross-correlation\")\n",
    "plt.xlabel('Time [sec]');"
   ]
  },
  {
   "cell_type": "markdown",
   "metadata": {},
   "source": [
    "# Now it's your turn \n",
    "\n",
    "1- Load the files Signal1 and Signal 2 using the sample code bellow \n",
    "\n",
    "2- Plot both signal on a same figure\n",
    "\n",
    "3- Calculate and plot for Signal1\n",
    "\n",
    "        a. Fourier transform\n",
    "        b. Spectrogram \n",
    "        c. Power spectral density \n",
    "\n",
    "4- Which Frequencies are present in the signal ?\n",
    "\n",
    "5- Calculate and plot the auto-correlation for Signal1\n",
    "\n",
    "6- Calculate and plot the cross-correlation for Signal1 and Signal2\n",
    "\n",
    "7- According to the previous answer, can you guess how Signal1 was created ? "
   ]
  },
  {
   "cell_type": "code",
   "execution_count": null,
   "metadata": {
    "collapsed": false
   },
   "outputs": [],
   "source": [
    "# Sample code \n",
    "\n",
    "from numpy import genfromtxt\n",
    "\n",
    "x1 = genfromtxt('Signal1.csv', delimiter=' ')\n",
    "S1 = x1[0,:]\n",
    "time = x1[1,:]"
   ]
  },
  {
   "cell_type": "code",
   "execution_count": null,
   "metadata": {
    "collapsed": true
   },
   "outputs": [],
   "source": []
  }
 ],
 "metadata": {
  "anaconda-cloud": {},
  "kernelspec": {
   "display_name": "Python [Root]",
   "language": "python",
   "name": "Python [Root]"
  },
  "language_info": {
   "codemirror_mode": {
    "name": "ipython",
    "version": 2
   },
   "file_extension": ".py",
   "mimetype": "text/x-python",
   "name": "python",
   "nbconvert_exporter": "python",
   "pygments_lexer": "ipython2",
   "version": "2.7.12"
  }
 },
 "nbformat": 4,
 "nbformat_minor": 0
}
