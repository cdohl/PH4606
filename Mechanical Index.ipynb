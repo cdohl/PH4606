{
 "cells": [
  {
   "cell_type": "markdown",
   "metadata": {},
   "source": [
    "# Rayleigh Plesset Equation\n",
    "\n",
    "The Rayleigh Plesset Equation (without viscous dissipation) is given by Eq. (1):\n",
    "\\begin{equation}\n",
    "R \\ddot{R} +\\frac{3}{2} \\dot{R}^2=\\frac{p_v-p_\\infty(t)}{\\rho}+\\frac{p_{g0}}{\\rho}\\left(\\frac{R_0}{R}\\right)^{3\\kappa}-\\frac{2\\sigma}{\\rho R}\\tag{1}\n",
    "\\end{equation}\n",
    "The driving of the bubble occurs through the pressure $p_\\infty(t)$ term. This could be for example through a harmonic driving $p_\\infty(t)=p_0 + p_a \\sin (\\omega t)$ where $\\omega$ is the angular frequency, $p_0$ the static pressure, and $p_a$ the amplitude of the driving.\n",
    "\n",
    "We want to solve this equation for small and large oscillations, i.e. for small and large pressures $p_a$. To do so we first define the constants for an air bubble in water at room temperature undergoing isothermal compression."
   ]
  },
  {
   "cell_type": "code",
   "execution_count": 1,
   "metadata": {
    "collapsed": true
   },
   "outputs": [],
   "source": [
    "%matplotlib inline \n",
    "import numpy as np #work with arrays\n",
    "from scipy import integrate\n",
    "#from scipy.integrate import odeint\n",
    "from matplotlib.pylab import *\n",
    "from IPython import display\n",
    "from ipywidgets import widgets\n",
    "\n",
    "pv=2.3388e3     #[Pa] vapour pressure of water\n",
    "sigma=0.072     #[N/m] coefficient of surface tension between air and water\n",
    "rho=998.        #[kg/m^3] density of water\n",
    "kappa=1.       #polytropic exponent of the gas\n",
    "p0=1e5          #[Pa] static pressure\n",
    "nu=1e-6         #[m^2/s]"
   ]
  },
  {
   "cell_type": "markdown",
   "metadata": {},
   "source": [
    "The gas pressure at equilibrium is given by the equilibrium condition\n",
    "\n",
    "\\begin{equation}\n",
    "p_v+p_{g0}=p_\\infty+\\frac{2\\sigma}{R}\\tag{2}\n",
    "\\end{equation}\n",
    "\n",
    "We can solve this nonlinear ODE with the built in solver in python. Therefore, we have to rephrase the 2nd Order ODE into two first order ODEs by variable substitution:\n",
    "\n",
    "\\begin{eqnarray}\n",
    "y_0&=&R\\tag{3a}\\\\\n",
    "y_1&=&\\tag{3b}\\dot{R}\n",
    "\\end{eqnarray}\n",
    "\n",
    "\\begin{equation}\n",
    "\\dot{R}=\\frac{dy_0}{dt}=y_1 \\tag{4}\n",
    "\\end{equation}\n",
    "and using the Rayleigh Equation we obtain:\n",
    "\\begin{equation}\n",
    "\\ddot{R}=\\frac{dy_1}{dt}=\\frac{1}{y_0}\\left[\n",
    "\\frac{p_v-p_\\infty(t)}{\\rho}+\\frac{p_g0}{\\rho}\\left(\\frac{R_0}{y_0}\\right)^{3\\kappa}-\\frac{2\\sigma}{\\rho y_0}-\\frac{3}{2}(y_1)^2\n",
    "\\right]\\tag{5}\n",
    "\\end{equation}\n",
    "\n",
    "We use a slightly modified version of the equation by introducing additionally some dissipation from viscosity of the liquid. This term is added on thr R.H.S of Eq. (5) which is $-4\\mu\\dot{R}{R}^{-1}$.\n",
    "\n",
    "These two first order ODEs are defined in the function `rp(t,y)`"
   ]
  },
  {
   "cell_type": "code",
   "execution_count": 8,
   "metadata": {
    "collapsed": false
   },
   "outputs": [],
   "source": [
    "def rp(t,y):\n",
    "    global f, pa, R0, ncycles\n",
    "    pinfty=p0-pa*np.sin(f*2.*np.pi*t)*(1./f*ncycles/2.>t)\n",
    "    pg0=p0+2.*sigma/R0-pv\n",
    "    dydt0=y[1]\n",
    "    dydt1=(pv-pinfty+pg0*(R0/y[0])**(3.*kappa)\\\n",
    "           -2.*sigma/y[0])/rho/y[0]-1.5*y[1]**2./y[0]\\\n",
    "           -4.*nu*y[1]/y[0]/y[0]\n",
    "    return [dydt0,dydt1]"
   ]
  },
  {
   "cell_type": "code",
   "execution_count": 10,
   "metadata": {
    "collapsed": false
   },
   "outputs": [
    {
     "data": {
      "image/png": "[encoded data removed]",
      "text/plain": [
       "<matplotlib.figure.Figure at 0x106cc6b10>"
      ]
     },
     "metadata": {},
     "output_type": "display_data"
    }
   ],
   "source": [
    "def plotall(newvalue):\n",
    "    global f\n",
    "    global pa\n",
    "    global R0\n",
    "    global ncycles\n",
    "    \n",
    "    f=w_frequency.value*1.e6\n",
    "    pa=w_pressure.value*1.e5\n",
    "    R0=w_R0.value*1.e-6\n",
    "    ncycles=float(w_ncycles.value)\n",
    "    \n",
    "    plt.figure(1, figsize=(10, 6), dpi=200)\n",
    "    plt.clf\n",
    "    \n",
    "    t_sim=10./f\n",
    "    delta_t = t_sim/1000.\n",
    "    num_steps = int(t_sim/delta_t) + 3\n",
    "    time = np.zeros((num_steps, 1))\n",
    "    R = np.zeros((num_steps, 1))\n",
    "    time[0] = 0.\n",
    "    R[0] = R0\n",
    "\n",
    "    ode15s = integrate.ode(rp)\n",
    "    ode15s.set_initial_value([R[0],0.], 0.)\n",
    "\n",
    "    k = 1\n",
    "    while ode15s.successful() and ode15s.t < (t_sim):\n",
    "        ode15s.integrate(ode15s.t+delta_t)\n",
    "        time[k] = ode15s.t\n",
    "        R[k] = ode15s.y[0]\n",
    "        k += 1\n",
    "\n",
    "    plt.plot(time[0:k-1]*f,R[0:k-1]/R0);\n",
    "    plt.xlabel('Time (1/f)')\n",
    "    plt.ylabel('Radius (R0)')\n",
    "    plt.text(time[k-1]*f*.8,1.,\\\n",
    "             'MI={0:.2f}'.format(pa/1e6/np.sqrt(f/1e6)),\\\n",
    "             fontsize=25,color='b')\n",
    "\n",
    "    display.clear_output(wait=True)\n",
    "\n",
    "    #print ode15s.successful()\n",
    "\n",
    "    \n",
    "global f, pa, R0, ncycles\n",
    "R0=3e-7\n",
    "ncycles=1.\n",
    "w_frequency=widgets.FloatSlider(min=.5,max=50,step=.25,\\\n",
    "                                       value=5,description='Frequency (MHz):')\n",
    "w_pressure=widgets.FloatSlider(min=.1,max=30,step=.1,\\\n",
    "                                       value=.4,description='Acoustic amplitude (bar):')\n",
    "w_R0=widgets.FloatSlider(min=.05,max=1,step=.05,\\\n",
    "                                       value=.3,description='Nucleus size (micrometer):')\n",
    "w_ncycles=widgets.IntSlider(min=1,max=10,step=1,\\\n",
    "                                       value=1,description='Number of cyles')\n",
    "\n",
    "w_frequency.observe(plotall, names='value') #auto update\n",
    "w_pressure.observe(plotall, names='value') #auto update\n",
    "w_R0.observe(plotall, names='value') #auto update\n",
    "w_ncycles.observe(plotall, names='value')\n",
    "display.display(w_frequency)\n",
    "display.display(w_pressure)\n",
    "display.display(w_R0)\n",
    "display.display(w_ncycles)\n",
    "\n",
    "plotall(1)"
   ]
  },
  {
   "cell_type": "code",
   "execution_count": null,
   "metadata": {
    "collapsed": true
   },
   "outputs": [],
   "source": []
  }
 ],
 "metadata": {
  "kernelspec": {
   "display_name": "Python 2",
   "language": "python",
   "name": "python2"
  },
  "language_info": {
   "codemirror_mode": {
    "name": "ipython",
    "version": 2
   },
   "file_extension": ".py",
   "mimetype": "text/x-python",
   "name": "python",
   "nbconvert_exporter": "python",
   "pygments_lexer": "ipython2",
   "version": "2.7.11"
  }
 },
 "nbformat": 4,
 "nbformat_minor": 0
}
