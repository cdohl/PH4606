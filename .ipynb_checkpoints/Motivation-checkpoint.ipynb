{
 "cells": [
  {
   "cell_type": "markdown",
   "metadata": {
    "hide_input": true
   },
   "source": [
    "## Motivation\n",
    "\n",
    "Below you find some of the areas where Acoustics is used in industry and medicine. Please have a look at he videos. You will see that they will use common terms such as pressure, frequency, intensity, impedance etc. These terms will be introduced in the lecture and explained in detail.\n",
    "\n",
    "### Nondestructive Testing (NDT)\n",
    "\n",
    "<a href=\"http://www.youtube.com/watch?feature=player_embedded&v=UM6XKvXWVFA\"\n",
    "target=\"_blank\"><img src=\"http://img.youtube.com/vi/UM6XKvXWVFA/0.jpg\" \n",
    "alt=\"Nondestructive testing with ultrasound\" width=\"320\" border=\"10\" /></a>\n",
    "\n",
    "### Sonar\n",
    "Measuring the sea-bottom profile, schools of fishes or searching for missing airplanes\n",
    "are all conducted with acoustic waves in liquids. These are termed sonar and detailed in this video.\n",
    "\n",
    "<a href=\"http://www.youtube.com/watch?feature=player_embedded&v=-fAAxEIFeLU\n",
    "\" target=\"_blank\"><img src=\"http://img.youtube.com/vi/-fAAxEIFeLU/0.jpg\" \n",
    "alt=\"Sonar\" width=\"320\" border=\"10\" /></a>\n",
    "\n",
    "\n",
    "### Acoustic Levitation\n",
    "Time averaged pressure gradients allow to generate a force balancing gravity. \n",
    "A stable trap for liquids and solids can be build using standing ultrasonic waves. \n",
    "\n",
    "<a href=\"http://www.youtube.com/watch?feature=player_embedded&v=0K8zs-KSitc\n",
    "\" target=\"_blank\"><img src=\"http://img.youtube.com/vi/0K8zs-KSitc/0.jpg\" \n",
    "alt=\"Acoustic Levitation\" width=\"320\" border=\"10\" /></a>\n",
    "\n",
    "\n",
    "### Medical Diagnostic Ultrasound\n",
    "Sonography is the most commonly used imaging technique used in medicine. Here you\n",
    "wil learn how images are generated and how they are interpreted by medical personal.\n",
    "\n",
    "<a href=\"http://www.youtube.com/watch?feature=player_embedded&v=msLvDJoxK5U\n",
    "\" target=\"_blank\"><img src=\"http://img.youtube.com/vi/msLvDJoxK5U/0.jpg\" \n",
    "alt=\"Diagnostic Ultrasound\" width=\"320\" border=\"10\" /></a>\n",
    "\n",
    "\n",
    "### Medical Therapy\n",
    "Shock Wave Lithotripsy is one of a number of areas where acoustic waves are used\n",
    "for therapy. Other areas are HIFU (high intensity focused ultrasound), and histotripsy.\n",
    "\n",
    "<a href=\"http://www.youtube.com/watch?feature=player_embedded&v=FbkiNDwrSu8\n",
    "\" target=\"_blank\"><img src=\"http://img.youtube.com/vi/FbkiNDwrSu8/0.jpg\" \n",
    "alt=\"Shock Wave Lithotripsy\" width=\"320\" border=\"10\" /></a>\n",
    "\n"
   ]
  },
  {
   "cell_type": "code",
   "execution_count": null,
   "metadata": {
    "collapsed": true
   },
   "outputs": [],
   "source": []
  }
 ],
 "metadata": {
  "kernelspec": {
   "display_name": "Python 2",
   "language": "python",
   "name": "python2"
  },
  "language_info": {
   "codemirror_mode": {
    "name": "ipython",
    "version": 2
   },
   "file_extension": ".py",
   "mimetype": "text/x-python",
   "name": "python",
   "nbconvert_exporter": "python",
   "pygments_lexer": "ipython2",
   "version": "2.7.13"
  }
 },
 "nbformat": 4,
 "nbformat_minor": 1
}
