{
 "cells": [
  {
   "cell_type": "markdown",
   "metadata": {},
   "source": [
    "Finite Difference form of the inhomgeneous wave equation:\n",
    "\n",
    "\\begin{equation}\n",
    "p_{i,j}^{n+1}=2p_{i,j}^n-p_{i,j}^{n-1}+\\\\\n",
    "\\frac{(\\Delta t)^2}{(\\Delta x)^2} \\left[ c_{i,j}^2 \\left( p_{i-1,j}+p_{i+1,j}+p_{i,j-1}+p_{i,j+1}-4p_{i,j} \\right)-\n",
    "\\frac{1}{4\\rho_{i,j}} \\left( \\left(\\rho_{i+1,j}-\\rho_{i-1,j}\\right)\\left(p_{i+1,j}-p_{i-1,j}\\right) + \n",
    "\\left(\\rho_{i,j+1}-\\rho_{i,j-1}\\right)\\left(p_{i,j+1}-p_{i,j-1}\\right)\\right)\n",
    "\\right]\n",
    "\\end{equation}"
   ]
  },
  {
   "cell_type": "code",
   "execution_count": 76,
   "metadata": {
    "collapsed": false,
    "scrolled": false
   },
   "outputs": [
    {
     "name": "stdout",
     "output_type": "stream",
     "text": [
      "0.798175\n"
     ]
    },
    {
     "data": {
      "text/plain": [
       "<matplotlib.figure.Figure at 0x105fcaad0>"
      ]
     },
     "metadata": {},
     "output_type": "display_data"
    }
   ],
   "source": [
    "%matplotlib inline\n",
    "import math as m\n",
    "import numpy #array operations\n",
    "import matplotlib.pyplot as plt #plotting\n",
    "from matplotlib.collections import LineCollection\n",
    "import matplotlib.colors as colors\n",
    "from IPython import display #for continous display\n",
    "from scipy import weave\n",
    "from scipy.weave import converters\n",
    "import time\n",
    "\n",
    "def stepccode(u,un,unn,rho,cc,cconst,nx,ny):\n",
    "    code = \"\"\"\n",
    "            for (int i=1; i<nx-1; ++i) {\n",
    "                for (int j=1; j<ny-1; ++j) {\n",
    "                    u(i,j) = 2.*un(i,j)-unn(i,j)+cconst*(cc(i,j)*(un(i-1,j)+un(i+1,j)+un(i,j-1)+un(i,j+1)-4.*un(i,j))-\n",
    "                            -0.25/rho(i,j)*((rho(i+1,j)-rho(i+1,j))*(un(i+1,j)-un(i-1,j))+\n",
    "                                            (rho(i,j+1)-rho(i,j-1))*(un(i,j+1)-un(i,j-1))));\n",
    "                }\n",
    "            }\n",
    "            \"\"\"\n",
    "    weave.inline(code,['u', 'un', 'unn', 'rho', 'cc', 'cconst','nx','ny'],\n",
    "                   type_converters = converters.blitz)#, compiler = 'gcc')\n",
    "    return u\n",
    "\n",
    "def stepblitz(u,un,unn,rho,cc,cconst):\n",
    "    \n",
    "    expr=\"u[1:-1,1:-1]=2.*un[1:-1,1:-1]-unn[1:-1,1:-1]+cconst*(cc[1:-1,1:-1]*\\\n",
    "        (un[:-2,1:-1]+un[2:,1:-1]+un[1:-1,:-2]+un[1:-1,2:]-4.*un[1:-1,1:-1])-\\\n",
    "        .25*rho[1:-1,1:-1]*((rho[2:,1:-1]-rho[:-2,1:-1])*(un[2:,1:-1]-un[:-2,1:-1])+\\\n",
    "        (rho[1:-1,2:]-rho[1:-1,:-2])*(un[1:-1,2:]-un[1:-1,:-2])))\"\n",
    "    weave.blitz(expr, check_size=0)\n",
    "    \n",
    "    return u\n",
    "\n",
    "def plotwave(u,time):\n",
    "    #plt.figure(1)\n",
    "    plt.clf()\n",
    "    #plot the pressue field\n",
    "    plt.imshow(u, origin='upper', extent=[0., 2., 0., 2.], vmax=2, vmin=-2) #plot the wave field\n",
    "    plt.text(0.1,1.8,\"time {0:.5f}\".format(time)) #annotate the time\n",
    "    plt.gca().set_xlim([0.,2.])\n",
    "    plt.gca().set_ylim([0.,2.])\n",
    "    display.clear_output(wait=True)\n",
    "    display.display(plt.gcf())\n",
    "    \n",
    "def solvewave(plot=True):\n",
    "    #computational domain\n",
    "    nx = ny = 128\n",
    "    size=2. #size of the domain\n",
    "    #parameters of the wave\n",
    "    c = 1. #speed of sound of homogeneous me`dium \n",
    "    l=.3 #wavelength\n",
    "    nu=c/l #frequency\n",
    "    omega=nu*2.*m.pi #angular frequency\n",
    "    duration=50./nu #duration of source\n",
    "    \n",
    "    #position of source\n",
    "    emissionlength=(100./100.)*nx #in percent\n",
    "    startx=int(nx/2-emissionlength/2)\n",
    "    endx=int(nx/2+emissionlength/2)\n",
    "\n",
    "    #further variables\n",
    "    dx = size/(nx-1)\n",
    "    CFL=0.05#CFL number < 1/sqrt(2)\n",
    "    dt = CFL*dx/c \n",
    "    nt=int(2./dt) #number of time steps\n",
    "\n",
    "    sourcepos=0\n",
    "\n",
    "    #every xx times over the total nt timesteps an output should be generated \n",
    "    output=map(int,list(numpy.linspace(1,nt,int(nt*float(5.5/100.)))))\n",
    "\n",
    "    u  = numpy.zeros((nx,ny)) #pressure at t\n",
    "    un = numpy.zeros((nx,ny)) #pressure at t-dt\n",
    "    unn= numpy.zeros((nx,ny)) #pressure at t-2*dt\n",
    "\n",
    "    #homogeneous speed of sound c**2 !\n",
    "    cc = numpy.ones((nx,ny))*1.\n",
    "    #homogeneous density\n",
    "    rho = numpy.ones((nx,ny))*1.\n",
    "    \n",
    "    #build the double slit\n",
    "    xx,yy=numpy.meshgrid(numpy.linspace(0,2.,nx),numpy.linspace(0,2.,nx))\n",
    "    ow=0.1\n",
    "    dw=1.\n",
    "    obstacle=((xx>.3) & (yy>1.+dw/2.+ow/2.) & (xx<.35))|\\\n",
    "        ((xx>.3) & (yy<1.-dw/2.-ow/2.) & (xx<0.35))|\\\n",
    "        ((xx>.3) & (yy>1.-dw/2.+ow/2.) & (yy<1.+dw/2.-ow/2.)& (xx<0.35))\n",
    "    a=numpy.where(obstacle)\n",
    "    cc[a]=5.**2.\n",
    "    rho[a]=5.    \n",
    "    cconst=dt*dt/dx/dx\n",
    "    \n",
    "    plt.figure(1, figsize=(8, 8), dpi=300)\n",
    "\n",
    "    for n in range(nt+1): ##loop across number of time steps\n",
    "\n",
    "        #here we compute the wave propagation in an inhomogeneous media\n",
    "        #using blitz to speed up things\n",
    "       \n",
    "        \n",
    "        #u=stepblitz(u,un,unn,rho,cc,cconst)\n",
    "        u=stepccode(u,un,unn,rho,cc,cconst,nx,ny)\n",
    "        \n",
    "        #Impose the boundary conditions                 \n",
    "        #north\n",
    "        u[0,:] = -dx/dt/(cc[0,:]**.5)*(u[1,:]-un[1,:])+u[1,:]\n",
    "        #u[0,:] = u[1,:]\n",
    "        #south\n",
    "        u[-1,:] = -dx/dt/(cc[-1,:]**.5)*(u[-2,:]-un[-2,:])+u[-2,:]\n",
    "        #u[-1,:] = u[-2,:]\n",
    "        #west\n",
    "        u[:,0] = -dx/dt/(cc[:,0]**.5)*(u[:,1]-un[:,1])+u[:,1]\n",
    "        #u[:,0] = u[:,1]\n",
    "        #east\n",
    "        u[:,-1] = -dx/dt/(cc[:,-1]**.5)*(u[:,-2]-un[:,-2])+u[:,-2]\n",
    "        #u[:,-1] = u[:,-2]\n",
    "        \n",
    "        #pressure source\n",
    "        if n*dt<(duration+10*dt):\n",
    "            #generate a source that goes to zero after duration \n",
    "            usource=numpy.sin(omega*(n*dt))*(n*dt<duration)\n",
    "            u[startx:endx,sourcepos]=usource\n",
    "        \n",
    "        #save values for the time derivative \n",
    "        unn=un.copy() #n-1 time steop\n",
    "        un=u.copy()   #n time step\n",
    "        \n",
    "        if (n in output) & plot:\n",
    "            uplot=u.copy()\n",
    "            uplot[a]=0.\n",
    "            plotwave(uplot,n*dt)\n",
    "            \n",
    "if __name__ == \"__main__\":\n",
    "    # execute only if run as a script\n",
    "    t = time.clock()\n",
    "    solvewave(False)\n",
    "    print time.clock() - t"
   ]
  },
  {
   "cell_type": "code",
   "execution_count": 48,
   "metadata": {
    "collapsed": true
   },
   "outputs": [],
   "source": [
    "xx=numpy.linspace(0,2.,10)"
   ]
  },
  {
   "cell_type": "code",
   "execution_count": null,
   "metadata": {
    "collapsed": false
   },
   "outputs": [],
   "source": [
    "(xx>.5) & (xx<.9)"
   ]
  },
  {
   "cell_type": "code",
   "execution_count": null,
   "metadata": {
    "collapsed": true
   },
   "outputs": [],
   "source": []
  }
 ],
 "metadata": {
  "kernelspec": {
   "display_name": "Python 2",
   "language": "python",
   "name": "python2"
  },
  "language_info": {
   "codemirror_mode": {
    "name": "ipython",
    "version": 2
   },
   "file_extension": ".py",
   "mimetype": "text/x-python",
   "name": "python",
   "nbconvert_exporter": "python",
   "pygments_lexer": "ipython2",
   "version": "2.7.11"
  }
 },
 "nbformat": 4,
 "nbformat_minor": 0
}
