{
 "cells": [
  {
   "cell_type": "markdown",
   "metadata": {},
   "source": [
    "$$\n",
    "\\newcommand{\\fudm}[2]{\\frac{\\mathrm{D} #1}{\\mathrm{D} #2}}\n",
    "\\newcommand{\\pad}[2]{\\frac{\\partial #1}{\\partial #2}}\n",
    "\\newcommand{\\ppad}[2]{\\frac{\\partial^2 #1}{\\partial #2^2}}\n",
    "\\newcommand{\\ppadd}[3]{\\frac{\\partial^2 #1}{\\partial #2 \\partial #3}}\n",
    "\\newcommand{\\nnabla}{\\nabla^2}\n",
    "\\newcommand{\\eps}{\\epsilon}\n",
    "\\newcommand{\\vdetail}[1]{\\vb{#1}=\\begin{pmatrix}#1_1\\\\#1_2\\\\#1_3\\end{pmatrix}}\n",
    "\\newcommand{\\vb}[1]{\\mathbf{#1}}\n",
    "\\newcommand{\\va}[1]{\\vec{#1}}\n",
    "\\newcommand{\\tb}[1]{\\underline{\\underline{\\mathbf{#1}}}}\n",
    "\\newcommand{\\fud}[2]{\\frac{\\mathrm{d} #1}{\\mathrm{d} #2}}\n",
    "$$"
   ]
  },
  {
   "cell_type": "markdown",
   "metadata": {},
   "source": [
    "# 4. Spherical Waves\n",
    "\n",
    "In spherical coordinates $(r,\\phi,\\theta)$ with \n",
    "\n",
    "\\begin{eqnarray}\n",
    "x&=&r \\sin \\theta \\cos \\phi\\tag{4.1a}\\\\\n",
    "y&=&r \\sin \\theta \\sin \\phi\\tag{4.1b}\\\\\n",
    "z&=&r \\cos \\theta \\tag{4.1c}\n",
    "\\end{eqnarray}\n",
    "\n",
    "the Laplacian operator is\n",
    "\n",
    "$$\\nabla^2=\\ppad{}{r} + \\frac{2}{r}\\pad{}{r} +\\frac{1}{r^2 \\sin \\theta}\\pad{}{\\theta}\\left(\\sin \\theta \\pad{}{\\theta}\\right) +\n",
    "\\frac{1}{r^2 \\sin^2 \\theta} \\ppad{}{\\phi} \\tag{4.2}\n",
    "$$\n",
    "\n",
    "If we assume spherical symmetry the the acoustic pressure is a function of $r$ only and the Laplacian simplifies to\n",
    "\n",
    "$$\\nabla^2=\\ppad{}{r}+\\frac{2}{r}\\pad{}{r}\\tag{4.3}\\quad .$$\n",
    "\n",
    "Thus the wave equation becomes\n",
    "\n",
    "$$\\ppad{p}{r}+\\frac{2}{r}\\pad{p}{r}=\\frac{1}{c^2}\\ppad{p}{t}\\tag{4.4}\\quad .$$\n",
    "\n",
    "We can rewrite Eq. (4.4) as\n",
    "\n",
    "$$\\ppad{(p r)}{r}=\\frac{1}{c^2}\\ppad{(r p)}{t}\\tag{4.5}\\quad ,$$\n",
    "\n",
    "which resembles a plane wave equation for the product of the variable $p$ and $r$. Thus the solution to this equation is\n",
    "\n",
    "$$p r = f_1(c t - r) + f_2 (c t +r)$$\n",
    "\n",
    "or \n",
    "\n",
    "$$p = \\frac{1}{r} f_1(c t - r) + \\frac{1}{r} f_2 (c t +r)\\tag{4.6}\\quad ,$$\n",
    "\n",
    "for all $r>0$, the solution is not valid at $r=0$. Equation (4.6) is an outgoing and incoming wave where the amplitude is proportional to $1/r$. The reason for failure of Eq. (4.6) of the outgoing wave is that sound source is not accounted for. In contrast the incoming wave diverges at $r=0$. The reason why our equation becomes invalid is that the small amplitude limit is not valid anymore, nonlinearities build up and we need a better description which accounts for *finite amplitude effects*.\n",
    "\n",
    "\n"
   ]
  },
  {
   "cell_type": "code",
   "execution_count": 68,
   "metadata": {
    "collapsed": false
   },
   "outputs": [],
   "source": [
    "%matplotlib notebook \n",
    "import math as m\n",
    "import numpy #array operations\n",
    "import matplotlib.pyplot as plt #plotting\n",
    "from IPython import display #for continous display\n",
    "from ipywidgets import widgets #for the widgets\n",
    "\n",
    "nimg=0\n",
    "\n",
    "def plotwave(u,time):\n",
    "    plt.figure(1)\n",
    "    plt.clf()\n",
    "    plt.plot(u)\n",
    "    plt.gca().set_ylim([-2,2])\n",
    "    display.clear_output(wait=True)\n",
    "    display.display(plt.gcf())\n",
    "        \n",
    "def solvewave(b):\n",
    "    tabs.visible=False\n",
    "    #computational domain\n",
    "    nx = 381\n",
    "    size=2. #size of the domain\n",
    "    #parameters of the wave\n",
    "    c = 5. #speed of sound\n",
    "    l=w_wavelength.value #wavelength\n",
    "    nu=c/l #frequency\n",
    "    omega=nu*2.*m.pi #angular frequency\n",
    "    duration=w_sourceduration.value/nu #duration of source\n",
    "    \n",
    "    #further variables\n",
    "    dx = size/(nx-1)\n",
    "    CFL=0.1 #CFL number <1\n",
    "    dt = CFL*dx/c \n",
    "    nt=int(w_simduration.value/dt) #number of time steps\n",
    "    if w_position.value=='Left':\n",
    "        sourcepos=0\n",
    "    else:\n",
    "        sourcepos=int(nx/2)\n",
    "    \n",
    "    #every xx times over the total nt timesteps an output should be generated \n",
    "    output=map(int,list(numpy.linspace(1,nt,int(nt/50))))\n",
    "\n",
    "    u  = numpy.zeros(nx) #pressure at t\n",
    "    un = numpy.zeros(nx) #pressure at t-dt\n",
    "    unn= numpy.zeros(nx) #pressure at t-2*dt\n",
    "    C=c*c*dt*dt/dx/dx\n",
    "    \n",
    "    #Assign initial conditions, for a sine wave\n",
    "    if w_source_type.value==\"Time Dependent\":\n",
    "        un[sourcepos]=0.    #amplitude is sin(omega*t) with t=0\n",
    "        unn[sourcepos]=1.   #velocity  is cos(omega*t) with t=0\n",
    "    else: #or set it as an initial value\n",
    "        for xx in range(nx):\n",
    "            x=float(xx)*dx-size/2. #0 at the center\n",
    "            unn[xx]=(m.cos(2.*m.pi/l*x)**2)*float(abs(x)<(c*duration/2.))\n",
    "        for xx in range(1,nx-1): #calculate t=0 time step\n",
    "            un[xx] = unn[xx] - 0.5*C*(unn[xx+1]-2.*unn[xx]+unn[xx-1])\n",
    "    \n",
    "    plt.figure(1, figsize=(8, 4), dpi=300)\n",
    "\n",
    "    for n in range(nt+1): ##loop across number of time steps\n",
    "        #this line computes the finite differences of the wave equation\n",
    "        u[1:-1]=2.*un[1:-1]-unn[1:-1]+C*(un[:-2]+un[2:]-2.*un[1:-1])\n",
    " \n",
    "        #Boundary conditions\n",
    "        if w_boundary_r.value=='Open':\n",
    "            u[-1] = un[-1]-dt*c/dx*(un[-1]-un[-2]) \n",
    "        else:\n",
    "            u[-1] = u[-2]\n",
    "\n",
    "        if w_boundary_l.value=='Open':\n",
    "            u[0] = un[0]+dt*c/dx*(un[1]-un[0])\n",
    "        else:\n",
    "            u[0] = u[1]\n",
    "            \n",
    "        #pressure source\n",
    "        if w_source_type.value==\"Time Dependent\":\n",
    "            if float(n*dt<duration):\n",
    "                u[sourcepos]=m.sin(omega*n*dt)**2*float(n*dt<duration)\n",
    "                \n",
    "        #save values for the time derivative \n",
    "        unn=un.copy() #n-1 time step\n",
    "        un=u.copy()   #n time step\n",
    "        \n",
    "        if (n in output):\n",
    "            plotwave(u,n*dt)\n",
    "            \n",
    "    #and plot the last figure    \n",
    "    plotwave(u,n*dt)\n",
    "    tabs.visible=True"
   ]
  },
  {
   "cell_type": "code",
   "execution_count": 66,
   "metadata": {
    "collapsed": false
   },
   "outputs": [
    {
     "data": {
      "image/png": "[encoded data removed]",
      "text/plain": [
       "<matplotlib.figure.Figure at 0x34e1e3c8>"
      ]
     },
     "metadata": {},
     "output_type": "display_data"
    }
   ],
   "source": [
    "#setup the graphical interface \n",
    "w_wavelength=widgets.FloatSlider(description=\"Wavelength\",value=.5,min=0.1,max=1)\n",
    "w_sourceduration=widgets.FloatSlider(description=\"Emission Duration in Periods\",value=.5,min=0.5,max=10)\n",
    "w_simduration=widgets.FloatSlider(description=\"Simulation Duration\",value=.2,min=0.1,max=5)\n",
    "w_position=widgets.RadioButtons(description=\"Source Position\",options=[\"Left\", \"Center\"],value=\"Center\")\n",
    "w_start=widgets.Button(description=\"Start Simulation\")\n",
    "w_start.on_click(solvewave)\n",
    "w_boundary_l=widgets.RadioButtons(description=\"Leftt Boundary\",options=[\"Reflective\", \"Open\"],value=\"Reflective\")\n",
    "w_boundary_r=widgets.RadioButtons(description=\"Right Boundary\",options=[\"Reflective\", \"Open\"],value=\"Reflective\")\n",
    "w_source_type=widgets.RadioButtons(description=\"Type of Source\",options=[\"Time Dependent\", \"Inital Condition\"],value=\"Time Dependent\")\n",
    "\n",
    "page1=widgets.Box([w_wavelength,w_sourceduration,w_position,w_simduration])\n",
    "page2=widgets.Box([w_source_type])\n",
    "page3=widgets.Box([w_boundary_l,w_boundary_r])\n",
    "tabs = widgets.Tab(children=[page1, page2, page3])\n",
    "tabs.set_title(0, 'Wave')\n",
    "tabs.set_title(1, 'Source')\n",
    "tabs.set_title(2, 'Boundaries')\n",
    "display.display(tabs)\n",
    "display.display(w_start)"
   ]
  },
  {
   "cell_type": "code",
   "execution_count": 67,
   "metadata": {
    "collapsed": false
   },
   "outputs": [
    {
     "data": {
      "text/plain": [
       "1.2"
      ]
     },
     "execution_count": 67,
     "metadata": {},
     "output_type": "execute_result"
    }
   ],
   "source": [
    "abs(-1.2)"
   ]
  },
  {
   "cell_type": "code",
   "execution_count": null,
   "metadata": {
    "collapsed": true
   },
   "outputs": [],
   "source": []
  }
 ],
 "metadata": {
  "kernelspec": {
   "display_name": "Python 2",
   "language": "python",
   "name": "python2"
  },
  "language_info": {
   "codemirror_mode": {
    "name": "ipython",
    "version": 2
   },
   "file_extension": ".py",
   "mimetype": "text/x-python",
   "name": "python",
   "nbconvert_exporter": "python",
   "pygments_lexer": "ipython2",
   "version": "2.7.10"
  }
 },
 "nbformat": 4,
 "nbformat_minor": 0
}
