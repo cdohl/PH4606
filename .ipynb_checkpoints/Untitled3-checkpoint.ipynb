{
 "cells": [
  {
   "cell_type": "code",
   "execution_count": 1,
   "metadata": {
    "collapsed": false
   },
   "outputs": [
    {
     "name": "stdout",
     "output_type": "stream",
     "text": [
      "[NbConvertApp] Converting notebook lecture 3.ipynb to latex\n",
      "[NbConvertApp] Writing 23241 bytes to lecture 3.tex\n"
     ]
    }
   ],
   "source": [
    "!jupyter nbconvert --to latex --template lecture_article lecture\\ 3.ipynb\n",
    "!pdflatex lecture\\ 3.tex\n",
    "!pdflatex lecture\\ 3.tex"
   ]
  },
  {
   "cell_type": "code",
   "execution_count": 20,
   "metadata": {
    "collapsed": false
   },
   "outputs": [
    {
     "ename": "CalledProcessError",
     "evalue": "Command '['jupyter', 'nbconvert']' returned non-zero exit status 255",
     "output_type": "error",
     "traceback": [
      "\u001b[0;31m---------------------------------------------------------------------------\u001b[0m",
      "\u001b[0;31mCalledProcessError\u001b[0m                        Traceback (most recent call last)",
      "\u001b[0;32m<ipython-input-20-b738eaceaee3>\u001b[0m in \u001b[0;36m<module>\u001b[0;34m()\u001b[0m\n\u001b[1;32m      1\u001b[0m \u001b[0;32mfrom\u001b[0m \u001b[0msubprocess\u001b[0m \u001b[0;32mimport\u001b[0m \u001b[0mcheck_output\u001b[0m\u001b[0;34m\u001b[0m\u001b[0m\n\u001b[0;32m----> 2\u001b[0;31m \u001b[0ma\u001b[0m\u001b[0;34m=\u001b[0m\u001b[0mcheck_output\u001b[0m\u001b[0;34m(\u001b[0m\u001b[0;34m[\u001b[0m\u001b[0;34m\"jupyter\"\u001b[0m\u001b[0;34m,\u001b[0m \u001b[0;34m\"nbconvert\"\u001b[0m\u001b[0;34m]\u001b[0m\u001b[0;34m)\u001b[0m\u001b[0;34m\u001b[0m\u001b[0m\n\u001b[0m",
      "\u001b[0;32m/Users/cdohl/anaconda/lib/python2.7/subprocess.pyc\u001b[0m in \u001b[0;36mcheck_output\u001b[0;34m(*popenargs, **kwargs)\u001b[0m\n\u001b[1;32m    571\u001b[0m         \u001b[0;32mif\u001b[0m \u001b[0mcmd\u001b[0m \u001b[0;32mis\u001b[0m \u001b[0mNone\u001b[0m\u001b[0;34m:\u001b[0m\u001b[0;34m\u001b[0m\u001b[0m\n\u001b[1;32m    572\u001b[0m             \u001b[0mcmd\u001b[0m \u001b[0;34m=\u001b[0m \u001b[0mpopenargs\u001b[0m\u001b[0;34m[\u001b[0m\u001b[0;36m0\u001b[0m\u001b[0;34m]\u001b[0m\u001b[0;34m\u001b[0m\u001b[0m\n\u001b[0;32m--> 573\u001b[0;31m         \u001b[0;32mraise\u001b[0m \u001b[0mCalledProcessError\u001b[0m\u001b[0;34m(\u001b[0m\u001b[0mretcode\u001b[0m\u001b[0;34m,\u001b[0m \u001b[0mcmd\u001b[0m\u001b[0;34m,\u001b[0m \u001b[0moutput\u001b[0m\u001b[0;34m=\u001b[0m\u001b[0moutput\u001b[0m\u001b[0;34m)\u001b[0m\u001b[0;34m\u001b[0m\u001b[0m\n\u001b[0m\u001b[1;32m    574\u001b[0m     \u001b[0;32mreturn\u001b[0m \u001b[0moutput\u001b[0m\u001b[0;34m\u001b[0m\u001b[0m\n\u001b[1;32m    575\u001b[0m \u001b[0;34m\u001b[0m\u001b[0m\n",
      "\u001b[0;31mCalledProcessError\u001b[0m: Command '['jupyter', 'nbconvert']' returned non-zero exit status 255"
     ]
    }
   ],
   "source": [
    "from subprocess import check_output\n",
    "a=check_output([\"jupyter\", \"nbconvert\"])"
   ]
  },
  {
   "cell_type": "code",
   "execution_count": 18,
   "metadata": {
    "collapsed": false
   },
   "outputs": [
    {
     "data": {
      "text/plain": [
       "'total 4112\\n-rw-------  1 cdohl  staff  159724 Jan 28 13:54 2d wave solver_plane wave.ipynb\\n-rw-r--r--  1 cdohl  staff    3290 Feb  2 08:11 Motivation.ipynb\\n-rw-r--r--  1 cdohl  staff    1770 Feb  2 08:11 Syllabus.ipynb\\n-rw-r--r--  1 cdohl  staff   22406 Feb  2 12:51 Traveling plane wave example.ipynb\\n-rw-r--r--  1 cdohl  staff      72 Feb  2 14:50 Untitled.ipynb\\n-rw-r--r--  1 cdohl  staff     985 Feb  3 20:37 Untitled1.ipynb\\n-rw-r--r--  1 cdohl  staff    1096 Feb  3 21:35 Untitled2.aux\\n-rw-r--r--  1 cdohl  staff    1066 Feb  3 21:35 Untitled2.ipynb\\n-rw-r--r--  1 cdohl  staff   25417 Feb  3 21:35 Untitled2.log\\n-rw-r--r--  1 cdohl  staff     115 Feb  3 21:35 Untitled2.out\\n-rw-r--r--@ 1 cdohl  staff   64727 Feb  3 21:35 Untitled2.pdf\\n-rw-r--r--  1 cdohl  staff   13729 Feb  3 21:35 Untitled2.tex\\n-rw-r--r--  1 cdohl  staff     103 Feb  3 21:35 Untitled2Notes.bib\\n-rw-r--r--  1 cdohl  staff    2365 Feb  6 09:54 Untitled3.ipynb\\n-rw-r--r--  1 cdohl  staff    2067 Feb  2 12:50 detailed derivation potential energy.ipynb\\ndrwxr-xr-x  3 cdohl  staff     102 Jan 27 13:53 images\\n-rw-r--r--  1 cdohl  staff    5356 Feb  5 22:28 lecture 1.aux\\n-rw-------  1 cdohl  staff   57104 Feb  5 22:42 lecture 1.ipynb\\n-rw-r--r--  1 cdohl  staff   30769 Feb  5 22:28 lecture 1.log\\n-rw-r--r--  1 cdohl  staff     399 Feb  5 22:28 lecture 1.out\\n-rw-r--r--@ 1 cdohl  staff  199746 Feb  5 22:28 lecture 1.pdf\\n-rw-r--r--  1 cdohl  staff   36597 Feb  5 22:28 lecture 1.tex\\n-rw-r--r--  1 cdohl  staff     103 Feb  4 10:54 lecture 1Notes.bib\\ndrwxr-xr-x  6 cdohl  staff     204 Feb  4 07:49 lecture 1_files\\n-rw-r--r--  1 cdohl  staff    2212 Feb  5 23:23 lecture 2.aux\\n-rw-r--r--  1 cdohl  staff  385869 Feb  5 22:49 lecture 2.html\\n-rw-r--r--  1 cdohl  staff  178658 Feb  5 22:52 lecture 2.ipynb\\n-rw-r--r--  1 cdohl  staff   33888 Feb  5 23:23 lecture 2.log\\n-rw-r--r--  1 cdohl  staff     111 Feb  5 23:23 lecture 2.out\\n-rw-r--r--@ 1 cdohl  staff  304113 Feb  5 23:23 lecture 2.pdf\\n-rw-r--r--  1 cdohl  staff   30783 Feb  5 22:52 lecture 2.tex\\ndrwxr-xr-x  3 cdohl  staff     102 Feb  5 22:41 lecture 2_files\\n-rw-r--r--  1 cdohl  staff    2746 Feb  6 09:44 lecture 3.aux\\n-rw-r--r--  1 cdohl  staff   12225 Feb  6 09:31 lecture 3.ipynb\\n-rw-r--r--  1 cdohl  staff   36340 Feb  6 09:44 lecture 3.log\\n-rw-r--r--  1 cdohl  staff     443 Feb  6 09:44 lecture 3.out\\n-rw-r--r--@ 1 cdohl  staff  142208 Feb  6 09:44 lecture 3.pdf\\n-rw-r--r--  1 cdohl  staff   23241 Feb  6 09:49 lecture 3.tex\\n-rw-r--r--  1 cdohl  staff   25920 Feb  3 23:49 lecture 4.ipynb\\n-rw-r--r--  1 cdohl  staff    1271 Feb  3 23:43 testformat.aux\\n-rw-r--r--  1 cdohl  staff   26489 Feb  3 23:43 testformat.log\\n-rw-r--r--  1 cdohl  staff     115 Feb  3 23:43 testformat.out\\n-rw-r--r--@ 1 cdohl  staff  146204 Feb  3 23:43 testformat.pdf\\n-rw-r--r--  1 cdohl  staff   26043 Feb  3 23:43 testformat.tex\\n-rw-r--r--  1 cdohl  staff     103 Feb  3 23:43 testformatNotes.bib\\ndrwxr-xr-x  3 cdohl  staff     102 Feb  3 22:22 testformat_files\\n-rw-r--r--  1 cdohl  staff       0 Feb  6 09:33 untitled.txt\\n'"
      ]
     },
     "execution_count": 18,
     "metadata": {},
     "output_type": "execute_result"
    }
   ],
   "source": [
    "a"
   ]
  },
  {
   "cell_type": "code",
   "execution_count": 40,
   "metadata": {
    "collapsed": false
   },
   "outputs": [
    {
     "ename": "CalledProcessError",
     "evalue": "Command '['jupyter', 'nbconvert --to latex --template lecture_article Untitled3.ipynb']' returned non-zero exit status 1",
     "output_type": "error",
     "traceback": [
      "\u001b[0;31m---------------------------------------------------------------------------\u001b[0m",
      "\u001b[0;31mCalledProcessError\u001b[0m                        Traceback (most recent call last)",
      "\u001b[0;32m<ipython-input-40-10b4ec4dfe69>\u001b[0m in \u001b[0;36m<module>\u001b[0;34m()\u001b[0m\n\u001b[1;32m      1\u001b[0m \u001b[0;32mimport\u001b[0m \u001b[0msubprocess\u001b[0m\u001b[0;34m\u001b[0m\u001b[0m\n\u001b[1;32m      2\u001b[0m a=subprocess.check_output(\n\u001b[0;32m----> 3\u001b[0;31m     [\"jupyter\",\"nbconvert --to latex --template lecture_article Untitled3.ipynb\"])\n\u001b[0m\u001b[1;32m      4\u001b[0m \u001b[0;34m\u001b[0m\u001b[0m\n\u001b[1;32m      5\u001b[0m \u001b[0ma\u001b[0m\u001b[0;34m\u001b[0m\u001b[0m\n",
      "\u001b[0;32m/Users/cdohl/anaconda/lib/python2.7/subprocess.pyc\u001b[0m in \u001b[0;36mcheck_output\u001b[0;34m(*popenargs, **kwargs)\u001b[0m\n\u001b[1;32m    571\u001b[0m         \u001b[0;32mif\u001b[0m \u001b[0mcmd\u001b[0m \u001b[0;32mis\u001b[0m \u001b[0mNone\u001b[0m\u001b[0;34m:\u001b[0m\u001b[0;34m\u001b[0m\u001b[0m\n\u001b[1;32m    572\u001b[0m             \u001b[0mcmd\u001b[0m \u001b[0;34m=\u001b[0m \u001b[0mpopenargs\u001b[0m\u001b[0;34m[\u001b[0m\u001b[0;36m0\u001b[0m\u001b[0;34m]\u001b[0m\u001b[0;34m\u001b[0m\u001b[0m\n\u001b[0;32m--> 573\u001b[0;31m         \u001b[0;32mraise\u001b[0m \u001b[0mCalledProcessError\u001b[0m\u001b[0;34m(\u001b[0m\u001b[0mretcode\u001b[0m\u001b[0;34m,\u001b[0m \u001b[0mcmd\u001b[0m\u001b[0;34m,\u001b[0m \u001b[0moutput\u001b[0m\u001b[0;34m=\u001b[0m\u001b[0moutput\u001b[0m\u001b[0;34m)\u001b[0m\u001b[0;34m\u001b[0m\u001b[0m\n\u001b[0m\u001b[1;32m    574\u001b[0m     \u001b[0;32mreturn\u001b[0m \u001b[0moutput\u001b[0m\u001b[0;34m\u001b[0m\u001b[0m\n\u001b[1;32m    575\u001b[0m \u001b[0;34m\u001b[0m\u001b[0m\n",
      "\u001b[0;31mCalledProcessError\u001b[0m: Command '['jupyter', 'nbconvert --to latex --template lecture_article Untitled3.ipynb']' returned non-zero exit status 1"
     ]
    }
   ],
   "source": [
    "import subprocess\n",
    "a=subprocess.check_output(\n",
    "    [\"jupyter\",\"nbconvert --to latex --template lecture_article Untitled3.ipynb\"])\n",
    "\n",
    "a"
   ]
  },
  {
   "cell_type": "code",
   "execution_count": 32,
   "metadata": {
    "collapsed": false
   },
   "outputs": [
    {
     "data": {
      "text/plain": [
       "'Filesystem      Size   Used  Avail Capacity  iused    ifree %iused  Mounted on\\n/dev/disk1     465Gi  233Gi  231Gi    51% 61253347 60586267   50%   /\\ndevfs          183Ki  183Ki    0Bi   100%      634        0  100%   /dev\\nmap -hosts       0Bi    0Bi    0Bi   100%        0        0  100%   /net\\nmap auto_home    0Bi    0Bi    0Bi   100%        0        0  100%   /home\\n'"
      ]
     },
     "execution_count": 32,
     "metadata": {},
     "output_type": "execute_result"
    }
   ],
   "source": [
    "a"
   ]
  },
  {
   "cell_type": "code",
   "execution_count": null,
   "metadata": {
    "collapsed": true
   },
   "outputs": [],
   "source": [
    "s"
   ]
  }
 ],
 "metadata": {
  "kernelspec": {
   "display_name": "Python 2",
   "language": "python",
   "name": "python2"
  },
  "language_info": {
   "codemirror_mode": {
    "name": "ipython",
    "version": 2
   },
   "file_extension": ".py",
   "mimetype": "text/x-python",
   "name": "python",
   "nbconvert_exporter": "python",
   "pygments_lexer": "ipython2",
   "version": "2.7.11"
  }
 },
 "nbformat": 4,
 "nbformat_minor": 0
}
