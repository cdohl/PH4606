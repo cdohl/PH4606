{
 "cells": [
  {
   "cell_type": "code",
   "execution_count": 54,
   "metadata": {
    "collapsed": false,
    "scrolled": true
   },
   "outputs": [
    {
     "name": "stdout",
     "output_type": "stream",
     "text": [
      "Overwriting wavesolverPML.py\n"
     ]
    }
   ],
   "source": [
    "%%writefile wavesolverPML.py\n",
    "import numpy as np\n",
    "import time\n",
    "from scipy import weave\n",
    "from scipy.weave import converters\n",
    "\n",
    "class WaveSolverPML(object):\n",
    "    \"\"\"\n",
    "    WaveSolver       Class calculates the wave equation in a homogeneous medium\n",
    "    with a prefectly matched layer\n",
    "    nx:              size of square calculation grid\n",
    "    wavelength:      wavelength of the wave\n",
    "    CFL:             CFL parameter dt*c/dx should be smaller than 1/sqrt(2)\n",
    "    sim_duration:    duration of simulation\n",
    "    pml_length:      size of PML layer\n",
    "    plotcallback:    callback function for plotting/saving the result\n",
    "                     the callback receives two parameters self.u and time\n",
    "    output:          number of outputs per period of the source\n",
    "    \n",
    "    Following the numerical scheme derived in http://arxiv.org/pdf/1001.0319v1.pdf\n",
    "    Marcus J. Grote and Imbo Sim\n",
    "    \"\"\"\n",
    "    \n",
    "    def __init__(self, nx=128, wavelength=.3, CFL=0.1,\\\n",
    "                 sim_duration=2., output=5, slowdown=0, plotcallback=None,\\\n",
    "                 pml_length=16):\n",
    "        \n",
    "        self.__pml_length=pml_length\n",
    "        self.__nx=nx+2*self.pml_length\n",
    "        self.__ny=self.__nx\n",
    "        self.__size=2. #excluding the PML\n",
    "        self.__dx=self.__size/(self.__nx-2*self.pml_length-1)\n",
    "        self.__c1=1.\n",
    "        self.__sim_duration=sim_duration\n",
    "        self.__slowdown=slowdown\n",
    "        self.CFL = CFL\n",
    "        self.wavelength = wavelength\n",
    "        self.__u  = np.zeros((self.__nx,self.__ny)) #amplitude at t\n",
    "        self.__un = np.zeros((self.__nx,self.__ny)) #amplitude at t-dt\n",
    "        self.__unn= np.zeros((self.__nx,self.__ny)) #amplitude at t-2*dt\n",
    "        \n",
    "        #PML variables\n",
    "        self.__zeta1 = np.zeros(self.__nx)\n",
    "        self.__zeta2 = np.zeros(self.__ny)\n",
    "        self.__phix = np.zeros((self.__nx,self.__ny))\n",
    "        self.__phiy = np.zeros((self.__nx,self.__ny))\n",
    "        self.__phixn = np.zeros((self.__nx,self.__ny))\n",
    "        self.__phiyn = np.zeros((self.__nx,self.__ny))\n",
    "        self.__zetam = 20.\n",
    "        \n",
    "        self.output = output \n",
    "        self.__src_function = None\n",
    "        \n",
    "        if plotcallback is not None:\n",
    "            self.__plotcallback = plotcallback\n",
    "        else:\n",
    "            self.__plotcallback = self.simplecallback\n",
    "\n",
    "        self.__absorber_y = []\n",
    "        \n",
    "        self.__init_pml()\n",
    "\n",
    "    def __init_pml(self):\n",
    "        #setup the PML using a 2-times differential equation\n",
    "        for i in range(0,self.pml_length):\n",
    "            xl=float(self.pml_length-i)/self.pml_length\n",
    "            self.__zeta1[i]=self.__zetam*\\\n",
    "                (xl-np.sin(2.*np.pi*xl)/2./np.pi)\n",
    "            self.__zeta1[self.__nx-i-1]=self.__zetam*\\\n",
    "                (xl-np.sin(2.*np.pi*xl)/2./np.pi)\n",
    "            self.__zeta2[i]=self.__zetam*\\\n",
    "                (xl-np.sin(2.*np.pi*xl)/2./np.pi)\n",
    "            self.__zeta2[self.__nx-i-1]=self.__zetam*\\\n",
    "                (xl-np.sin(2.*np.pi*xl)/2./np.pi)\n",
    "    \n",
    "    \n",
    "    def simplecallback(self,u,t):\n",
    "        \"\"\"Prints the current time\"\"\"\n",
    "        print \"time {0:.2}\".format(t)\n",
    "\n",
    "    def cfg_simpleconfig(self, src_duration=0.1):\n",
    "        #Source\n",
    "        self.__src_duration=src_duration\n",
    "        self.__emissionlength=self.__nx-2*self.pml_length\n",
    "        self.__src_emissionlength = self.__nx-2.*self.pml_length\n",
    "        self.__src_starty = int(self.__nx/2.-self.__src_emissionlength/2.)\n",
    "        self.__src_function = self.__planesource\n",
    "        #Timestepper\n",
    "        self.__timestepper = self.__homogeneous_PML_stable\n",
    "        \n",
    "    def cfg_singleslit(self, ow=0.1, pos=0.3, src_duration=0.1):\n",
    "        \"\"\"\n",
    "        Single slit experiment, where slit is oriented along y-axis,\n",
    "        and the wave is coming from the left. The homogeneous wave\n",
    "        equation is solved.\n",
    "        ow:  width of the slit\n",
    "        pos: x-position in real coordinates [0;size]\n",
    "        \"\"\"\n",
    "        #Source\n",
    "        self.__src_duration = src_duration\n",
    "        self.__src_posx = self.pml_length\n",
    "        self.__src_emissionlength = int(.9*(self.__nx-2.*self.pml_length))\n",
    "        self.__src_starty = int(self.__nx/2.-self.__src_emissionlength/2.)\n",
    "        self.__src_function = self.__planesource\n",
    "        #BC\n",
    "        #Absorber\n",
    "        yy=np.linspace(0., self.__size, self.__ny-2*self.pml_length)\n",
    "        self.__absorber_y = np.asarray(np.where((yy>self.__size/2.+ow/2.)|\\\n",
    "                          (yy<self.__size/2.-ow/2.))[0])+self.pml_length\n",
    "        self.__absorber_x = int(pos/self.__size*self.__nx-self.pml_length)\n",
    "        #Timestepper\n",
    "        self.__timestepper = self.__homogeneous_PML_stable      \n",
    "             \n",
    "    def cfg_doubleslit(self, ow=0.1, dw=1., pos=0.3, src_duration=0.1):\n",
    "        \"\"\"\n",
    "        Double slit experiment, where the slits are oriented along y-axis,\n",
    "        and the wave is coming from the left. The homogeneous wave\n",
    "        equation is solved.\n",
    "        ow:  width of the slits\n",
    "        dw: distance between the slits' centers \n",
    "        pos: x-position between [0;size]\n",
    "        \"\"\"\n",
    "        #Source\n",
    "        self.__src_duration = src_duration\n",
    "        self.__src_posx = self.pml_length\n",
    "        self.__src_emissionlength = int(.9*(self.__nx-2.*self.pml_length))\n",
    "        self.__src_starty = int(self.__nx/2.-self.__src_emissionlength/2.)\n",
    "        self.__src_function = self.__planesource       \n",
    "        #Absorber\n",
    "        yy = np.linspace(0., self.__size, self.__ny-2*self.pml_length)\n",
    "        self.__absorber_y = np.asarray(np.where((yy>self.__size/2.+dw/2.+ow/2.)|\\\n",
    "            (yy<self.__size/2.-dw/2.-ow/2.)|(yy>self.__size/2.-dw/2.+ow/2.) &\\\n",
    "            (yy<1.+dw/2.-ow/2.))[0])+self.pml_length\n",
    "        self.__absorber_x = int(pos/self.__size*(self.__nx-2*self.pml_length))+self.pml_length   \n",
    "        #Timestepper\n",
    "        self.__timestepper = self.__homogeneous_PML_stable\n",
    "\n",
    "    def cfg_pointsource(self, src_posx=1., src_posy=1., src_duration=0.1):\n",
    "        #Source\n",
    "        self.__src_duration=src_duration\n",
    "        self.__src_posx = self.pml_length\n",
    "        self.__src_posx = int(src_posx/self.__size*(self.__nx-2*self.pml_length))+self.pml_length\n",
    "        self.__src_posy = int(src_posy/self.__size*(self.__ny-2*self.pml_length))+self.pml_length \n",
    "        self.__src_function = self.__pointsource\n",
    "        #Timestepper\n",
    "        self.__timestepper = self.__homogeneous_PML_stable\n",
    "    \n",
    "    def __pointsource(self, time):\n",
    "        #pressure point source \n",
    "        if time<(self.__src_duration+3.*self.__dt):\n",
    "            self.__u[self.__src_posx, self.__src_posy]=\\\n",
    "                50.*np.sin(self.omega*(time))*(time<self.__src_duration) #take care it goes to 0\n",
    "                \n",
    "    def __planesource(self, time):\n",
    "        if time<(self.__src_duration+3.*self.__dt):\n",
    "            self.__u[self.__src_posx, self.__src_starty:self.__src_starty+self.__src_emissionlength]=\\\n",
    "                np.sin(self.omega*(time))*(time<self.__src_duration) #take care it goes to 0\n",
    "                    \n",
    "    @property\n",
    "    def pml_length(self):\n",
    "        \"\"\"size of PML layer\"\"\"\n",
    "        return self.__pml_length\n",
    "    \n",
    "    @property\n",
    "    def u(self):\n",
    "        \"\"\"Wave on the grid\"\"\"\n",
    "        return self.__u\n",
    "    \n",
    "    @property\n",
    "    def CFL(self):\n",
    "        \"\"\"CFL parameter (see class decription)\"\"\"\n",
    "        return self.__CFL\n",
    "    \n",
    "    @property\n",
    "    def dt(self):\n",
    "        \"\"\"Length of each timestep\"\"\"\n",
    "        return self.__dt\n",
    "    \n",
    "    @property\n",
    "    def nu(self):\n",
    "        \"\"\"Frequency\"\"\"\n",
    "        return self.__nu\n",
    "    \n",
    "    @property\n",
    "    def omega(self):\n",
    "        \"\"\"Angular frequency\"\"\"\n",
    "        return 2.*self.__nu*np.pi\n",
    "    \n",
    "    @property\n",
    "    def nt(self):\n",
    "        \"\"\"Number of timesteps\"\"\"\n",
    "        return int(self.__sim_duration/self.__dt)\n",
    "    \n",
    "    @property\n",
    "    def wavelength(self):\n",
    "        \"\"\"Wavelength\"\"\"\n",
    "        return self.__wavelength\n",
    "\n",
    "    @property\n",
    "    def zeta1(self):\n",
    "        return self.__zeta1\n",
    "    \n",
    "    @property\n",
    "    def output(self):\n",
    "        \"\"\"List of output timesteps using the plotcallback function\"\"\"\n",
    "        return self.__output\n",
    "    \n",
    "    @output.setter\n",
    "    def output(self, output):\n",
    "        self.__output=int(1./self.nu/self.__dt/output)\n",
    "            \n",
    "    @CFL.setter\n",
    "    def CFL(self, CFL):\n",
    "        self.__CFL = CFL  #CFL number < 1/sqrt(2)\n",
    "        self.__dt = CFL*self.__dx/self.__c1 \n",
    "        self.__nt = int(self.__sim_duration/self.__dt)\n",
    "    \n",
    "    @wavelength.setter\n",
    "    def wavelength(self, wavelength):\n",
    "        self.__wavelength = wavelength\n",
    "        self.__nu=self.__c1/self.__wavelength\n",
    "          \n",
    "    def __homogeneous_PML_stable(self):\n",
    "    \n",
    "        u = self.__u\n",
    "        un = self.__un\n",
    "        unn = self.__unn\n",
    "        dt = self.__dt\n",
    "        dx = self.__dx\n",
    "        nx = self.__nx\n",
    "        ny = self.__ny\n",
    "        zeta1 = self.__zeta1\n",
    "        zeta2 = self.__zeta2\n",
    "        c = self.__c1\n",
    "        phix = self.__phix\n",
    "        phiy = self.__phiy\n",
    "        phixn = self.__phixn\n",
    "        phiyn = self.__phiyn\n",
    "        \n",
    "        code = \"\"\"\n",
    "            for (int i=1; i<nx-1; ++i) {\n",
    "                for (int j=1; j<ny-1; ++j) {\n",
    "                    u(i,j) = 1./(1./dt/dt+(zeta1(i)+zeta2(j))/2./dt)*\n",
    "                            (  un(i,j)*(2./dt/dt-zeta1(i)*zeta2(j))\n",
    "                             +unn(i,j)*((zeta1(i)+zeta2(j))/2./dt-1./dt/dt)\n",
    "                             +c*c/dx/dx*(un(i-1,j)+un(i+1,j)+un(i,j-1)+un(i,j+1)-4.*un(i,j))\n",
    "                             +0.5/dx*( phixn(i,j-1)+phixn(i,j)-phixn(i-1,j-1)-phixn(i-1,j)\n",
    "                                      +phiyn(i-1,j)+phiyn(i,j)-phiyn(i-1,j-1)-phiyn(i,j-1)));\n",
    "                 }\n",
    "            }\n",
    "            for (int i=1; i<nx-1; ++i) {\n",
    "                for (int j=1; j<ny-1; ++j) {\n",
    "                    phix(i,j) = 1./(1./dt+zeta1(i)/2.)*(phixn(i,j)*(1./dt-zeta1(i)/2.)\n",
    "                                 +(zeta2(j)-zeta1(i))*c*c*.25/dx*\n",
    "                                   ( u(i+1,j+1)+u(i+1,j)-u(i,j+1)-u(i,j)\n",
    "                                    +un(i+1,j+1)+un(i+1,j)-un(i,j+1)-un(i,j)));\n",
    "                    phiy(i,j) = 1./(1./dt+zeta2(j)/2.)*(phiyn(i,j)*(1./dt-zeta2(j)/2.)\n",
    "                                 +(zeta1(i)-zeta2(j))*c*c*.25/dx*\n",
    "                                   ( u(i+1,j+1)+u(i,j+1)-u(i+1,j)-u(i,j)\n",
    "                                    +un(i+1,j+1)+un(i,j+1)-un(i+1,j)-un(i,j)));\n",
    "                }\n",
    "            }\n",
    "        \"\"\"\n",
    "        weave.inline(code,['u', 'un', 'unn', 'dt','dx','nx','ny','zeta1','zeta2','c',\n",
    "                           'phixn','phiyn','phix','phiy'],\n",
    "                   type_converters = converters.blitz)#, compiler = 'gcc')\n",
    "        return u\n",
    "  \n",
    "    def solve(self):\n",
    "        \"\"\"Solve the wave equation in an inhomogeneous medium\"\"\"\n",
    "        for n in range(self.__nt+1): ##loop across number of time steps\n",
    "\n",
    "            #self.__u=self.__inhomogeneous()\n",
    "            self.__u=self.__timestepper()\n",
    "            \n",
    "            #Impose the boundary conditions                 \n",
    "            self.__u[0,:] = self.__u[1,:]\n",
    "            self.__phix[0,:] = self.__phix[1,:]\n",
    "            self.__phiy[0,:] = self.__phiy[1,:]  \n",
    "\n",
    "            self.__u[-1,:] = self.__u[-2,:]\n",
    "            self.__phix[-1,:] = self.__phix[-2,:]\n",
    "            self.__phiy[-1,:] = self.__phiy[-2,:]   \n",
    "\n",
    "            self.__u[:,0] = self.__u[:,1]\n",
    "            self.__phix[:,0] = self.__phix[:,1]\n",
    "            self.__phiy[:,0] = self.__phiy[:,1]\n",
    "\n",
    "            self.__u[:,-1] = self.__u[:,-2]\n",
    "            self.__phix[:,-1] = self.__phix[:,-2]\n",
    "            self.__phiy[:,-1] = self.__phiy[:,-2]\n",
    "                \n",
    "            if np.size(self.__absorber_y)>0:\n",
    "                self.__u[self.__absorber_x,self.__absorber_y] = -self.__dx/self.__dt/\\\n",
    "                    self.__c1*\\\n",
    "                    (self.__u[self.__absorber_x-1,self.__absorber_y]-\\\n",
    "                     self.__un[self.__absorber_x-1,self.__absorber_y])+\\\n",
    "                     self.__u[self.__absorber_x-1,self.__absorber_y]\n",
    "                self.__u[self.__absorber_x+1,self.__absorber_y] = 0.                \n",
    "\n",
    "            #Call Source     \n",
    "            if self.__src_function:\n",
    "                self.__src_function(n*self.__dt)\n",
    "\n",
    "            #save values for the time derivative \n",
    "            self.__unn = self.__un.copy() #n-1 time step\n",
    "            self.__un = self.__u.copy()   #n time step\n",
    "            self.__phixn = self.__phix.copy()\n",
    "            self.__phiyn = self.__phiy.copy()\n",
    "\n",
    "            if n % self.__output is 0:\n",
    "                self.__plotcallback(self.__u[self.pml_length:-self.pml_length,self.pml_length:-self.pml_length],n*self.__dt)\n",
    "                time.sleep(self.__slowdown)\n"
   ]
  },
  {
   "cell_type": "code",
   "execution_count": 53,
   "metadata": {
    "collapsed": false,
    "scrolled": false
   },
   "outputs": [
    {
     "name": "stdout",
     "output_type": "stream",
     "text": [
      "Writing examplePML.py\n"
     ]
    }
   ],
   "source": [
    "#%%writefile examplePML.py\n",
    "%matplotlib inline\n",
    "from IPython import display #for continous display\n",
    "import matplotlib.pyplot as plt #plotting\n",
    "\n",
    "def plotwave(u,time):\n",
    "    plt.clf()\n",
    "    #plot the pressue field\n",
    "    plt.imshow(np.transpose(u), origin='upper', extent=[0., 2., 0., 2.], vmax=2, vmin=-2) #plot the wave field\n",
    "    plt.text(0.1,1.8,\"time {0:.5f}\".format(time)) #annotate the time\n",
    "    plt.gca().set_xlim([0.,2.])\n",
    "    plt.gca().set_ylim([0.,2.])\n",
    "    display.clear_output(wait=True)\n",
    "    display.display(plt.gcf())\n",
    "\n",
    "plt.figure(1, figsize=(8, 8), dpi=100)\n",
    "#setup waveobject\n",
    "a=WaveSolverPML(nx=100, pml_length=10, CFL=.4, wavelength=0.2,\n",
    "                output=5, slowdown=0, plotcallback=plotwave, sim_duration=4.)\n",
    "#setup an experiment\n",
    "#a.cfg_simpleconfig()\n",
    "#a.cfg_singleslit(ow=0.1,pos=.4)\n",
    "a.cfg_doubleslit(dw=0.6,ow=0.15,pos=.6,src_duration=4.)\n",
    "#a.cfg_pointsource(src_posx=.1,src_duration=5.)\n",
    "#start solving it\n",
    "a.solve()"
   ]
  },
  {
   "cell_type": "code",
   "execution_count": null,
   "metadata": {
    "collapsed": false
   },
   "outputs": [],
   "source": [
    "a=np.zeros(0)\n",
    "np.size(a)"
   ]
  },
  {
   "cell_type": "code",
   "execution_count": null,
   "metadata": {
    "collapsed": false
   },
   "outputs": [],
   "source": [
    "a.zeta1[-33,0]"
   ]
  },
  {
   "cell_type": "code",
   "execution_count": null,
   "metadata": {
    "collapsed": false
   },
   "outputs": [],
   "source": [
    "range?"
   ]
  },
  {
   "cell_type": "code",
   "execution_count": null,
   "metadata": {
    "collapsed": false
   },
   "outputs": [],
   "source": [
    "CFL"
   ]
  },
  {
   "cell_type": "code",
   "execution_count": null,
   "metadata": {
    "collapsed": false
   },
   "outputs": [],
   "source": [
    "not('k' in vars())"
   ]
  },
  {
   "cell_type": "code",
   "execution_count": null,
   "metadata": {
    "collapsed": true
   },
   "outputs": [],
   "source": [
    "stuff = {'west': 'open', 'east': 'reflective'}"
   ]
  },
  {
   "cell_type": "code",
   "execution_count": null,
   "metadata": {
    "collapsed": false
   },
   "outputs": [],
   "source": [
    "stuff['west'] is 'open'"
   ]
  },
  {
   "cell_type": "code",
   "execution_count": null,
   "metadata": {
    "collapsed": false
   },
   "outputs": [],
   "source": [
    "import numpy as np\n",
    "a=np.zeros((10,10))"
   ]
  },
  {
   "cell_type": "code",
   "execution_count": null,
   "metadata": {
    "collapsed": false
   },
   "outputs": [],
   "source": [
    "type(a)==np.ndarray"
   ]
  },
  {
   "cell_type": "code",
   "execution_count": null,
   "metadata": {
    "collapsed": false
   },
   "outputs": [],
   "source": [
    "np.pi"
   ]
  },
  {
   "cell_type": "code",
   "execution_count": null,
   "metadata": {
    "collapsed": false
   },
   "outputs": [],
   "source": [
    "a=1\n",
    "type(a)"
   ]
  },
  {
   "cell_type": "code",
   "execution_count": null,
   "metadata": {
    "collapsed": true
   },
   "outputs": [],
   "source": [
    "range?"
   ]
  },
  {
   "cell_type": "code",
   "execution_count": null,
   "metadata": {
    "collapsed": false
   },
   "outputs": [],
   "source": [
    "np.zeros(10)"
   ]
  },
  {
   "cell_type": "code",
   "execution_count": null,
   "metadata": {
    "collapsed": false
   },
   "outputs": [],
   "source": [
    "yy = np.linspace(0., 2., 20)\n",
    "y=np.asarray(np.where((yy>1.) & (yy<1.5))[0])"
   ]
  },
  {
   "cell_type": "code",
   "execution_count": null,
   "metadata": {
    "collapsed": false
   },
   "outputs": [],
   "source": [
    "yy[y]"
   ]
  },
  {
   "cell_type": "code",
   "execution_count": null,
   "metadata": {
    "collapsed": true
   },
   "outputs": [],
   "source": [
    "np.where?"
   ]
  },
  {
   "cell_type": "code",
   "execution_count": null,
   "metadata": {
    "collapsed": true
   },
   "outputs": [],
   "source": []
  }
 ],
 "metadata": {
  "kernelspec": {
   "display_name": "Python 2",
   "language": "python",
   "name": "python2"
  },
  "language_info": {
   "codemirror_mode": {
    "name": "ipython",
    "version": 2
   },
   "file_extension": ".py",
   "mimetype": "text/x-python",
   "name": "python",
   "nbconvert_exporter": "python",
   "pygments_lexer": "ipython2",
   "version": "2.7.11"
  }
 },
 "nbformat": 4,
 "nbformat_minor": 0
}
