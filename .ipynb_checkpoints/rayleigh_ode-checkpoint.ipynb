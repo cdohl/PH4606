{
 "cells": [
  {
   "cell_type": "code",
   "execution_count": 10,
   "metadata": {
    "collapsed": false
   },
   "outputs": [],
   "source": [
    "%matplotlib inline \n",
    "import numpy as np #work with arrays\n",
    "from scipy import integrate\n",
    "#from scipy.integrate import odeint\n",
    "from matplotlib.pylab import *"
   ]
  },
  {
   "cell_type": "markdown",
   "metadata": {},
   "source": [
    "# Rayleigh Plesset Equation\n",
    "\n",
    "The Rayleigh Plesset Equation (without viscous dissipation) is given by Eq. (1):\n",
    "\\begin{equation}\n",
    "R \\ddot{R} +\\frac{3}{2} \\dot{R}^2=\\frac{p_v-p_\\infty(t)}{\\rho}+\\frac{p_{g0}}{\\rho}\\left(\\frac{R_0}{R}\\right)^{3\\kappa}-\\frac{2\\sigma}{\\rho R}\\tag{1}\n",
    "\\end{equation}\n",
    "The driving of the bubble occurs through the pressure $p_\\infty(t)$ term. This could be for example through a harmonic driving $p_\\infty(t)=p_0 + p_a \\sin (\\omega t)$ where $\\omega$ is the angular frequency, $p_0$ the static pressure, and $p_a$ the amplitude of the driving.\n",
    "\n",
    "We want to solve this equation for small and large oscillations, i.e. for small and large pressures $p_a$. To do so we first define the constants for an air bubble in water at room temperature undergoing isothermal compression."
   ]
  },
  {
   "cell_type": "code",
   "execution_count": 63,
   "metadata": {
    "collapsed": true
   },
   "outputs": [],
   "source": [
    "pv=2.3388e3     #[Pa] vapour pressure of water\n",
    "sigma=0.072     #[N/m] coefficient of surface tension between air and water\n",
    "rho=998         #[kg/m^3] density of water\n",
    "kappa=1.2        #polytropic exponent of the gas\n",
    "p0=1e5          #[Pa] static pressure\n",
    "mu=1e-3         #[Pa s]"
   ]
  },
  {
   "cell_type": "markdown",
   "metadata": {},
   "source": [
    "The gas pressure at equilibrium is given by the equilibrium condition\n",
    "\n",
    "\\begin{equation}\n",
    "p_v+p_{g0}=p_\\infty+\\frac{2\\sigma}{R}\\tag{2}\n",
    "\\end{equation}\n",
    "\n",
    "We can solve this nonlinear ODE with the built in solver in python. Therefore, we have to rephrase the 2nd Order ODE into two first order ODEs by variable substitution:\n",
    "\n",
    "\\begin{eqnarray}\n",
    "y_0&=&R\\tag{3a}\\\\\n",
    "y_1&=&\\tag{3b}\\dot{R}\n",
    "\\end{eqnarray}\n",
    "\n",
    "\\begin{equation}\n",
    "\\dot{R}=\\frac{dy_0}{dt}=y_1 \\tag{4}\n",
    "\\end{equation}\n",
    "and using the Rayleigh Equation we obtain:\n",
    "\\begin{equation}\n",
    "\\ddot{R}=\\frac{dy_1}{dt}=\\frac{1}{y_0}\\left[\n",
    "\\frac{p_v-p_\\infty(t)}{\\rho}+\\frac{p_g0}{\\rho}\\left(\\frac{R_0}{y_0}\\right)^{3\\kappa}-\\frac{2\\sigma}{\\rho y_0}-\\frac{3}{2}(y_1)^2\n",
    "\\right]\\tag{5}\n",
    "\\end{equation}\n",
    "\n",
    "These two first order ODEs are defined as function `rp(t,y)`"
   ]
  },
  {
   "cell_type": "code",
   "execution_count": 64,
   "metadata": {
    "collapsed": false
   },
   "outputs": [],
   "source": [
    "def rp(t,y):\n",
    "    pinfty=p0+pa*np.sin(f*2.*np.pi*t)\n",
    "    pg0=p0+2.*sigma/R0-pv\n",
    "    dydt0=y[1]\n",
    "    dydt1=((pv-pinfty)/rho+pg0/rho*(R0/y[0])**(3.*kappa)-2.*sigma/(rho*y[0])-1.5*y[1]**2.-4.*mu*y[1]/(rho*y[0]))/y[0]\n",
    "    return [dydt0,dydt1]"
   ]
  },
  {
   "cell_type": "code",
   "execution_count": 69,
   "metadata": {
    "collapsed": false
   },
   "outputs": [
    {
     "name": "stderr",
     "output_type": "stream",
     "text": [
      "/Users/cdohl/anaconda/lib/python2.7/site-packages/ipykernel/__main__.py:9: DeprecationWarning: using a non-integer number instead of an integer will result in an error in the future\n",
      "/Users/cdohl/anaconda/lib/python2.7/site-packages/ipykernel/__main__.py:10: DeprecationWarning: using a non-integer number instead of an integer will result in an error in the future\n"
     ]
    },
    {
     "data": {
      "image/png": "[encoded data removed]",
      "text/plain": [
       "<matplotlib.figure.Figure at 0x1453d3890>"
      ]
     },
     "metadata": {},
     "output_type": "display_data"
    }
   ],
   "source": [
    "pa=0.01*p0\n",
    "R0=1e-3\n",
    "f=1.4e3\n",
    "\n",
    "t_start = 0.0\n",
    "t_final = 10./f\n",
    "delta_t = t_final/10000.\n",
    "num_steps = np.floor((t_final - t_start)/delta_t) + 2\n",
    "time = np.zeros((num_steps, 1))\n",
    "R = np.zeros((num_steps, 1))\n",
    "time[0] = t_start\n",
    "R[0] = R0\n",
    "\n",
    "ode15s = integrate.ode(rp)\n",
    "ode15s.set_integrator('vode', method='bdf', order=15, nsteps=30000)\n",
    "ode15s.set_initial_value([R[0],0.], t_start)\n",
    "\n",
    "k = 1\n",
    "while ode15s.successful() and ode15s.t < t_final:\n",
    "    ode15s.integrate(ode15s.t+delta_t)\n",
    "    time[k] = ode15s.t\n",
    "    R[k] = ode15s.y[0]\n",
    "    k += 1\n",
    "    \n",
    "plt.plot(time,R-R0);\n"
   ]
  },
  {
   "cell_type": "code",
   "execution_count": 40,
   "metadata": {
    "collapsed": false
   },
   "outputs": [
    {
     "data": {
      "text/plain": [
       "10001"
      ]
     },
     "execution_count": 40,
     "metadata": {},
     "output_type": "execute_result"
    }
   ],
   "source": [
    "k"
   ]
  },
  {
   "cell_type": "markdown",
   "metadata": {},
   "source": [
    "The collapse time, $T_c$ which is the time from maximum bubble radius to $0$ can be calculated [analytically](http://arxiv.org/abs/physics/0702147)\n",
    " and is $$T_c\\approx0.91 R_\\mbox{max}\\sqrt{\\frac{\\rho}{p_0}}\\quad .$$ We use this here as the final time.\n",
    "\n",
    "Next we set-up the integrator, provide the intital values (* which are? *), and calculate."
   ]
  },
  {
   "cell_type": "code",
   "execution_count": null,
   "metadata": {
    "collapsed": false
   },
   "outputs": [],
   "source": [
    "t = np.zeros((num_steps, 1))\n",
    "R = np.zeros((num_steps, 1))\n",
    "ode = integrate.ode(rp).set_integrator('vode', method='bdf')\n",
    "ode.set_initial_value([Rmax,0],t_start)\n",
    "R[0]=Rmax\n",
    "t[0]=t_start\n",
    "k=1\n",
    "while ode.successful() and k<num_steps:\n",
    "    ode.integrate(ode.t+delta_t)\n",
    "    t[k]=ode.t\n",
    "    R[k]=ode.y[0]\n",
    "    k+=1"
   ]
  },
  {
   "cell_type": "code",
   "execution_count": null,
   "metadata": {
    "collapsed": false
   },
   "outputs": [],
   "source": [
    "plot(t/t_final,R/Rmax)"
   ]
  },
  {
   "cell_type": "code",
   "execution_count": null,
   "metadata": {
    "collapsed": false
   },
   "outputs": [],
   "source": [
    "from IPython.core.display import HTML\n",
    "def css_styling():\n",
    "    styles = open(\"styles/custom.css\", \"r\").read()\n",
    "    return HTML(styles)\n",
    "css_styling()"
   ]
  },
  {
   "cell_type": "code",
   "execution_count": null,
   "metadata": {
    "collapsed": false
   },
   "outputs": [],
   "source": [
    "sqrt(3.*math.pi/2.)*math.gamma(5./6.)/math.gamma(1./3.)"
   ]
  },
  {
   "cell_type": "code",
   "execution_count": null,
   "metadata": {
    "collapsed": false
   },
   "outputs": [],
   "source": []
  }
 ],
 "metadata": {
  "kernelspec": {
   "display_name": "Python 2",
   "language": "python",
   "name": "python2"
  },
  "language_info": {
   "codemirror_mode": {
    "name": "ipython",
    "version": 2
   },
   "file_extension": ".py",
   "mimetype": "text/x-python",
   "name": "python",
   "nbconvert_exporter": "python",
   "pygments_lexer": "ipython2",
   "version": "2.7.11"
  }
 },
 "nbformat": 4,
 "nbformat_minor": 0
}
