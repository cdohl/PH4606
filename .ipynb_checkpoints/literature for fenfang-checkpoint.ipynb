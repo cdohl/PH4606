{
 "cells": [
  {
   "cell_type": "markdown",
   "metadata": {},
   "source": [
    "\n",
    "On the volume oscillations of a tethered bubble (Maksimov) only for small oscillations\n",
    "\n",
    "Periodically kicked oscillators:  not sure if necessary...\n",
    "\n",
    "Leidenfrost\n",
    "  * (Dhir 1998): Review on boiling, \n",
    "  * (Varanasi 2015): Critical heat flux, textured surfaces \n",
    "\n",
    "Thin wire work\n",
    "  * (Peng book): heating of bubbles on thin wires. \n",
    "  * (Munro, Ban): flow of small bubbles leaving the wire different from our bubble pinching off\n",
    "\n",
    "Small heaters \n",
    "  * (Zenit): Bubble formation during the coating a glass fiber tip\n",
    "  * (Sukhodol'skii 1987): Oscillation of bubbles (20-1000Hz), thermal model (100-700us lifetime)\n",
    "  * (Sukhodolsky 1990): thermocavitation, vaporous explosion -> large bubble, effect of ethanol (volatile substance) large bubbles 0.5mm in diameter, low frequency\n",
    "  * (Ramos-Garcia 2010): copper nitrate solutions using a IR diode, smaller bubbles but still small frequency of 300Hz\n",
    "  * (Zheludev): Bubble oscillations at a fiber tip (MHz)\n",
    "  * (Poulikakos): Microheater for inkjet printing\n",
    "\n",
    "Nanoheaters  \n",
    "  * (Halas): Nanoparticles generating vapor/gas bubble\n",
    "\n",
    "Oscillation near boundary\n",
    "  * (Crum 1979): bubble splitting, 60Hz with 3mm bubble\n",
    "  * (Blake 1999): simulations, no splitting found\n",
    "  \n",
    "  \n",
    "  \n",
    "  "
   ]
  },
  {
   "cell_type": "code",
   "execution_count": null,
   "metadata": {
    "collapsed": true
   },
   "outputs": [],
   "source": []
  }
 ],
 "metadata": {
  "kernelspec": {
   "display_name": "Python 2",
   "language": "python",
   "name": "python2"
  },
  "language_info": {
   "codemirror_mode": {
    "name": "ipython",
    "version": 2
   },
   "file_extension": ".py",
   "mimetype": "text/x-python",
   "name": "python",
   "nbconvert_exporter": "python",
   "pygments_lexer": "ipython2",
   "version": "2.7.11"
  }
 },
 "nbformat": 4,
 "nbformat_minor": 0
}
