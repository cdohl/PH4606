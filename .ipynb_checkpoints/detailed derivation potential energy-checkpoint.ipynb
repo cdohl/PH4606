{
 "cells": [
  {
   "cell_type": "markdown",
   "metadata": {},
   "source": [
    "Conservation of mass gives\n",
    "$$\\rho V = \\rho_0 V_0\\tag{S1}$$\n",
    "and\n",
    "$$V=\\rho_0 V_0 \\frac{1}{\\rho}\\tag{S2}$$\n",
    "\n",
    "Thus we can write the differential $dV$ as\n",
    "\n",
    "$$dV=-\\rho_0 V_0 \\frac{1}{\\rho^2} d\\rho\\tag{S3}$$\n",
    "\n",
    "and inserting the mass conservation Eq.(S1) we obtain\n",
    "\n",
    "$$dV=-\\frac{\\rho V}{\\rho^2} d\\rho=-\\frac{V}{\\rho} d\\rho\\tag{S4}$$\n",
    "which idential to the first part of Eq.(3.3). The second part is just inserting of the  definition of the speed of sound and thus $dV=V/(\\rho c^2) dp$.\n",
    "\n",
    "The integration in the acoustic limit follows as such:\n",
    "\n",
    "$$-\\int_{V_0}^V p dV=-\\int_{0}^{p} p \\frac{V}{\\rho c^2} dp\\tag{S5}$$\n",
    "\n",
    "Now we use Eq.(S1) and solve for $\\rho$ and insert it into Eq. (S5) to obtain\n",
    "\n",
    "$$-\\int_{0}^{p}p\\frac{V^2}{\\rho_0 V_0 c^2}dp\\approx\n",
    "-\\int_{0}^{p}p\\frac{V_0^2}{\\rho_0 V_0 c^2}dp=-\\int_{0}^{p}p\\frac{V_0}{\\rho_0 c^2}dp\n",
    "\\tag{S6}\\quad .$$\n",
    "\n",
    "Pleas note for the approximation we assumed that $V^2\\approx V_0^2$.\n",
    "\n",
    "Integrating Eq.(S6) we obtain\n",
    "\n",
    "$$-\\frac{1}{2}\\left[p^2\\frac{V_0}{\\rho_0 c^2}\\right]_0^p=\n",
    "-\\frac{1}{2}\\frac{p^2V_0}{\\rho_0 c^2}\\tag{S7}\\quad ,$$\n",
    "\n",
    "which is our Eq. (3.4). "
   ]
  },
  {
   "cell_type": "code",
   "execution_count": null,
   "metadata": {
    "collapsed": true
   },
   "outputs": [],
   "source": []
  }
 ],
 "metadata": {
  "kernelspec": {
   "display_name": "Python 2",
   "language": "python",
   "name": "python2"
  },
  "language_info": {
   "codemirror_mode": {
    "name": "ipython",
    "version": 2
   },
   "file_extension": ".py",
   "mimetype": "text/x-python",
   "name": "python",
   "nbconvert_exporter": "python",
   "pygments_lexer": "ipython2",
   "version": "2.7.11"
  }
 },
 "nbformat": 4,
 "nbformat_minor": 0
}
