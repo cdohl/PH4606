{
 "cells": [
  {
   "cell_type": "markdown",
   "metadata": {},
   "source": [
    "# 4. Spherical Waves\n",
    "\n",
    "\n",
    "\\begin{eqnarray}\n",
    "x&=&r \\sin \\theta \\cos \\phi\\\\\n",
    "y&=&r \\sin \\theta \\sin \\phi\\\\\n",
    "z&=&r \\cos \\theta \\label{eqn:4}\n",
    "\\end{eqnarray}\n",
    "This refers to my equation \\ref{eqn:4}"
   ]
  },
  {
   "cell_type": "code",
   "execution_count": null,
   "metadata": {
    "collapsed": true
   },
   "outputs": [],
   "source": []
  }
 ],
 "metadata": {
  "kernelspec": {
   "display_name": "Python 2",
   "language": "python",
   "name": "python2"
  },
  "language_info": {
   "codemirror_mode": {
    "name": "ipython",
    "version": 2
   },
   "file_extension": ".py",
   "mimetype": "text/x-python",
   "name": "python",
   "nbconvert_exporter": "python",
   "pygments_lexer": "ipython2",
   "version": "2.7.11"
  },
  "latex_metadata": {
   "affiliation": "NTU, Singapore",
   "author": "Claus-Dieter Ohl",
   "title": "Spherical Waves"
  }
 },
 "nbformat": 4,
 "nbformat_minor": 0
}
