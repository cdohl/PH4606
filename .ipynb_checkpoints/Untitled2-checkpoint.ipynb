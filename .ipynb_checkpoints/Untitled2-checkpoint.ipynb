{
 "cells": [
  {
   "cell_type": "markdown",
   "metadata": {},
   "source": [
    "$$\\newcommand{\\fudm}[2]{\\frac{\\mathrm{D} #1}{\\mathrm{D} #2}}\n",
    "\\newcommand{\\pad}[2]{\\frac{\\partial #1}{\\partial #2}}\n",
    "\\newcommand{\\ppad}[2]{\\frac{\\partial^2 #1}{\\partial #2^2}}\n",
    "\\newcommand{\\ppadd}[3]{\\frac{\\partial^2 #1}{\\partial #2 \\partial #3}}\n",
    "\\newcommand{\\nnabla}{\\nabla^2}\n",
    "\\newcommand{\\eps}{\\epsilon}\n",
    "\\newcommand{\\vdetail}[1]{\\vb{#1}=\\begin{pmatrix}#1_1\\\\#1_2\\\\#1_3\\end{pmatrix}}\n",
    "\\newcommand{\\vb}[1]{\\mathbf{#1}}\n",
    "\\newcommand{\\va}[1]{\\vec{#1}}\n",
    "\\newcommand{\\tb}[1]{\\underline{\\underline{\\mathbf{#1}}}}\n",
    "\\newcommand{\\fud}[2]{\\frac{\\mathrm{d} #1}{\\mathrm{d} #2}}$$"
   ]
  },
  {
   "cell_type": "markdown",
   "metadata": {},
   "source": [
    "# Warum Beugung?\n",
    "\n",
    "\n",
    "Die lineare Wellengleichug von Licht kann aus den Maxwellschen Gleichungen hergeleitet werden:\n",
    "\n",
    "\\begin{equation}\n",
    "\\nabla^2 \\va{E} - \\frac{1}{c^2} \\pad{\\va{E}}{t}=0\n",
    "\\end{equation}\n",
    "\n",
    "\n",
    "<img src=\"images/pistonsource.png\" width=400> <p>\n",
    "<a id='fig2'><center> Figure 7.2 </center></a>\n",
    "\n",
    "\n",
    "\n",
    "## Huygen-Fresnel Prinzip\n",
    "\n",
    "\n",
    "\n",
    "## Kirchhoffsche Beugungsintegral\n",
    "\n",
    "\\begin{equation}\n",
    "E(x',y',z)=\\frac{1}{i\\,\\lambda} \\int_{-\\infty}^{+\\infty} E(x,y) \\frac{1}{r} e^{i k r} \\cos(\\va{n},\\va{r})\\,dx dy\n",
    "\\tag{10}\n",
    "\\end{equation}\n",
    "\n",
    "\n"
   ]
  },
  {
   "cell_type": "code",
   "execution_count": null,
   "metadata": {
    "collapsed": true
   },
   "outputs": [],
   "source": []
  }
 ],
 "metadata": {
  "kernelspec": {
   "display_name": "Python 2",
   "language": "python",
   "name": "python2"
  },
  "language_info": {
   "codemirror_mode": {
    "name": "ipython",
    "version": 2
   },
   "file_extension": ".py",
   "mimetype": "text/x-python",
   "name": "python",
   "nbconvert_exporter": "python",
   "pygments_lexer": "ipython2",
   "version": "2.7.11"
  }
 },
 "nbformat": 4,
 "nbformat_minor": 0
}
