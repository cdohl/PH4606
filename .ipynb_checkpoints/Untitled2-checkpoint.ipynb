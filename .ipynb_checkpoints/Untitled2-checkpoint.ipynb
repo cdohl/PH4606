{
 "cells": [
  {
   "cell_type": "code",
   "execution_count": null,
   "metadata": {
    "collapsed": true
   },
   "outputs": [],
   "source": []
  },
  {
   "cell_type": "code",
   "execution_count": 5,
   "metadata": {
    "collapsed": false
   },
   "outputs": [],
   "source": [
    "%matplotlib notebook \n",
    "import math as m\n",
    "import numpy #array operations\n",
    "import matplotlib.pyplot as plt #plotting\n",
    "from IPython import display #for continous display\n",
    "from ipywidgets import widgets #for the widgets\n",
    "\n",
    "nimg=0\n",
    "\n",
    "def plotwave(u,time):\n",
    "    plt.figure(1)\n",
    "    plt.clf()\n",
    "    plt.plot(u)\n",
    "    plt.gca().set_ylim([-4,4])\n",
    "    display.clear_output(wait=True)\n",
    "    display.display(plt.gcf())\n",
    "        \n",
    "def solvewave(b):\n",
    "    tabs.visible=False\n",
    "    #computational domain\n",
    "    nx = 381\n",
    "    size=2. #size of the domain\n",
    "    #parameters of the wave\n",
    "    c = 5. #speed of sound\n",
    "    l=w_wavelength.value #wavelength\n",
    "    nu=c/l #frequency\n",
    "    omega=nu*2.*m.pi #angular frequency\n",
    "    duration=w_sourceduration.value/nu #duration of source\n",
    "    \n",
    "    #further variables\n",
    "    dx = size/(nx-1)\n",
    "    CFL=0.1 #CFL number <1\n",
    "    dt = CFL*dx/c \n",
    "    nt=int(w_simduration.value/dt) #number of time steps\n",
    "    if w_position.value=='Left':\n",
    "        sourcepos=1\n",
    "        ampl=100.\n",
    "    else:\n",
    "        sourcepos=int(nx/2)\n",
    "        ampl=1.\n",
    "    r=numpy.arange(dx,nx*dx,dx) #radius\n",
    "    \n",
    "    #every xx times over the total nt timesteps an output should be generated \n",
    "    output=map(int,list(numpy.linspace(1,nt,int(nt/50))))\n",
    "\n",
    "    u  = numpy.zeros(nx) #pressure at t\n",
    "    un = numpy.zeros(nx) #pressure at t-dt\n",
    "    unn= numpy.zeros(nx) #pressure at t-2*dt\n",
    "    C=c*c*dt*dt/dx/dx\n",
    "    \n",
    "    #Assign initial conditions, for a sine wave\n",
    "    if w_source_type.value==\"Time Dependent\":\n",
    "        un[sourcepos]=0.    #amplitude is sin(omega*t) with t=0\n",
    "        unn[sourcepos]=1.*r[sourcepos]   #velocity  is cos(omega*t) with t=0\n",
    "    else: #or set it as an initial value\n",
    "        for xx in range(nx):\n",
    "            x=float(xx)*dx-size/2. #0 at the center\n",
    "            unn[xx]=(m.cos(2.*m.pi/l*x)**2)*float(abs(x)<(c*duration/2.))\n",
    "        for xx in range(1,nx-1): #calculate t=0 time step\n",
    "            un[xx] = unn[xx] - 0.5*C*(unn[xx+1]-2.*unn[xx]+unn[xx-1])\n",
    "    \n",
    "    plt.figure(1, figsize=(8, 4), dpi=300)\n",
    "\n",
    "    for n in range(nt+1): ##loop across number of time steps\n",
    "        #this line computes the finite differences of the wave equation\n",
    "        u[1:-1]=2.*un[1:-1]-unn[1:-1]+C*(un[:-2]+un[2:]-2.*un[1:-1])\n",
    " \n",
    "        #Boundary conditions right\n",
    "        if w_boundary_r.value=='Open':\n",
    "            u[-1] = un[-1]-dt*c/dx*(un[-1]-un[-2]) \n",
    "        else:\n",
    "            u[-1] = u[-2]\n",
    "        #Boundary conditions right\n",
    "        u[0] = u[1]\n",
    "            \n",
    "        #pressure source\n",
    " \n",
    "        if w_source_type.value==\"Time Dependent\":\n",
    "            if float(n*dt<duration):\n",
    "                u[sourcepos]=ampl*m.sin(omega*n*dt)**2*float(n*dt<duration)*r[sourcepos]\n",
    "                \n",
    "        #save values for the time derivative \n",
    "        unn=un.copy() #n-1 time step\n",
    "        un=u.copy()   #n time step\n",
    "        \n",
    "        if (n in output):\n",
    "            plotwave(u[1:]/r,n*dt)\n",
    "            \n",
    "    #and plot the last figure    \n",
    "    plotwave(u[1:]/r,n*dt)\n",
    "    tabs.visible=True"
   ]
  },
  {
   "cell_type": "code",
   "execution_count": 6,
   "metadata": {
    "collapsed": false
   },
   "outputs": [
    {
     "data": {
      "image/png": "[encoded data removed]",
      "text/plain": [
       "<matplotlib.figure.Figure at 0x105e05ad0>"
      ]
     },
     "metadata": {},
     "output_type": "display_data"
    }
   ],
   "source": [
    "#setup the graphical interface \n",
    "w_wavelength=widgets.FloatSlider(description=\"Wavelength\",value=.5,min=0.1,max=1)\n",
    "w_sourceduration=widgets.FloatSlider(description=\"Emission Duration in Periods\",value=.5,min=0.5,max=10)\n",
    "w_simduration=widgets.FloatSlider(description=\"Simulation Duration\",value=.2,min=0.1,max=5)\n",
    "w_position=widgets.RadioButtons(description=\"Source Position\",options=[\"Left\", \"Center\"],value=\"Center\")\n",
    "w_start=widgets.Button(description=\"Start Simulation\")\n",
    "w_start.on_click(solvewave)\n",
    "w_boundary_r=widgets.RadioButtons(description=\"Right Boundary\",options=[\"Reflective\", \"Open\"],value=\"Reflective\")\n",
    "w_source_type=widgets.RadioButtons(description=\"Type of Source\",options=[\"Time Dependent\", \"Inital Condition\"],value=\"Time Dependent\")\n",
    "\n",
    "page1=widgets.Box([w_wavelength,w_sourceduration,w_position,w_simduration])\n",
    "page2=widgets.Box([w_source_type])\n",
    "page3=widgets.Box([w_boundary_r])\n",
    "tabs = widgets.Tab(children=[page1, page2, page3])\n",
    "tabs.set_title(0, 'Wave')\n",
    "tabs.set_title(1, 'Source')\n",
    "tabs.set_title(2, 'Boundaries')\n",
    "display.display(tabs)\n",
    "\n",
    "display.display(w_start)"
   ]
  },
  {
   "cell_type": "code",
   "execution_count": null,
   "metadata": {
    "collapsed": true
   },
   "outputs": [],
   "source": []
  }
 ],
 "metadata": {
  "kernelspec": {
   "display_name": "Python 2",
   "language": "python",
   "name": "python2"
  },
  "language_info": {
   "codemirror_mode": {
    "name": "ipython",
    "version": 2
   },
   "file_extension": ".py",
   "mimetype": "text/x-python",
   "name": "python",
   "nbconvert_exporter": "python",
   "pygments_lexer": "ipython2",
   "version": "2.7.11"
  }
 },
 "nbformat": 4,
 "nbformat_minor": 0
}
