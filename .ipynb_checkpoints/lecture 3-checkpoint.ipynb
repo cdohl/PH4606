{
 "cells": [
  {
   "cell_type": "markdown",
   "metadata": {},
   "source": [
    "$$\n",
    "\\newcommand{\\fudm}[2]{\\frac{\\mathrm{D} #1}{\\mathrm{D} #2}}\n",
    "\\newcommand{\\pad}[2]{\\frac{\\partial #1}{\\partial #2}}\n",
    "\\newcommand{\\ppad}[2]{\\frac{\\partial^2 #1}{\\partial #2^2}}\n",
    "\\newcommand{\\ppadd}[3]{\\frac{\\partial^2 #1}{\\partial #2 \\partial #3}}\n",
    "\\newcommand{\\nnabla}{\\nabla^2}\n",
    "\\newcommand{\\eps}{\\epsilon}\n",
    "\\newcommand{\\vdetail}[1]{\\vb{#1}=\\begin{pmatrix}#1_1\\\\#1_2\\\\#1_3\\end{pmatrix}}\n",
    "\\newcommand{\\vb}[1]{\\mathbf{#1}}\n",
    "\\newcommand{\\va}[1]{\\vec{#1}}\n",
    "\\newcommand{\\tb}[1]{\\underline{\\underline{\\mathbf{#1}}}}\n",
    "\\newcommand{\\fud}[2]{\\frac{\\mathrm{d} #1}{\\mathrm{d} #2}}\n",
    "$$"
   ]
  },
  {
   "cell_type": "markdown",
   "metadata": {},
   "source": [
    "# 3. Energy Density\n",
    "\n",
    "When a wave travels energy is transported, just consider someone speaking to you. For the sound to reach you energy travels from the speaker and some is needed to create the perception of sound, e.g. perturb your ear drum. \n",
    "\n",
    "We can use our Physics 101 definition of kinetic and potential energy. The kinetic energy of $1/2 m u^2$; we can write this using $\\rho_0$ being the density of the fluid particle and $V_0$ the volume of the unperturbed particle as  \n",
    "\n",
    "$$E_k=\\frac{1}{2}\\rho_0 V_0 u^2\\tag{3.1}\\quad .$$\n",
    "\n",
    "The potential energy (that which is stored in a fluid particle) is its compression by the acoustic pressure $p$. This is\n",
    "\n",
    "$$E_p=-\\int_{V_0}^V p dV\\tag{3.2}\\quad .$$\n",
    "\n",
    "You may note the minus sign; this comes from the fact that compressing the fluid particle (positive pressure) decreases the volume but increases the potential energy. To integrate Eq. (3.2) we need to include the dependency of $V(p)$, i.e. \n",
    "\n",
    "$$dV=-\\frac{V}{\\rho}d\\rho=\\frac{V}{\\rho c^2} dp\\tag{3.3}\\quad ;$$\n",
    "\n",
    "the first expression comes from mass conservation $\\rho V =\\rho_0 V_0$ and the second one from the speed of sound, $c^2 = \\fud{p}{\\rho}$.\n",
    "\n",
    "Using expression Eq. (3.3) in Eq. (3.2) and integrating the kernel with the acoustic pressure from 0 to $p$ we obtain the potential energy of the acoustic wave [see detailed derivation](detailed%20derivation%20potential%20energy.ipynb) within the linear approximation.\n",
    "\n",
    "$$E_p=-\\frac{1}{2}\\frac{p^2 V_0}{\\rho_0 c^2}\\tag{3.4}\\quad.$$\n",
    "\n",
    "Thus the total acoustic energy is\n",
    "\n",
    "$$E=E_k + E_p =\\frac{1}{2}\\rho_0 V_0\\left[u^2 + \\left(\\frac{p}{\\rho_0 c}\\right)^2\\right]\\tag{3.5}\\quad.$$ \n",
    "\n",
    "In continuous media it is more practical to use the specific energy or *energy density*, the energy per unit volume ${\\cal E}_i=E/V_0$ which is\n",
    "\n",
    "$$ {\\cal E}_i = \\frac{1}{2}\\rho_0 \\left[u^2 + \\left(\\frac{p}{\\rho_0 c}\\right)^2\\right]\\tag{3.6}\\quad.$$\n",
    "\n",
    "The index $i$ stands for instantenous energy density as compared to the time averaged energy density $\\cal E$.\n",
    "\n",
    "$${\\cal E}=\\frac{1}{T}\\int_0^T {\\cal E}_i\\, dt\\tag{3.7}$$\n",
    "\n",
    "Expressions (3.6) and (3.7) apply to any linear wave, to do the integration one needs to know the relationship between the particle velocity and the speed.\n",
    "\n"
   ]
  },
  {
   "cell_type": "code",
   "execution_count": null,
   "metadata": {
    "collapsed": true
   },
   "outputs": [],
   "source": []
  }
 ],
 "metadata": {
  "kernelspec": {
   "display_name": "Python 2",
   "language": "python",
   "name": "python2"
  },
  "language_info": {
   "codemirror_mode": {
    "name": "ipython",
    "version": 2
   },
   "file_extension": ".py",
   "mimetype": "text/x-python",
   "name": "python",
   "nbconvert_exporter": "python",
   "pygments_lexer": "ipython2",
   "version": "2.7.11"
  }
 },
 "nbformat": 4,
 "nbformat_minor": 0
}
