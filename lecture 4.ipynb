{
 "cells": [
  {
   "cell_type": "markdown",
   "metadata": {},
   "source": [
    "$$\n",
    "\\newcommand{\\fudm}[2]{\\frac{\\mathrm{D} #1}{\\mathrm{D} #2}}\n",
    "\\newcommand{\\pad}[2]{\\frac{\\partial #1}{\\partial #2}}\n",
    "\\newcommand{\\ppad}[2]{\\frac{\\partial^2 #1}{\\partial #2^2}}\n",
    "\\newcommand{\\ppadd}[3]{\\frac{\\partial^2 #1}{\\partial #2 \\partial #3}}\n",
    "\\newcommand{\\nnabla}{\\nabla^2}\n",
    "\\newcommand{\\eps}{\\epsilon}\n",
    "\\newcommand{\\vdetail}[1]{\\vb{#1}=\\begin{pmatrix}#1_1\\\\#1_2\\\\#1_3\\end{pmatrix}}\n",
    "\\newcommand{\\vb}[1]{\\mathbf{#1}}\n",
    "\\newcommand{\\va}[1]{\\vec{#1}}\n",
    "\\newcommand{\\tb}[1]{\\underline{\\underline{\\mathbf{#1}}}}\n",
    "\\newcommand{\\fud}[2]{\\frac{\\mathrm{d} #1}{\\mathrm{d} #2}}\n",
    "$$"
   ]
  },
  {
   "cell_type": "markdown",
   "metadata": {},
   "source": [
    "# 4. Spherical Waves\n",
    "\n",
    "In spherical coordinates $(r,\\phi,\\theta)$ with \n",
    "\n",
    "\\begin{eqnarray}\n",
    "x&=&r \\sin \\theta \\cos \\phi\\tag{4.1a}\\\\\n",
    "y&=&r \\sin \\theta \\sin \\phi\\tag{4.1b}\\\\\n",
    "z&=&r \\cos \\theta \\tag{4.1c}\n",
    "\\end{eqnarray}\n",
    "\n",
    "the Laplacian operator is\n",
    "\n",
    "$$\\nabla^2=\\ppad{}{r} + \\frac{2}{r}\\pad{}{r} +\\frac{1}{r^2 \\sin \\theta}\\pad{}{\\theta}\\left(\\sin \\theta \\pad{}{\\theta}\\right) +\n",
    "\\frac{1}{r^2 \\sin^2 \\theta} \\ppad{}{\\phi} \\tag{4.2}\n",
    "$$\n",
    "\n",
    "If we assume spherical symmetry the the acoustic pressure is a function of $r$ only and the Laplacian simplifies to\n",
    "\n",
    "$$\\nabla^2=\\ppad{}{r}+\\frac{2}{r}\\pad{}{r}\\tag{4.3}\\quad .$$\n",
    "\n",
    "Thus the wave equation becomes\n",
    "\n",
    "$$\\ppad{p}{r}+\\frac{2}{r}\\pad{p}{r}=\\frac{1}{c^2}\\ppad{p}{t}\\tag{4.4}\\quad .$$\n",
    "\n",
    "We can rewrite Eq. (4.4) as\n",
    "\n",
    "$$\\ppad{(p r)}{r}=\\frac{1}{c^2}\\ppad{(r p)}{t}\\tag{4.5}\\quad ,$$\n",
    "\n",
    "which resembles a plane wave equation for the product of the variable $p$ and $r$. Thus the solution to this equation is\n",
    "\n",
    "$$p r = f_1(c t - r) + f_2 (c t +r)$$\n",
    "\n",
    "or \n",
    "\n",
    "$$p = \\frac{1}{r} f_1(c t - r) + \\frac{1}{r} f_2 (c t +r)\\tag{4.6}\\quad ,$$\n",
    "\n",
    "for all $r>0$, the solution is not valid at $r=0$. Equation (4.6) is an outgoing and incoming wave where the amplitude is proportional to $1/r$. The reason for failure of Eq. (4.6) of the outgoing wave is that sound source is not accounted for. In contrast the incoming wave diverges at $r=0$. The reason why our equation becomes invalid is that the small amplitude limit is not valid anymore, nonlinearities build up and we need a better description which accounts for *finite amplitude effects*.\n",
    "\n",
    "\n"
   ]
  }
 ],
 "metadata": {
  "kernelspec": {
   "display_name": "Python 2",
   "language": "python",
   "name": "python2"
  },
  "language_info": {
   "codemirror_mode": {
    "name": "ipython",
    "version": 2
   },
   "file_extension": ".py",
   "mimetype": "text/x-python",
   "name": "python",
   "nbconvert_exporter": "python",
   "pygments_lexer": "ipython2",
   "version": "2.7.10"
  }
 },
 "nbformat": 4,
 "nbformat_minor": 0
}
