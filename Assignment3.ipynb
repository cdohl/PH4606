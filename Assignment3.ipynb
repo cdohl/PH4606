{
 "cells": [
  {
   "cell_type": "markdown",
   "metadata": {},
   "source": [
    "# Resonance frequency of a bubble\n",
    "\n",
    "In the lecture [eweek](https://youtu.be/C79Idf35o3o) we have seen that bubbles form if the pressure are sufficiently low, i.e. they can  nucleate if the pressure is below the vapor pressure $p_v$. \n",
    "The dynamics of a bubble in a sound field is given by the Rayleigh-Plesset equation which is (without derivation):\n",
    "\n",
    "\\begin{equation}\n",
    "R \\ddot{R} +\\frac{3}{2} \\dot{R}^2=\\frac{p_v-p_\\infty}{\\rho}+\\frac{p_{g0}}{\\rho}\\left(\\frac{R_0}{R}\\right)^{3\\kappa}-\\frac{2\\sigma}{\\rho R} \\tag{8.1}\n",
    "\\end{equation}\n",
    "\n",
    "where $\\rho$ is the liquid density, $\\kappa$ the adiabatic exponent, $\\sigma$ the coefficient of surface tension, $p_\\infty$ the pressure far away from the bubble and $p_{g0}$ the equilibrium gas pressure for a bubble of equilibrium radius $R_0$. The condition for the equilibrium is \n",
    "\n",
    "\\begin{equation}\n",
    "p_v-p_\\infty+p_{g0}-\\frac{2\\sigma}{R_0}=0\\tag{8.2}\n",
    "\\end{equation}\n",
    "\n",
    "This expression can be easily understood that the pressure inside the bubble is composed of the gas pressure $p_{g0}$ and the vapor pressure $p_v$. In absence of surface tension the inside pressure has to be the same as the outside pressure $p_\\infty$. However in presence of surface tension the inside pressure is by the amount of $2\\sigma/R_0$ higher than the outside pressure $p_\\infty$.\n",
    "\n",
    "Equation (8.1) is the Rayleigh-Plesset Equation, and Eq. (8.2) is the equilibrium condition. Together we will derive the resonance frequency of a bubble under *small* pressure exitation, i.e. for very small oscillations. Then Eq. (8.1) can be linearized, which we will do now.\n",
    "\n",
    "Let's express the pressure $p_\\infty$ as a fixed pressure $p_0$ and a small amplitude $\\bar{p} \\ll p_0$.\n",
    "\n",
    "\\begin{equation}\n",
    "p_\\infty(t)=p_0+\\bar{p}e^{i\\omega t}\\tag{8.3}\n",
    "\\end{equation}\n",
    "\n",
    "And we do similar for the radius $R(t)$, where we understand that the amplitude of oscillation is around the equilibrium radius $R_0$.\n",
    "\n",
    "\\begin{equation}\n",
    "R(t)=R_0\\left(1+\\varphi e^{i\\omega t}\\right)\\tag{8.4}\n",
    "\\end{equation}\n",
    "\n",
    "Please note that $\\bar{p}$ and $\\varphi$ are both complex and we have to take their real part at the end of the calculations.\n",
    "\n",
    "\n",
    "To linearize Eq. (8.1) expressions (8.3) and (8.4) have to be inserted into Eq. (8.1). We can neglect all terms with powers larger than 1 in the small quantities, e.g. $\\phi^2$ or $\\bar{p}^2$. Additionaly we need to use the equilibrium condition Eq. (8.2) to simplify the resulting expression.\n",
    "\n",
    "Your Assignment 3 is to derive an expression of the resonance frequency $\\omega_r$ for small amplitude oscillations which is\n",
    "\n",
    "\\begin{equation}\n",
    "\\omega_r=\\frac{1}{R_0}\\sqrt{\\frac{1}{\\rho}\n",
    "\\left(3\\kappa\\left(p_0-p_v\\right)-\\frac{2\\sigma}{R_0}\\left(3\\kappa -1\\right)\\right)}\\tag{8.5}\n",
    "\\end{equation}\n",
    "\n",
    "Show that for water under standard conditions and neglecting surface tension this expression becomes\n",
    "\n",
    "\\begin{equation}\n",
    "f_r R_0 \\approx 3\\, \\mathrm{m\\, s}^{-1}\\tag{8.6}\n",
    "\\end{equation}\n"
   ]
  },
  {
   "cell_type": "code",
   "execution_count": null,
   "metadata": {
    "collapsed": true
   },
   "outputs": [],
   "source": []
  }
 ],
 "metadata": {
  "kernelspec": {
   "display_name": "Python 2",
   "language": "python",
   "name": "python2"
  },
  "language_info": {
   "codemirror_mode": {
    "name": "ipython",
    "version": 2
   },
   "file_extension": ".py",
   "mimetype": "text/x-python",
   "name": "python",
   "nbconvert_exporter": "python",
   "pygments_lexer": "ipython2",
   "version": "2.7.12"
  }
 },
 "nbformat": 4,
 "nbformat_minor": 0
}
