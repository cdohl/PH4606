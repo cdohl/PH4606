{
 "cells": [
  {
   "cell_type": "markdown",
   "metadata": {},
   "source": [
    "Energy of a spherical wave\n",
    "\n",
    "$$p=\\frac{1}{r} q$$\n",
    "\n",
    "$$ E = \\frac{4\\pi}{\\rho c}\\int_{-\\infty}^{\\infty} q^2 dt$$\n",
    "\n",
    "\n",
    "\n",
    "say $q$ is a short pulse of $\\delta t$ duration, with amplitude $P_a$ measured at a distance $r_0$\n",
    "\n",
    "We have then \n",
    "\n",
    "$$ E = \\frac{4 \\pi \\, \\delta t\\, P_a^2 \\, r_0^2}{\\rho c}$$\n",
    "\n",
    "\n",
    "$$c = \\frac{E}{m \\,\\Delta T}$$"
   ]
  },
  {
   "cell_type": "code",
   "execution_count": 3,
   "metadata": {
    "collapsed": false
   },
   "outputs": [],
   "source": [
    "import numpy as np\n",
    "deltat=50e-9\n",
    "Pa=100e5\n",
    "r0=1e-3\n",
    "rho=1e3\n",
    "c=1.5e3\n",
    "E = 4*np.pi*deltat*Pa**2*r0**2/rho/c"
   ]
  },
  {
   "cell_type": "code",
   "execution_count": 4,
   "metadata": {
    "collapsed": false
   },
   "outputs": [],
   "source": [
    "rho_p = 1e3\n",
    "deltax = 1e-6\n",
    "per = 0.1\n",
    "c = 1e3\n",
    "deltaT = per * E / rho_p /r0/r0/deltax/np.pi/c"
   ]
  },
  {
   "cell_type": "code",
   "execution_count": 5,
   "metadata": {
    "collapsed": false
   },
   "outputs": [
    {
     "data": {
      "text/plain": [
       "1.3333333333333337"
      ]
     },
     "execution_count": 5,
     "metadata": {},
     "output_type": "execute_result"
    }
   ],
   "source": [
    "deltaT"
   ]
  },
  {
   "cell_type": "code",
   "execution_count": null,
   "metadata": {
    "collapsed": true
   },
   "outputs": [],
   "source": []
  }
 ],
 "metadata": {
  "kernelspec": {
   "display_name": "Python 2",
   "language": "python",
   "name": "python2"
  },
  "language_info": {
   "codemirror_mode": {
    "name": "ipython",
    "version": 2
   },
   "file_extension": ".py",
   "mimetype": "text/x-python",
   "name": "python",
   "nbconvert_exporter": "python",
   "pygments_lexer": "ipython2",
   "version": "2.7.12"
  }
 },
 "nbformat": 4,
 "nbformat_minor": 0
}
