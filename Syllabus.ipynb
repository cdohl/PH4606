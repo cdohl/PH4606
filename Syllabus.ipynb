{
 "cells": [
  {
   "cell_type": "markdown",
   "metadata": {},
   "source": [
    "# Organization of the lecture\n",
    "Below you find the outline of the lectures. The numbering is not relating to real lectures but to a theme which typically lasts 1 hour of lecture time.\n",
    "\n",
    "## [Motivation](Motivation.\n",
    "\n",
    "## [1. Introduction](lecture 1.ipynb)\n",
    "  * Acoustic variables, Equation of State (EOS),\n",
    "  * Linear wave equation (1-dimensional,\n",
    "  * cartesian coordinates),\n",
    "  * velocity potential,\n",
    "  * Speed of Sound, \n",
    "  * Simulation 1d-wave\n",
    "<p>  \n",
    "\n",
    "\n",
    "## [2. Planar Waves and 2d-waves](lecture 2.ipynb)\n",
    "  * Harmonic Plane Waves\n",
    "  * Simulation of 2d-waves\n",
    "\n",
    "## [3. Energy, Intensity, and Impedance](lecture 3.ipynb)\n",
    "  * Energy\n",
    "  * Intensity\n",
    "  * Impedance\n",
    "  * decibel scale\n",
    "  \n",
    "## [4. Spherical Wave](lecture 4.ipynb)\n",
    "  * Derivation of the spherical wave equation and solution\n",
    "  * Simulation of a spherical wave\n",
    "  \n",
    "\n"
   ]
  },
  {
   "cell_type": "code",
   "execution_count": null,
   "metadata": {
    "collapsed": true
   },
   "outputs": [],
   "source": []
  }
 ],
 "metadata": {
  "kernelspec": {
   "display_name": "Python 2",
   "language": "python",
   "name": "python2"
  },
  "language_info": {
   "codemirror_mode": {
    "name": "ipython",
    "version": 2
   },
   "file_extension": ".py",
   "mimetype": "text/x-python",
   "name": "python",
   "nbconvert_exporter": "python",
   "pygments_lexer": "ipython2",
   "version": "2.7.10"
  }
 },
 "nbformat": 4,
 "nbformat_minor": 0
}
