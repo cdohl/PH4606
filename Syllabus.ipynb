{
 "cells": [
  {
   "cell_type": "markdown",
   "metadata": {},
   "source": [
    "# Organization of the lecture\n",
    "Below you find the outline of the lectures. The numbering is not relating to real lectures but to a theme which typically lasts 1 hour of lecture time.\n",
    "\n",
    "## [Motivation](Motivation.ipynb)\n",
    "\n",
    "## [1. Introduction](lecture 1.ipynb) [(pdf)](pdfs/lecture 1.pdf)\n",
    "  * Acoustic variables, Equation of State (EOS)\n",
    "  * Linear wave equation (1-dimensional)\n",
    "  * Linear wave in cartesian coordinates\n",
    "  * velocity potential\n",
    "  * *Speed of sound (as a function of temperature)*\n",
    "  * *Simulation 1d-wave*\n",
    "\n",
    "\n",
    "## [2. Planar Waves and 2d-waves](lecture 2.ipynb) [(pdf)](pdfs/lecture 2.pdf)\n",
    "  * Harmonic Plane Waves\n",
    "  * *Simulation of 2d-waves*\n",
    "\n",
    "## [3. Energy, Intensity, and Impedance](lecture 3.ipynb) [(pdf)](pdfs/lecture 3.pdf)\n",
    "  * Energy\n",
    "  * Intensity\n",
    "  * Impedance\n",
    "  * decibel scale\n",
    "  \n",
    "## [4. Spherical Wave](lecture 4.ipynb) [(pdf)](pdfs/lecture 4.pdf)\n",
    "  * Derivation of the spherical wave equation and solution\n",
    "  * *Simulation of a spherical wave*\n",
    "  \n",
    "\n",
    "## [5. Reflection & Transmission under normal incidence](lecture 5.ipynb) [(pdf)](pdfs/lecture 5.pdf)\n",
    "  * Derivation of reflection and transmission of a normal incident wave\n",
    "  * *Simulation of transmission and reflection*\n",
    "\n",
    "## [6. Reflection & Transmission under oblique incidence](lecture 6.ipynb) [(pdf)](pdfs/lecture 6.pdf)\n",
    "  * Derivation of reflection and transmission of an oblique incident wave\n",
    "\n"
   ]
  },
  {
   "cell_type": "code",
   "execution_count": null,
   "metadata": {
    "collapsed": true
   },
   "outputs": [],
   "source": []
  }
 ],
 "metadata": {
  "kernelspec": {
   "display_name": "Python 2",
   "language": "python",
   "name": "python2"
  },
  "language_info": {
   "codemirror_mode": {
    "name": "ipython",
    "version": 2
   },
   "file_extension": ".py",
   "mimetype": "text/x-python",
   "name": "python",
   "nbconvert_exporter": "python",
   "pygments_lexer": "ipython2",
   "version": "2.7.13"
  }
 },
 "nbformat": 4,
 "nbformat_minor": 1
}
