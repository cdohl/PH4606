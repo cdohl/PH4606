{
 "cells": [
  {
   "cell_type": "markdown",
   "metadata": {
    "donotlatex": true,
    "hide_input": true
   },
   "source": [
    "$$\\newcommand{\\fudm}[2]{\\frac{\\mathrm{D} #1}{\\mathrm{D} #2}}\n",
    "\\newcommand{\\pad}[2]{\\frac{\\partial #1}{\\partial #2}}\n",
    "\\newcommand{\\ppad}[2]{\\frac{\\partial^2 #1}{\\partial #2^2}}\n",
    "\\newcommand{\\ppadd}[3]{\\frac{\\partial^2 #1}{\\partial #2 \\partial #3}}\n",
    "\\newcommand{\\nnabla}{\\nabla^2}\n",
    "\\newcommand{\\eps}{\\epsilon}\n",
    "\\newcommand{\\vdetail}[1]{\\vb{#1}=\\begin{pmatrix}#1_1\\\\#1_2\\\\#1_3\\end{pmatrix}}\n",
    "\\newcommand{\\vb}[1]{\\mathbf{#1}}\n",
    "\\newcommand{\\va}[1]{\\vec{#1}}\n",
    "\\newcommand{\\tb}[1]{\\underline{\\underline{\\mathbf{#1}}}}\n",
    "\\newcommand{\\fud}[2]{\\frac{\\mathrm{d} #1}{\\mathrm{d} #2}}$$"
   ]
  },
  {
   "cell_type": "markdown",
   "metadata": {},
   "source": [
    "# Medical Ultrasound 2"
   ]
  },
  {
   "cell_type": "markdown",
   "metadata": {
    "collapsed": false
   },
   "source": [
    "## Bioeffects from ultrasound imaging \n",
    "Since 1992 ultrasound imaging systems are regulated to display two indices to account for potential bioffects from heating and cavitation (activation of gaseous nuclei). The ultrasonic scanners must show in real time the thermal indidces (TIs) and the mechanical index (MI) which is a function of the operation mode of the US scanner.\n",
    "\n",
    "## Mechanical index\n",
    "\n",
    "The mechanical index, MI, in ultrasound imaging is defined as\n",
    "\n",
    "\\begin{equation}\n",
    "\\mathrm{MI}=\\frac{\\mathrm{PNP}}{\\sqrt{f_c}}\\tag{9.1}\n",
    "\\end{equation}\n",
    "\n",
    "where PNP is the peak negative pressure in MPa at the position of imaging and $f_c$ is the center frequency of the imaging device in MHz.\n",
    "\n",
    "For an MI < 0.3 the acoustic amplitude is considered low, for 0.3 < MI < 0.7 there is a possibility of minor damage to neonatal lung or intestine. Above MI > 0.7 there is a theoretical risk of cavitation. Medical US scanners are limited to an MI of 1.9 for imaging.\n",
    "\n",
    "\n"
   ]
  },
  {
   "cell_type": "markdown",
   "metadata": {},
   "source": [
    "### Rayleigh Plesset Equation\n",
    "\n",
    "The Rayleigh Plesset Equation (without viscous dissipation) is given by Eq. (9.2):\n",
    "\\begin{equation}\n",
    "R \\ddot{R} +\\frac{3}{2} \\dot{R}^2=\\frac{p_v-p_\\infty(t)}{\\rho}+\\frac{p_{g0}}{\\rho}\\left(\\frac{R_0}{R}\\right)^{3\\kappa}-\\frac{2\\sigma}{\\rho R}\\label{9.2}\\tag{9.2}\n",
    "\\end{equation}\n",
    "The driving of the bubble occurs through the pressure $p_\\infty(t)$ term. This could be for example through a harmonic driving $p_\\infty(t)=p_0 + p_a \\sin (\\omega t)$ where $\\omega$ is the angular frequency, $p_0$ the static pressure, and $p_a$ the amplitude of the driving.\n",
    "\n",
    "We want to solve this equation for small and large oscillations, i.e. for small and large pressures $p_a$. To do so we first define the constants for an air bubble in water at room temperature undergoing isothermal compression.\n",
    "\n",
    "The gas pressure at equilibrium is given by the equilibrium condition\n",
    "\n",
    "\\begin{equation}\n",
    "p_v+p_{g0}=p_\\infty+\\frac{2\\sigma}{R}\\label{9.3}\\tag{9.3}\n",
    "\\end{equation}\n",
    "\n",
    "We can solve this nonlinear ODE with the built in solver in python. Therefore, we have to rephrase the 2nd Order ODE into two first order ODEs by variable substitution:\n",
    "\n",
    "\\begin{eqnarray}\n",
    "y_0&=&R\\\\\n",
    "y_1&=&\\dot{R}\n",
    "\\end{eqnarray}\n",
    "\n",
    "\\begin{equation}\n",
    "\\dot{R}=\\frac{dy_0}{dt}=y_1\\label{9.4}\\tag{9.4}\n",
    "\\end{equation}\n",
    "and using the Rayleigh Equation we obtain:\n",
    "\\begin{equation}\n",
    "\\ddot{R}=\\frac{dy_1}{dt}=\\frac{1}{y_0}\\left[\n",
    "\\frac{p_v-p_\\infty(t)}{\\rho}+\\frac{p_g0}{\\rho}\\left(\\frac{R_0}{y_0}\\right)^{3\\kappa}-\\frac{2\\sigma}{\\rho y_0}-\\frac{3}{2}(y_1)^2\n",
    "\\right]\\label{9.5}\\tag{9.5}\n",
    "\\end{equation}\n",
    "\n",
    "We use a slightly modified version of the equation by introducing additionally some dissipation from viscosity of the liquid. This term is added on thr R.H.S of Eq. (9.5) which is $-4\\mu\\dot{R}{R}^{-1}$.\n",
    "\n",
    "These two first order ODEs are defined in the function `rp(t,y)`"
   ]
  },
  {
   "cell_type": "code",
   "execution_count": 12,
   "metadata": {
    "collapsed": false,
    "hide_input": false
   },
   "outputs": [
    {
     "data": {
      "image/png": "[encoded data removed]",
      "text/plain": [
       "<matplotlib.figure.Figure at 0x111ada950>"
      ]
     },
     "metadata": {},
     "output_type": "display_data"
    }
   ],
   "source": [
    "%matplotlib inline \n",
    "import numpy as np #work with arrays\n",
    "from scipy import integrate\n",
    "#from scipy.integrate import odeint\n",
    "from matplotlib.pylab import *\n",
    "from IPython import display\n",
    "from ipywidgets import widgets\n",
    "\n",
    "global f, pa, R0, ncycles\n",
    "\n",
    "pv=2.3388e3     #[Pa] vapour pressure of water\n",
    "sigma=0.072     #[N/m] coefficient of surface tension between air and water\n",
    "rho=998.        #[kg/m^3] density of water\n",
    "kappa=1.4       #polytropic exponent of the gas\n",
    "p0=1e5          #[Pa] static pressure\n",
    "nu=1e-6         #[m^2/s]\n",
    "\n",
    "#Rayleigh Plesset Equation\n",
    "def rp(t,y):\n",
    "    global f, pa, R0, ncycles\n",
    "    pinfty=p0-pa*np.sin(f*2.*np.pi*t)*((ncycles/f)>t)\n",
    "    pg0=p0+2.*sigma/R0-pv\n",
    "    dydt0=y[1]\n",
    "    dydt1=(pv-pinfty+pg0*(R0/y[0])**(3.*kappa)\\\n",
    "           -2.*sigma/y[0])/rho/y[0]-1.5*y[1]**2./y[0]\\\n",
    "           -4.*nu*y[1]/y[0]/y[0]\n",
    "    return [dydt0,dydt1]\n",
    "\n",
    "def plotall(newvalue):\n",
    "    global f\n",
    "    global pa\n",
    "    global R0\n",
    "    global ncycles\n",
    "    \n",
    "    #set the variables according to the user input\n",
    "    f=w_frequency.value*1.e6\n",
    "    pa=w_pressure.value*1.e5\n",
    "    R0=w_R0.value*1.e-6\n",
    "    ncycles=float(w_ncycles.value)\n",
    "    \n",
    "    #Setting initial conditions\n",
    "    t_sim=10./f\n",
    "    delta_t = t_sim/1000.\n",
    "    num_steps = int(t_sim/delta_t) + 3\n",
    "    time = np.zeros((num_steps, 1))\n",
    "    R = np.zeros((num_steps, 1))\n",
    "    time[0] = 0.\n",
    "    R[0] = R0\n",
    "\n",
    "    ode15s = integrate.ode(rp)\n",
    "    ode15s.set_initial_value([R[0],0.], 0.)\n",
    "    \n",
    "    #Integrate Rayleigh Plesset Equation and store the results every dt\n",
    "    k = 1\n",
    "    while ode15s.successful() and ode15s.t < (t_sim):\n",
    "        ode15s.integrate(ode15s.t+delta_t)\n",
    "        time[k] = ode15s.t\n",
    "        R[k] = ode15s.y[0]\n",
    "        k += 1\n",
    "        \n",
    "    #Plotting\n",
    "    plt.figure(1, figsize=(10, 6), dpi=200)\n",
    "    plt.clf\n",
    "    plt.plot(time[0:k-1]*f,R[0:k-1]/R0);\n",
    "    plt.xlabel('Time (1/f)')\n",
    "    plt.ylabel('Radius (R0)')\n",
    "    plt.text(time[k-1]*f*.8,1.,\\\n",
    "             'MI={0:.2f}'.format(pa/1e6/np.sqrt(f/1e6)),\\\n",
    "             fontsize=25,color='b')\n",
    "\n",
    "    display.clear_output(wait=True)\n",
    "    \n",
    "#Userinterface    \n",
    "w_frequency=widgets.FloatSlider(min=.5,max=20,step=.25,\\\n",
    "                                       value=5,description='Frequency (MHz):')\n",
    "w_pressure=widgets.FloatSlider(min=.1,max=30,step=.1,\\\n",
    "                                       value=.4,description='Acoustic amplitude (bar):')\n",
    "w_R0=widgets.FloatSlider(min=.1,max=5,step=.1,\\\n",
    "                                       value=.3,description='Nucleus size (micrometer):')\n",
    "w_ncycles=widgets.IntSlider(min=1,max=10,step=1,\\\n",
    "                                       value=1,description='Number of cyles')\n",
    "w_b = widgets.Button(on_click=plotall)\n",
    "w_frequency.observe(plotall, names='value') #auto update\n",
    "w_pressure.observe(plotall, names='value') \n",
    "w_R0.observe(plotall, names='value')\n",
    "w_ncycles.observe(plotall, names='value')\n",
    "display.display(w_frequency)\n",
    "display.display(w_pressure)\n",
    "display.display(w_R0)\n",
    "display.display(w_ncycles)\n",
    "plotall(1)"
   ]
  },
  {
   "cell_type": "code",
   "execution_count": null,
   "metadata": {
    "collapsed": true
   },
   "outputs": [],
   "source": [
    "w_b = widgets.Button"
   ]
  },
  {
   "cell_type": "markdown",
   "metadata": {},
   "source": [
    "## Thermal index\n",
    "\n",
    "The thermal indes is defined as\n",
    "\n",
    "\\begin{equation}\n",
    "\\mathrm{TI}=\\frac{W_0}{W_{deg}}\\label{9.6}\\tag{9.6}\n",
    "\\end{equation}\n",
    "\n",
    "where $W_0$ is the time-averaged acoustic power of the source and $W_{deg}$ is the power necessary to increase the target tissue by $1^\\circ$C.  Three commonly used thermal indices are the thermal index of soft tissue (TIS), the thermal index of bone (TIB) and the thermal index of cranial bone (TIC). Recommendation is that at a TI value of 2.0 the examination should not exceed 60 min, while at a TI of 3.0 the duration should be reduced to 15 min.\n"
   ]
  },
  {
   "cell_type": "markdown",
   "metadata": {},
   "source": [
    "## High Intensity Focused Ultrasound"
   ]
  },
  {
   "cell_type": "code",
   "execution_count": 2,
   "metadata": {
    "collapsed": false,
    "donotlatex": true,
    "hide_input": true
   },
   "outputs": [
    {
     "data": {
      "image/jpeg": "[encoded data removed]",
      "text/html": [
       "\n",
       "        <iframe\n",
       "            width=\"800\"\n",
       "            height=\"600\"\n",
       "            src=\"https://www.youtube.com/embed/NI5UobguS2E\"\n",
       "            frameborder=\"0\"\n",
       "            allowfullscreen\n",
       "        ></iframe>\n",
       "        "
      ],
      "text/plain": [
       "<IPython.lib.display.YouTubeVideo at 0x1041d36d0>"
      ]
     },
     "execution_count": 2,
     "metadata": {},
     "output_type": "execute_result"
    }
   ],
   "source": [
    "from IPython.display import YouTubeVideo\n",
    "YouTubeVideo(\"NI5UobguS2E\",width=800, height=600)"
   ]
  },
  {
   "cell_type": "markdown",
   "metadata": {},
   "source": [
    "A general introduction is available [here](http://www.myvmc.com/treatments/high-intensity-focused-ultrasound-hifu)."
   ]
  },
  {
   "cell_type": "markdown",
   "metadata": {},
   "source": [
    "## Histotripsy\n"
   ]
  },
  {
   "cell_type": "code",
   "execution_count": 3,
   "metadata": {
    "collapsed": false,
    "donotlatex": true
   },
   "outputs": [
    {
     "data": {
      "image/jpeg": "[encoded data removed]",
      "text/html": [
       "\n",
       "        <iframe\n",
       "            width=\"800\"\n",
       "            height=\"600\"\n",
       "            src=\"https://www.youtube.com/embed/pHvHg5ZvrdU\"\n",
       "            frameborder=\"0\"\n",
       "            allowfullscreen\n",
       "        ></iframe>\n",
       "        "
      ],
      "text/plain": [
       "<IPython.lib.display.YouTubeVideo at 0x104209ad0>"
      ]
     },
     "execution_count": 3,
     "metadata": {},
     "output_type": "execute_result"
    }
   ],
   "source": [
    "YouTubeVideo(\"pHvHg5ZvrdU\",width=800, height=600)"
   ]
  },
  {
   "cell_type": "markdown",
   "metadata": {},
   "source": [
    "A general introduction is available [here](./pdfs/histotripsy.pdf) and a website with ample information is available [here](http://www.histotripsy.umich.edu)"
   ]
  },
  {
   "cell_type": "code",
   "execution_count": 2,
   "metadata": {
    "collapsed": false,
    "hide_input": true
   },
   "outputs": [
    {
     "data": {
      "text/html": [
       "<link href='http://fonts.googleapis.com/css?family=Fenix' rel='stylesheet' type='text/css'>\n",
       "<link href='http://fonts.googleapis.com/css?family=Alegreya+Sans:100,300,400,500,700,800,900,100italic,300italic,400italic,500italic,700italic,800italic,900italic' rel='stylesheet' type='text/css'>\n",
       "<link href='http://fonts.googleapis.com/css?family=Source+Code+Pro:300,400' rel='stylesheet' type='text/css'>\n",
       "<style>\n",
       "@font-face {\n",
       "font-family: \"Computer Modern\";\n",
       "src: url('http://mirrors.ctan.org/fonts/cm-unicode/fonts/otf/cmunss.otf');\n",
       "}\n",
       "div.cell{\n",
       "\twidth:900px;\n",
       "\tmargin-left:5% !important;\n",
       "\tmargin-right:auto;\n",
       "}\n",
       "div.YourWork{\n",
       "\tbackground-color: #FFCC66;\n",
       "}\n",
       "div.Detail{\n",
       "\tbackground-color: #DDEEDD;\n",
       "\tfont-size: 80%;\n",
       "\tborder: 1px solid black;\n",
       "\tpadding: 10px;\t\t\n",
       "}\n",
       "div.Figure{\n",
       "\tborder: 1px solid black;\n",
       "\tpadding: 10px;\n",
       "\ttext-align: center;\n",
       "\tmargin: 30px;\n",
       "}\n",
       "h1 {\n",
       "font-family: 'Alegreya Sans', sans-serif;\n",
       "}\n",
       "h2 {\n",
       "font-family: 'Fenix', serif;\n",
       "}\n",
       "h3{\n",
       "font-family: 'Fenix', serif;\n",
       "margin-top:12px;\n",
       "margin-bottom: 3px;\n",
       "}\n",
       "h4{\n",
       "font-family: 'Fenix', serif;\n",
       "}\n",
       "h5 {\n",
       "font-family: 'Alegreya Sans', sans-serif;\n",
       "}\n",
       "div.text_cell_render{\n",
       "font-family: 'Alegreya Sans',Computer Modern, \"Helvetica Neue\", Arial, Helvetica, Geneva, sans-serif;\n",
       "line-height: 135%;\n",
       "font-size: 140%;\n",
       "width:800px;\n",
       "margin-left:auto;\n",
       "margin-right:auto;\n",
       "}\n",
       ".CodeMirror{\n",
       "font-family: \"Source Code Pro\";\n",
       "font-size: 100%;\n",
       "}\n",
       ".rendered_html code{\n",
       "\tbackground-color: transparent;\t\n",
       "}\n",
       "/* .prompt{\n",
       "display: None;\n",
       "}*/\n",
       ".text_cell_render h1 {\n",
       "font-weight: 120;\n",
       "font-size: 30pt;\n",
       "line-height: 100%;\n",
       "color:#CD2305;\n",
       "margin-bottom: 0.5em;\n",
       "margin-top: 0.5em;\n",
       "display: block;\n",
       "}\n",
       ".text_cell_render h5 {\n",
       "font-weight: 300;\n",
       "font-size: 12pt;\n",
       "margin-bottom: 0.5em;\n",
       "margin-top: 0.5em;\n",
       "display: block;\n",
       "border-style: double;\n",
       "border-width: medium;\n",
       "border-color: black;\n",
       "background-color: #F0F0F0;\n",
       "text-align: center;\n",
       "}\n",
       ".warning{\n",
       "color: rgb( 240, 20, 20 )\n",
       "}\n",
       "</style>\n",
       "<script>\n",
       "MathJax.Hub.Config({\n",
       "TeX: {\n",
       "extensions: [\"AMSmath.js\"]\n",
       "},\n",
       "tex2jax: {\n",
       "inlineMath: [ ['$','$'], [\"\\\\(\",\"\\\\)\"] ],\n",
       "displayMath: [ ['$$','$$'], [\"\\\\[\",\"\\\\]\"] ]\n",
       "},\n",
       "displayAlign: 'center', // Change this to 'center' to center equations.\n",
       "\"HTML-CSS\": {\n",
       "styles: {'.MathJax_Display': {\"margin\": 4}}\n",
       "}\n",
       "});\n",
       "</script>"
      ],
      "text/plain": [
       "<IPython.core.display.HTML object>"
      ]
     },
     "execution_count": 2,
     "metadata": {},
     "output_type": "execute_result"
    }
   ],
   "source": [
    "from IPython.core.display import HTML\n",
    "def css_styling():\n",
    "    styles = open(\"styles/custom2.css\", \"r\").read()\n",
    "    return HTML(styles)\n",
    "css_styling()"
   ]
  },
  {
   "cell_type": "code",
   "execution_count": null,
   "metadata": {
    "collapsed": true
   },
   "outputs": [],
   "source": []
  }
 ],
 "metadata": {
  "kernelspec": {
   "display_name": "Python 2",
   "language": "python",
   "name": "python2"
  },
  "language_info": {
   "codemirror_mode": {
    "name": "ipython",
    "version": 2
   },
   "file_extension": ".py",
   "mimetype": "text/x-python",
   "name": "python",
   "nbconvert_exporter": "python",
   "pygments_lexer": "ipython2",
   "version": "2.7.12"
  },
  "latex_metadata": {
   "affiliation": "SPMS/PAP, NTU, Singapore",
   "author": "Claus-Dieter Ohl",
   "title": "PH4606 - Lecture 6"
  },
  "widgets": {
   "state": {
    "302e8413a8cb4e3498c953b5ee5a68c2": {
     "views": [
      {
       "cell_index": 4
      }
     ]
    },
    "363f3138c6424b3ba47bcd4bc6cc63d1": {
     "views": [
      {
       "cell_index": 4
      }
     ]
    },
    "36b0343854f548078ebed4263631d9ef": {
     "views": [
      {
       "cell_index": 4
      }
     ]
    },
    "38f7c73fbf52478badb12a9df4b7920c": {
     "views": [
      {
       "cell_index": 4
      }
     ]
    },
    "3998e6d4b24f497fa6b559820a578178": {
     "views": [
      {
       "cell_index": 4
      }
     ]
    },
    "46d42da472214001bae855f625dd12aa": {
     "views": [
      {
       "cell_index": 4
      }
     ]
    },
    "4c06b5d7e7d2457faa844b28792aa0af": {
     "views": [
      {
       "cell_index": 4
      }
     ]
    },
    "53d9713c8b7f47f39e24970f885a3872": {
     "views": [
      {
       "cell_index": 4
      }
     ]
    },
    "5fb3b840176e4eba8b6dfa9715bb0080": {
     "views": [
      {
       "cell_index": 4
      }
     ]
    },
    "6057fab639ee4f7babed49604ecaf81c": {
     "views": [
      {
       "cell_index": 4
      }
     ]
    },
    "73cbcbbe9060421f97bee8729c3f9b31": {
     "views": [
      {
       "cell_index": 4
      }
     ]
    },
    "7499ed365aae45e3a02df1cb04431d01": {
     "views": [
      {
       "cell_index": 4
      }
     ]
    },
    "8f27c93c0fdf4875a4e4074f11aefb4e": {
     "views": [
      {
       "cell_index": 4
      }
     ]
    },
    "9793b6e09f98427495b72991e6d6f7be": {
     "views": [
      {
       "cell_index": 4
      }
     ]
    },
    "9d25e75994b2484b978a5b51b52563fe": {
     "views": [
      {
       "cell_index": 4
      }
     ]
    },
    "e03c019ca3664ab8ad60a013d3b8eb87": {
     "views": [
      {
       "cell_index": 4
      }
     ]
    },
    "f385ff95062840ea9246bc3b7cd2f0dc": {
     "views": [
      {
       "cell_index": 4
      }
     ]
    },
    "f8ce2bbbc26b42c797b7fbebfaf46012": {
     "views": [
      {
       "cell_index": 4
      }
     ]
    }
   },
   "version": "1.2.0"
  }
 },
 "nbformat": 4,
 "nbformat_minor": 0
}
