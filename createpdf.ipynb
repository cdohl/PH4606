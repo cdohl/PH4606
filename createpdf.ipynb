{
 "cells": [
  {
   "cell_type": "code",
   "execution_count": 17,
   "metadata": {
    "collapsed": false
   },
   "outputs": [
    {
     "name": "stdout",
     "output_type": "stream",
     "text": [
      "lecture\\ 1\n",
      "lecture\\ 2\n",
      "lecture\\ 3\n",
      "lecture\\ 4\n",
      "lecture\\ 5\n",
      "lecture\\ 6\n",
      "detailed\\ derivation\\ potential\\ energy\n"
     ]
    }
   ],
   "source": [
    "import subprocess\n",
    "\n",
    "fnames=['lecture\\ 1','lecture\\ 2','lecture\\ 3','lecture\\ 4', \\\n",
    "        'lecture\\ 5','lecture\\ 6','detailed\\ derivation\\ potential\\ energy']\n",
    "\n",
    "try:\n",
    "    a4=subprocess.check_output('mkdir pdfs',shell=True)\n",
    "except: \n",
    "    pass   \n",
    "\n",
    "for f in fnames:\n",
    "    print f\n",
    "    \n",
    "    a1=subprocess.check_output(\n",
    "        'jupyter nbconvert --to latex --template lecture_article '+f+'.ipynb', shell=True)\n",
    "    #run it twice to get the references to equations right\n",
    "    a2=subprocess.check_output('pdflatex '+f+'.tex', shell=True)\n",
    "    a2=subprocess.check_output('pdflatex '+f+'.tex', shell=True)\n",
    "    #clean up\n",
    "    a3=subprocess.check_output('rm '+f+'.out '+f+'.log '+f+'.aux '+f+'.tex', shell=True)\n",
    "    #move\n",
    "    a4=subprocess.check_output('mv '+f+'.pdf pdfs\\\\', shell=True)\n",
    "    \n"
   ]
  },
  {
   "cell_type": "code",
   "execution_count": null,
   "metadata": {
    "collapsed": true
   },
   "outputs": [],
   "source": []
  }
 ],
 "metadata": {
  "kernelspec": {
   "display_name": "Python 2",
   "language": "python",
   "name": "python2"
  },
  "language_info": {
   "codemirror_mode": {
    "name": "ipython",
    "version": 2
   },
   "file_extension": ".py",
   "mimetype": "text/x-python",
   "name": "python",
   "nbconvert_exporter": "python",
   "pygments_lexer": "ipython2",
   "version": "2.7.11"
  }
 },
 "nbformat": 4,
 "nbformat_minor": 0
}
