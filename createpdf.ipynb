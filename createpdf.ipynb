{
 "cells": [
  {
   "cell_type": "code",
   "execution_count": 1,
   "metadata": {
    "collapsed": false
   },
   "outputs": [
    {
     "name": "stdout",
     "output_type": "stream",
     "text": [
      "lecture\\ 1\n"
     ]
    },
    {
     "ename": "CalledProcessError",
     "evalue": "Command 'jupyter nbconvert --to latex --template lecture_article lecture\\ 1.ipynb' returned non-zero exit status -1",
     "output_type": "error",
     "traceback": [
      "\u001b[1;31m---------------------------------------------------------------------------\u001b[0m",
      "\u001b[1;31mCalledProcessError\u001b[0m                        Traceback (most recent call last)",
      "\u001b[1;32m<ipython-input-1-d19ea3195e5a>\u001b[0m in \u001b[0;36m<module>\u001b[1;34m()\u001b[0m\n\u001b[0;32m     12\u001b[0m \u001b[1;33m\u001b[0m\u001b[0m\n\u001b[0;32m     13\u001b[0m     a1=subprocess.check_output(\n\u001b[1;32m---> 14\u001b[1;33m         'jupyter nbconvert --to latex --template lecture_article '+f+'.ipynb', shell=True)\n\u001b[0m\u001b[0;32m     15\u001b[0m     \u001b[1;31m#run it twice to get the references to equations right\u001b[0m\u001b[1;33m\u001b[0m\u001b[1;33m\u001b[0m\u001b[0m\n\u001b[0;32m     16\u001b[0m     \u001b[0ma2\u001b[0m\u001b[1;33m=\u001b[0m\u001b[0msubprocess\u001b[0m\u001b[1;33m.\u001b[0m\u001b[0mcheck_output\u001b[0m\u001b[1;33m(\u001b[0m\u001b[1;34m'pdflatex '\u001b[0m\u001b[1;33m+\u001b[0m\u001b[0mf\u001b[0m\u001b[1;33m+\u001b[0m\u001b[1;34m'.tex'\u001b[0m\u001b[1;33m,\u001b[0m \u001b[0mshell\u001b[0m\u001b[1;33m=\u001b[0m\u001b[0mTrue\u001b[0m\u001b[1;33m)\u001b[0m\u001b[1;33m\u001b[0m\u001b[0m\n",
      "\u001b[1;32mC:\\Users\\cdohl\\AppData\\Local\\Continuum\\Anaconda\\lib\\subprocess.pyc\u001b[0m in \u001b[0;36mcheck_output\u001b[1;34m(*popenargs, **kwargs)\u001b[0m\n\u001b[0;32m    571\u001b[0m         \u001b[1;32mif\u001b[0m \u001b[0mcmd\u001b[0m \u001b[1;32mis\u001b[0m \u001b[0mNone\u001b[0m\u001b[1;33m:\u001b[0m\u001b[1;33m\u001b[0m\u001b[0m\n\u001b[0;32m    572\u001b[0m             \u001b[0mcmd\u001b[0m \u001b[1;33m=\u001b[0m \u001b[0mpopenargs\u001b[0m\u001b[1;33m[\u001b[0m\u001b[1;36m0\u001b[0m\u001b[1;33m]\u001b[0m\u001b[1;33m\u001b[0m\u001b[0m\n\u001b[1;32m--> 573\u001b[1;33m         \u001b[1;32mraise\u001b[0m \u001b[0mCalledProcessError\u001b[0m\u001b[1;33m(\u001b[0m\u001b[0mretcode\u001b[0m\u001b[1;33m,\u001b[0m \u001b[0mcmd\u001b[0m\u001b[1;33m,\u001b[0m \u001b[0moutput\u001b[0m\u001b[1;33m=\u001b[0m\u001b[0moutput\u001b[0m\u001b[1;33m)\u001b[0m\u001b[1;33m\u001b[0m\u001b[0m\n\u001b[0m\u001b[0;32m    574\u001b[0m     \u001b[1;32mreturn\u001b[0m \u001b[0moutput\u001b[0m\u001b[1;33m\u001b[0m\u001b[0m\n\u001b[0;32m    575\u001b[0m \u001b[1;33m\u001b[0m\u001b[0m\n",
      "\u001b[1;31mCalledProcessError\u001b[0m: Command 'jupyter nbconvert --to latex --template lecture_article lecture\\ 1.ipynb' returned non-zero exit status -1"
     ]
    }
   ],
   "source": [
    "import subprocess\n",
    "\n",
    "fnames=['lecture\\ 1','lecture\\ 2','lecture\\ 3','lecture\\ 4', 'detailed\\ derivation\\ potential\\ energy']\n",
    "\n",
    "try:\n",
    "    a4=subprocess.check_output('mkdir pdfs',shell=True)\n",
    "except: \n",
    "    pass   \n",
    "\n",
    "for f in fnames:\n",
    "    print f\n",
    "    \n",
    "    a1=subprocess.check_output(\n",
    "        'jupyter nbconvert --to latex --template lecture_article '+f+'.ipynb', shell=True)\n",
    "    #run it twice to get the references to equations right\n",
    "    a2=subprocess.check_output('pdflatex '+f+'.tex', shell=True)\n",
    "    a2=subprocess.check_output('pdflatex '+f+'.tex', shell=True)\n",
    "    #clean up\n",
    "    a3=subprocess.check_output('rm '+f+'.out '+f+'.log '+f+'.aux '+f+'.tex', shell=True)\n",
    "    #move\n",
    "    a4=subprocess.check_output('mv '+f+'.pdf pdfs\\\\', shell=True)\n",
    "    \n"
   ]
  },
  {
   "cell_type": "code",
   "execution_count": null,
   "metadata": {
    "collapsed": true
   },
   "outputs": [],
   "source": []
  }
 ],
 "metadata": {
  "kernelspec": {
   "display_name": "Python 2",
   "language": "python",
   "name": "python2"
  },
  "language_info": {
   "codemirror_mode": {
    "name": "ipython",
    "version": 2
   },
   "file_extension": ".py",
   "mimetype": "text/x-python",
   "name": "python",
   "nbconvert_exporter": "python",
   "pygments_lexer": "ipython2",
   "version": "2.7.11"
  }
 },
 "nbformat": 4,
 "nbformat_minor": 0
}
