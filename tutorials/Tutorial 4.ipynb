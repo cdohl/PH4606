{
 "cells": [
  {
   "cell_type": "markdown",
   "metadata": {},
   "source": [
    "$$\n",
    "\\newcommand{\\fudm}[2]{\\frac{\\mathrm{D} #1}{\\mathrm{D} #2}}\n",
    "\\newcommand{\\pad}[2]{\\frac{\\partial #1}{\\partial #2}}\n",
    "\\newcommand{\\ppad}[2]{\\frac{\\partial^2 #1}{\\partial #2^2}}\n",
    "\\newcommand{\\ppadd}[3]{\\frac{\\partial^2 #1}{\\partial #2 \\partial #3}}\n",
    "\\newcommand{\\nnabla}{\\nabla^2}\n",
    "\\newcommand{\\eps}{\\epsilon}\n",
    "\\newcommand{\\vdetail}[1]{\\vb{#1}=\\begin{pmatrix}#1_1\\\\#1_2\\\\#1_3\\end{pmatrix}}\n",
    "\\newcommand{\\vb}[1]{\\mathbf{#1}}\n",
    "\\newcommand{\\va}[1]{\\vec{#1}}\n",
    "\\newcommand{\\tb}[1]{\\underline{\\underline{\\mathbf{#1}}}}\n",
    "\\newcommand{\\fud}[2]{\\frac{\\mathrm{d} #1}{\\mathrm{d} #2}}\n",
    "$$"
   ]
  },
  {
   "cell_type": "markdown",
   "metadata": {},
   "source": [
    "# Tutorial 4"
   ]
  },
  {
   "cell_type": "markdown",
   "metadata": {
    "collapsed": true
   },
   "source": [
    "### Outline\n",
    "\n",
    "- Plotting with Python. Example: magnitude and phase of the reflection coefficient\n",
    "\n",
    "- Acoustic impedance for a planar wave \n",
    "\n",
    "- Questions about Homework 1 and Project 2 "
   ]
  },
  {
   "cell_type": "markdown",
   "metadata": {},
   "source": [
    "### Plotting with Python. Example: magnitude and phase of the reflection coefficient\n",
    "\n",
    "#### From lecture 5 \n",
    "\n",
    "<img src=\"images/Lecture 5 Fig1.png\" width=350> <p>\n",
    "<center> <a id='fig5.1'>Figure 5.1: </a>Reflection and transmission of a plane wave under normal incidence of a planar boundary between two fluids of different characteristic impedances</center>\n",
    "\n",
    "Case $c_2/c_1=0.9$ and $r_2/r_1=0.9$ \n",
    "\n",
    "\n",
    "Help: many plots are present in Prof. Ohl's lectures or in the previous tutorials, take inspiration."
   ]
  },
  {
   "cell_type": "code",
   "execution_count": 23,
   "metadata": {
    "collapsed": true
   },
   "outputs": [],
   "source": [
    "## Boilerplate\n",
    "%matplotlib inline \n",
    "import numpy as np #array operations\n",
    "import matplotlib.pyplot as plt #plotting\n",
    "import pylab\n",
    "pylab.rcParams['figure.figsize'] = (10, 6)\n",
    "pylab.rcParams['font.size'] = 15"
   ]
  },
  {
   "cell_type": "markdown",
   "metadata": {},
   "source": [
    "### Acoustic impedance for a planar wave \n",
    "\n",
    "We recall the acoustic impedance is termed as (lecture 3):\n",
    "\n",
    "\\begin{equation}\n",
    "Z=\\frac{p}{u}\\tag{3.14}\\quad,\n",
    "\\end{equation}\n",
    "\n",
    "Derive this equation for a harmonic plane wave."
   ]
  },
  {
   "cell_type": "markdown",
   "metadata": {},
   "source": [
    "### Questions about Homework 1 and Project 2 \n",
    "\n",
    "Ask questions when it is still not too late !!!"
   ]
  },
  {
   "cell_type": "code",
   "execution_count": null,
   "metadata": {
    "collapsed": true
   },
   "outputs": [],
   "source": []
  }
 ],
 "metadata": {
  "anaconda-cloud": {},
  "kernelspec": {
   "display_name": "Python [Root]",
   "language": "python",
   "name": "Python [Root]"
  },
  "language_info": {
   "codemirror_mode": {
    "name": "ipython",
    "version": 2
   },
   "file_extension": ".py",
   "mimetype": "text/x-python",
   "name": "python",
   "nbconvert_exporter": "python",
   "pygments_lexer": "ipython2",
   "version": "2.7.12"
  }
 },
 "nbformat": 4,
 "nbformat_minor": 0
}
