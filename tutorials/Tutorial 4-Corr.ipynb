{
 "cells": [
  {
   "cell_type": "markdown",
   "metadata": {},
   "source": [
    "$$\n",
    "\\newcommand{\\fudm}[2]{\\frac{\\mathrm{D} #1}{\\mathrm{D} #2}}\n",
    "\\newcommand{\\pad}[2]{\\frac{\\partial #1}{\\partial #2}}\n",
    "\\newcommand{\\ppad}[2]{\\frac{\\partial^2 #1}{\\partial #2^2}}\n",
    "\\newcommand{\\ppadd}[3]{\\frac{\\partial^2 #1}{\\partial #2 \\partial #3}}\n",
    "\\newcommand{\\nnabla}{\\nabla^2}\n",
    "\\newcommand{\\eps}{\\epsilon}\n",
    "\\newcommand{\\vdetail}[1]{\\vb{#1}=\\begin{pmatrix}#1_1\\\\#1_2\\\\#1_3\\end{pmatrix}}\n",
    "\\newcommand{\\vb}[1]{\\mathbf{#1}}\n",
    "\\newcommand{\\va}[1]{\\vec{#1}}\n",
    "\\newcommand{\\tb}[1]{\\underline{\\underline{\\mathbf{#1}}}}\n",
    "\\newcommand{\\fud}[2]{\\frac{\\mathrm{d} #1}{\\mathrm{d} #2}}\n",
    "$$"
   ]
  },
  {
   "cell_type": "markdown",
   "metadata": {},
   "source": [
    "# Tutorial 4"
   ]
  },
  {
   "cell_type": "markdown",
   "metadata": {
    "collapsed": true
   },
   "source": [
    "### Outline\n",
    "\n",
    "- Plotting with Python. Example: magnitude and phase of the reflection coefficient\n",
    "\n",
    "- Acoustic impedance for a planar wave \n",
    "\n",
    "- Questions about Homework 1 and Project 2 "
   ]
  },
  {
   "cell_type": "markdown",
   "metadata": {},
   "source": [
    "### Plotting with Python. Example: magnitude and phase of the reflection coefficient\n",
    "\n",
    "#### From lecture 5 \n",
    "\n",
    "<img src=\"images/Lecture 5 Fig1.png\" width=350> <p>\n",
    "<center> <a id='fig5.1'>Figure 5.1: </a>Reflection and transmission of a plane wave under normal incidence of a planar boundary between two fluids of different characteristic impedances</center>\n",
    "\n",
    "Case $c_2/c_1=0.9$ and $r_2/r_1=0.9$ \n",
    "\n",
    "\n",
    "Help: many plots are present in Prof. Ohl's lectures or in the previous tutorials, take inspiration."
   ]
  },
  {
   "cell_type": "code",
   "execution_count": 2,
   "metadata": {
    "collapsed": true
   },
   "outputs": [],
   "source": [
    "## Boilerplate\n",
    "%matplotlib inline \n",
    "import numpy as np #array operations\n",
    "import matplotlib.pyplot as plt #plotting\n",
    "import pylab\n",
    "pylab.rcParams['figure.figsize'] = (10, 6)\n",
    "pylab.rcParams['font.size'] = 15"
   ]
  },
  {
   "cell_type": "code",
   "execution_count": 3,
   "metadata": {
    "collapsed": false
   },
   "outputs": [
    {
     "data": {
      "image/png": "[encoded data removed]",
      "text/plain": [
       "<matplotlib.figure.Figure at 0x40ccfd0>"
      ]
     },
     "metadata": {},
     "output_type": "display_data"
    }
   ],
   "source": [
    "qc = 0.9 # c2/c1\n",
    "qr = 0.9 # r2/r1\n",
    "ntheta = 181 # number of point \n",
    "thetai = np.linspace(0, 90, num=ntheta, endpoint=True) # array of angles\n",
    "R = np.zeros(ntheta) # zeros-array same size than theta for the magnitude\n",
    "phi = np.zeros(ntheta) # zeros-array same size than theta for the phase\n",
    "\n",
    "for x in range(ntheta): # iterate for all angles \n",
    "    \n",
    "    xx = thetai[x]\n",
    "    costhetat = np.sqrt(1-qc*qc*np.sin(xx*np.pi/180)*np.sin(xx*np.pi/180))\n",
    "    R[x] = (qr*np.cos(xx*np.pi/180)-costhetat)/(qr*np.cos(xx*np.pi/180)+costhetat)    \n",
    "    \n",
    "    if (qr*np.cos(xx*np.pi/180)-costhetat)/(qr*np.cos(xx*np.pi/180)+costhetat) < 0 :\n",
    "        phi[x] = np.pi\n",
    "    elif (qr*np.cos(xx*np.pi/180)-costhetat)/(qr*np.cos(xx*np.pi/180)+costhetat) > 0 :\n",
    "        phi[x] = 0\n",
    "\n",
    "plt.figure(1)\n",
    "plt.subplot(211)\n",
    "plt.plot(thetai,R,(0, 90),(0,0), 'g--')\n",
    "plt.axis([0, 90, -1, 1])\n",
    "plt.ylabel('R');\n",
    "\n",
    "unit   = 0.5\n",
    "y_tick = np.arange(0, 2, unit)\n",
    "y_label = [r\"$\" + format(r, \".2g\")+ r\"\\pi$\" for r in y_tick]\n",
    "\n",
    "ax = plt.subplot(212)\n",
    "plt.plot(thetai, phi)\n",
    "plt.axis([0, 90, 0, 2.*np.pi])\n",
    "plt.xlabel('angle in degres')\n",
    "plt.ylabel('Phase');\n",
    "ax.set_yticks(y_tick*np.pi);\n",
    "ax.set_yticklabels(y_label);"
   ]
  },
  {
   "cell_type": "markdown",
   "metadata": {},
   "source": [
    "### Acoustic impedance for a planar wave \n",
    "\n",
    "We recall the acoustic impedance is termed as (lecture 3):\n",
    "\n",
    "\\begin{equation}\n",
    "Z=\\frac{p}{u}\\tag{3.14}\\quad,\n",
    "\\end{equation}\n",
    "\n",
    "Derive this equation for a harmonic plane wave."
   ]
  },
  {
   "cell_type": "code",
   "execution_count": null,
   "metadata": {
    "collapsed": true
   },
   "outputs": [],
   "source": []
  },
  {
   "cell_type": "markdown",
   "metadata": {},
   "source": [
    "\\begin{equation}\n",
    "Z=\\frac{p}{u}\\tag{3.14}\\quad,\n",
    "\\end{equation}\n",
    "\n",
    "The complex solution to the harmonic wave equation is (lecture 2)\n",
    "\n",
    "\\begin{equation}\n",
    "p=A\\,e^{i(\\omega t - k x)}+B\\,e^{i(\\omega + k x)}\\quad . \\tag{2.2}\n",
    "\\end{equation}\n",
    "\n",
    "Using the linear Euler Eq. (lecture 1 eq 1.11) we can obtain the particle velocity in a plane wave as\n",
    "\n",
    "\\begin{equation}\n",
    "\\vb{u}=u\\,\\va{e}_1=\\left[\\frac{A}{\\rho_0 c}e^{i(\\omega t - k x)}-\\frac{B}{\\rho_0 c}e^{i(\\omega t + k x)}\\right]\\va{e}_1\\tag{2.3}\n",
    "\\end{equation}\n",
    "\n",
    "If we consider a wave travelling in positive $x$-direction:\n",
    "\n",
    "\\begin{equation}\n",
    "p_+=A e^{i(\\omega t - k x)}\\tag{2.4}\n",
    "\\end{equation}\n",
    "\n",
    "\\begin{equation}\n",
    "u_{+}= \\frac{p_+}{\\rho_0 c}= \\frac{A e^{i(\\omega t - k x)}}{\\rho_0 c}\\tag{eq:2.6}\\\\\n",
    "\\end{equation}\n",
    "\n",
    "\\begin{equation}\n",
    "Z_+=\\frac{p_+}{u_+} = \\rho_0 c \n",
    "\\end{equation}"
   ]
  },
  {
   "cell_type": "markdown",
   "metadata": {},
   "source": [
    "### Questions about Homework 1 and Project 2 \n",
    "\n",
    "Ask questions when it is still not too late !!!"
   ]
  },
  {
   "cell_type": "code",
   "execution_count": null,
   "metadata": {
    "collapsed": true
   },
   "outputs": [],
   "source": []
  }
 ],
 "metadata": {
  "anaconda-cloud": {},
  "kernelspec": {
   "display_name": "Python [Root]",
   "language": "python",
   "name": "Python [Root]"
  },
  "language_info": {
   "codemirror_mode": {
    "name": "ipython",
    "version": 2
   },
   "file_extension": ".py",
   "mimetype": "text/x-python",
   "name": "python",
   "nbconvert_exporter": "python",
   "pygments_lexer": "ipython2",
   "version": "2.7.12"
  }
 },
 "nbformat": 4,
 "nbformat_minor": 0
}
